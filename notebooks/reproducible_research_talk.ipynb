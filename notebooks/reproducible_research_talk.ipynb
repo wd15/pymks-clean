{
 "metadata": {
  "name": ""
 },
 "nbformat": 3,
 "nbformat_minor": 0,
 "worksheets": [
  {
   "cells": [
    {
     "cell_type": "markdown",
     "metadata": {},
     "source": [
      "# Reproducible Research\n",
      "\n",
      " - Recent paper: http://jes.ecsdl.org/content/160/12/D3260.abstract\n",
      " \n",
      "Things to do to make paper reproducible\n",
      "\n",
      " - http://ivory.idyll.org/blog/replication-i.html\n",
      "\n",
      "            \n",
      "Here's what I've done\n",
      "\n",
      " - IPython notebooks for figures (useless without simulation data and meta-data)\n",
      "\n",
      "   - http://nbviewer.ipython.org/github/wd15/extremefill2D/blob/master/notebooks/fig5_image.ipynb\n",
      " \n",
      " - Github repository with code\n",
      "\n",
      "   - https://github.com/wd15/extremefill2D\n",
      " \n",
      " - Simulation meta-data in a repository (not public yet)\n",
      " \n",
      "Not really reproducible yet\n",
      " \n",
      "What do I need to do?\n",
      "\n",
      " - Release simulation meta-data\n",
      " \n",
      " - Release simulation data\n",
      " \n",
      "   - where do I put 10 GB of simulation data\n",
      " \n",
      " - No paper repository, written in Word by colleague\n",
      " \n",
      " - Amazon machine image of environment\n",
      " \n",
      " - Continuous integration testing\n",
      "\n",
      "What do I do now with limited time?\n",
      "\n",
      "What else is required?"
     ]
    },
    {
     "cell_type": "code",
     "collapsed": false,
     "input": [],
     "language": "python",
     "metadata": {},
     "outputs": []
    }
   ],
   "metadata": {}
  }
 ]
}