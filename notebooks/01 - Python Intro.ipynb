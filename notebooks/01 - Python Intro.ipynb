{
 "metadata": {
  "name": ""
 },
 "nbformat": 3,
 "nbformat_minor": 0,
 "worksheets": [
  {
   "cells": [
    {
     "cell_type": "markdown",
     "metadata": {},
     "source": [
      "# Tutorial Overview\n",
      "\n",
      "The goal of this tutorial is to introduce the MKS while advancing our knowledge of scientific Python.\n",
      "\n",
      "The tutorial consists of 6 notebooks.\n",
      "\n",
      " - Introduce scientific computing with Python\n",
      "   - introduces the most basic concepts\n",
      "   - for those who really have no Python exposure\n",
      "   - doesn't require participation\n",
      "   \n",
      " - Introduce MKS\n",
      "   - basic equations \n",
      "   - MKS in real space\n",
      "   - MKS in Fourier space\n",
      "   - test\n",
      " \n",
      " - Simple 1D filter\n",
      "   - simple example\n",
      "   - demonstrate the importance of removing redundancies\n",
      " \n",
      " - Cross-validation\n",
      "   - introduce MKSRegressionClass\n",
      "   - how to cross-validate using Scikit-learn\n",
      " \n",
      " - Scaling coefficients\n",
      "   - how to scale up influence coefficients\n",
      " \n",
      " - Improve performance, optimize the MKS to do a full Cahn-Hilliard simulation\n",
      "   - use `numexper`, `pyfftw`, parallel IPython\n",
      "\n",
      " \n"
     ]
    },
    {
     "cell_type": "markdown",
     "metadata": {},
     "source": [
      "## Test your installation"
     ]
    },
    {
     "cell_type": "code",
     "collapsed": false,
     "input": [
      "%matplotlib inline\n",
      "%load_ext autoreload\n",
      "%autoreload 2\n",
      "\n",
      "import numpy as np\n",
      "import matplotlib.pyplot as plt\n",
      "import fipy as fp\n",
      "import pymks\n",
      "import sklearn\n",
      "import numexpr\n",
      "import line_profiler\n",
      "import pyfftw\n",
      "\n",
      "pymks.test()\n",
      "plt.plot(np.sin(np.linspace(0, 2 * np.pi, 1000)))"
     ],
     "language": "python",
     "metadata": {},
     "outputs": [
      {
       "output_type": "stream",
       "stream": "stdout",
       "text": [
        "The autoreload extension is already loaded. To reload it, use:\n",
        "  %reload_ext autoreload\n"
       ]
      },
      {
       "metadata": {},
       "output_type": "pyout",
       "prompt_number": 7,
       "text": [
        "[<matplotlib.lines.Line2D at 0x6247990>]"
       ]
      },
      {
       "metadata": {},
       "output_type": "display_data",
       "png": "[encoded data removed]",
       "text": [
        "<matplotlib.figure.Figure at 0x53b7b50>"
       ]
      }
     ],
     "prompt_number": 7
    },
    {
     "cell_type": "markdown",
     "metadata": {},
     "source": [
      "# Scientific computing in Python\n",
      "\n",
      "A gentle introduction to scientific computing with Python.\n",
      "\n",
      " - Python data structures\n",
      " - Numpy\n",
      " - IPython notebook\n",
      "   - profiling\n",
      "   - parallel"
     ]
    },
    {
     "cell_type": "markdown",
     "metadata": {},
     "source": [
      "## Python Data Structures\n",
      "\n",
      "Python has 4 important container types, lists, tuples, dictionaries and sets."
     ]
    },
    {
     "cell_type": "code",
     "collapsed": false,
     "input": [
      "my_list = ['a', 1, 2, 1.1, 'a']\n",
      "type(my_list)"
     ],
     "language": "python",
     "metadata": {},
     "outputs": [
      {
       "metadata": {},
       "output_type": "pyout",
       "prompt_number": 5,
       "text": [
        "list"
       ]
      }
     ],
     "prompt_number": 5
    },
    {
     "cell_type": "code",
     "collapsed": false,
     "input": [
      "my_tuple = ('a', 1, 2, 1.1, 'a')\n",
      "type(my_tuple)"
     ],
     "language": "python",
     "metadata": {},
     "outputs": [
      {
       "metadata": {},
       "output_type": "pyout",
       "prompt_number": 6,
       "text": [
        "tuple"
       ]
      }
     ],
     "prompt_number": 6
    },
    {
     "cell_type": "code",
     "collapsed": false,
     "input": [
      "my_dict = {'a':  'a', 'b' : 1, 1 : 2,  2.1 : 1.1,  'e' : 'a'}\n",
      "type(my_dict)"
     ],
     "language": "python",
     "metadata": {},
     "outputs": [
      {
       "metadata": {},
       "output_type": "pyout",
       "prompt_number": 29,
       "text": [
        "dict"
       ]
      }
     ],
     "prompt_number": 29
    },
    {
     "cell_type": "code",
     "collapsed": false,
     "input": [
      "my_set = set(my_list)\n",
      "print my_set\n",
      "type(my_set)"
     ],
     "language": "python",
     "metadata": {},
     "outputs": [
      {
       "output_type": "stream",
       "stream": "stdout",
       "text": [
        "set(['a', 1, 2, 1.1])\n"
       ]
      },
      {
       "metadata": {},
       "output_type": "pyout",
       "prompt_number": 12,
       "text": [
        "set"
       ]
      }
     ],
     "prompt_number": 12
    },
    {
     "cell_type": "markdown",
     "metadata": {},
     "source": [
      "Lists are mutable"
     ]
    },
    {
     "cell_type": "code",
     "collapsed": false,
     "input": [
      "my_list[1] = 2\n",
      "my_list"
     ],
     "language": "python",
     "metadata": {},
     "outputs": [
      {
       "metadata": {},
       "output_type": "pyout",
       "prompt_number": 16,
       "text": [
        "['a', 2, 2, 1.1, 'a']"
       ]
      }
     ],
     "prompt_number": 16
    },
    {
     "cell_type": "markdown",
     "metadata": {},
     "source": [
      "and can be generated succinctly with \"list comprehensions\""
     ]
    },
    {
     "cell_type": "code",
     "collapsed": false,
     "input": [
      "[i**2 for i in range(4)]"
     ],
     "language": "python",
     "metadata": {},
     "outputs": [
      {
       "metadata": {},
       "output_type": "pyout",
       "prompt_number": 229,
       "text": [
        "[0, 1, 4, 9]"
       ]
      }
     ],
     "prompt_number": 229
    },
    {
     "cell_type": "markdown",
     "metadata": {},
     "source": [
      "Tuples are immutable (unchangable)"
     ]
    },
    {
     "cell_type": "code",
     "collapsed": false,
     "input": [
      "my_tuple[1] = 2"
     ],
     "language": "python",
     "metadata": {},
     "outputs": [
      {
       "ename": "TypeError",
       "evalue": "'tuple' object does not support item assignment",
       "output_type": "pyerr",
       "traceback": [
        "\u001b[1;31m---------------------------------------------------------------------------\u001b[0m\n\u001b[1;31mTypeError\u001b[0m                                 Traceback (most recent call last)",
        "\u001b[1;32m<ipython-input-17-f1d9724e2940>\u001b[0m in \u001b[0;36m<module>\u001b[1;34m()\u001b[0m\n\u001b[1;32m----> 1\u001b[1;33m \u001b[0mmy_tuple\u001b[0m\u001b[1;33m[\u001b[0m\u001b[1;36m1\u001b[0m\u001b[1;33m]\u001b[0m \u001b[1;33m=\u001b[0m \u001b[1;36m2\u001b[0m\u001b[1;33m\u001b[0m\u001b[0m\n\u001b[0m",
        "\u001b[1;31mTypeError\u001b[0m: 'tuple' object does not support item assignment"
       ]
      }
     ],
     "prompt_number": 17
    },
    {
     "cell_type": "markdown",
     "metadata": {},
     "source": [
      "Dictionaries map keys to values and support item assignment. They are [hash tables](http://en.wikipedia.org/wiki/Hash_table). Hash table look up is independent of the number of `key:value` pairs. `key` must be something hashable."
     ]
    },
    {
     "cell_type": "code",
     "collapsed": false,
     "input": [
      "print my_dict"
     ],
     "language": "python",
     "metadata": {},
     "outputs": [
      {
       "output_type": "stream",
       "stream": "stdout",
       "text": [
        "{'a': 'a', 1: 2, 2.1: 1.1, 'b': 1, 'e': 'a'}\n"
       ]
      }
     ],
     "prompt_number": 30
    },
    {
     "cell_type": "markdown",
     "metadata": {},
     "source": [
      "only immutable objects can be hashed"
     ]
    },
    {
     "cell_type": "code",
     "collapsed": false,
     "input": [
      "{[1] : 'a'}"
     ],
     "language": "python",
     "metadata": {},
     "outputs": [
      {
       "ename": "TypeError",
       "evalue": "unhashable type: 'list'",
       "output_type": "pyerr",
       "traceback": [
        "\u001b[1;31m---------------------------------------------------------------------------\u001b[0m\n\u001b[1;31mTypeError\u001b[0m                                 Traceback (most recent call last)",
        "\u001b[1;32m<ipython-input-3-a5f062075012>\u001b[0m in \u001b[0;36m<module>\u001b[1;34m()\u001b[0m\n\u001b[1;32m----> 1\u001b[1;33m \u001b[1;33m{\u001b[0m\u001b[1;33m[\u001b[0m\u001b[1;36m1\u001b[0m\u001b[1;33m]\u001b[0m \u001b[1;33m:\u001b[0m \u001b[1;34m'a'\u001b[0m\u001b[1;33m}\u001b[0m\u001b[1;33m\u001b[0m\u001b[0m\n\u001b[0m",
        "\u001b[1;31mTypeError\u001b[0m: unhashable type: 'list'"
       ]
      }
     ],
     "prompt_number": 3
    },
    {
     "cell_type": "code",
     "collapsed": false,
     "input": [
      "{(1, 2) : 'b'}"
     ],
     "language": "python",
     "metadata": {},
     "outputs": [
      {
       "metadata": {},
       "output_type": "pyout",
       "prompt_number": 4,
       "text": [
        "{(1, 2): 'b'}"
       ]
      }
     ],
     "prompt_number": 4
    },
    {
     "cell_type": "code",
     "collapsed": false,
     "input": [
      "my_dict['key'] = 'item'\n",
      "del my_dict['a']\n",
      "print my_dict"
     ],
     "language": "python",
     "metadata": {},
     "outputs": [
      {
       "output_type": "stream",
       "stream": "stdout",
       "text": [
        "{1: 2, 'b': 1, 'e': 'a', 2.1: 1.1, 'key': 'item'}\n"
       ]
      }
     ],
     "prompt_number": 31
    },
    {
     "cell_type": "markdown",
     "metadata": {},
     "source": [
      "## Python References and Assignments"
     ]
    },
    {
     "cell_type": "code",
     "collapsed": false,
     "input": [
      "x = [1, 2, 3]\n",
      "y = x\n",
      "print x\n",
      "print y"
     ],
     "language": "python",
     "metadata": {},
     "outputs": [
      {
       "output_type": "stream",
       "stream": "stdout",
       "text": [
        "[1, 2, 3]\n",
        "[1, 2, 3]\n"
       ]
      }
     ],
     "prompt_number": 3
    },
    {
     "cell_type": "code",
     "collapsed": false,
     "input": [
      "x[2] = 4\n",
      "\n",
      "print x\n",
      "print y"
     ],
     "language": "python",
     "metadata": {},
     "outputs": [
      {
       "output_type": "stream",
       "stream": "stdout",
       "text": [
        "[1, 2, 4]\n",
        "[1, 2, 4]\n"
       ]
      }
     ],
     "prompt_number": 4
    },
    {
     "cell_type": "code",
     "collapsed": false,
     "input": [
      "class A:\n",
      "    pass\n",
      "\n",
      "x = A()\n",
      "y = x\n",
      "print x\n",
      "print y"
     ],
     "language": "python",
     "metadata": {},
     "outputs": [
      {
       "output_type": "stream",
       "stream": "stdout",
       "text": [
        "<__main__.A instance at 0x2f08d9e0>\n",
        "<__main__.A instance at 0x2f08d9e0>\n"
       ]
      }
     ],
     "prompt_number": 77
    },
    {
     "cell_type": "code",
     "collapsed": false,
     "input": [
      "x = A()\n",
      "\n",
      "print x\n",
      "print y"
     ],
     "language": "python",
     "metadata": {},
     "outputs": [
      {
       "output_type": "stream",
       "stream": "stdout",
       "text": [
        "<__main__.A instance at 0x66f4b48>\n",
        "<__main__.A instance at 0x2f08d9e0>\n"
       ]
      }
     ],
     "prompt_number": 80
    },
    {
     "cell_type": "markdown",
     "metadata": {},
     "source": [
      "## Numpy\n",
      "\n",
      "Why do we need Numpy if we already have lists and tuples?"
     ]
    },
    {
     "cell_type": "code",
     "collapsed": false,
     "input": [
      "N = 100000\n",
      "\n",
      "def multiply(a, b):\n",
      "    for i in xrange(len(a)):\n",
      "        c = a[i] * b[i]\n",
      "        \n",
      "a = [1.] * N\n",
      "b = [0.5] * N\n",
      "\n",
      "%timeit multiply(a, b)"
     ],
     "language": "python",
     "metadata": {},
     "outputs": [
      {
       "output_type": "stream",
       "stream": "stdout",
       "text": [
        "100 loops, best of 3: 7.72 ms per loop\n"
       ]
      }
     ],
     "prompt_number": 1
    },
    {
     "cell_type": "code",
     "collapsed": false,
     "input": [
      "import numpy as np\n",
      "\n",
      "a = np.ones(N, 'd')\n",
      "b = 0.5 * 1\n",
      "\n",
      "%timeit c = a * b"
     ],
     "language": "python",
     "metadata": {},
     "outputs": [
      {
       "output_type": "stream",
       "stream": "stdout",
       "text": [
        "10000 loops, best of 3: 79.8 \u00b5s per loop\n"
       ]
      }
     ],
     "prompt_number": 2
    },
    {
     "cell_type": "markdown",
     "metadata": {},
     "source": [
      "Vector operations are more succinct\n",
      "\n",
      "```python\n",
      "c = a * b\n",
      "```\n",
      "\n",
      "beats\n",
      "\n",
      "```python\n",
      "for i in xrange(len(c)):\n",
      "    c[i] = a[i] * b[i]\n",
      "```"
     ]
    },
    {
     "cell_type": "markdown",
     "metadata": {},
     "source": [
      "Numpy indexing tricks"
     ]
    },
    {
     "cell_type": "code",
     "collapsed": false,
     "input": [
      "a = np.arange(10)**3\n",
      "print a\n",
      "print a[2]\n",
      "print a[2:5]"
     ],
     "language": "python",
     "metadata": {},
     "outputs": [
      {
       "output_type": "stream",
       "stream": "stdout",
       "text": [
        "[  0   1   8  27  64 125 216 343 512 729]\n",
        "8\n",
        "[ 8 27 64]\n"
       ]
      }
     ],
     "prompt_number": 8
    },
    {
     "cell_type": "markdown",
     "metadata": {},
     "source": [
      "Fancy assignment"
     ]
    },
    {
     "cell_type": "code",
     "collapsed": false,
     "input": [
      "a[:6:2] = 1000.\n",
      "print a"
     ],
     "language": "python",
     "metadata": {},
     "outputs": [
      {
       "output_type": "stream",
       "stream": "stdout",
       "text": [
        "[1000    1 1000   27 1000  125  216  343  512  729]\n"
       ]
      }
     ],
     "prompt_number": 9
    },
    {
     "cell_type": "markdown",
     "metadata": {},
     "source": [
      "Reverse an array"
     ]
    },
    {
     "cell_type": "code",
     "collapsed": false,
     "input": [
      "print a[::-1]"
     ],
     "language": "python",
     "metadata": {},
     "outputs": [
      {
       "output_type": "stream",
       "stream": "stdout",
       "text": [
        "[ 729  512  343  216  125 1000   27 1000    1 1000]\n"
       ]
      }
     ],
     "prompt_number": 10
    },
    {
     "cell_type": "markdown",
     "metadata": {},
     "source": [
      "See http://wiki.scipy.org/Tentative_NumPy_Tutorial for more indexing and reshaping tricks."
     ]
    },
    {
     "cell_type": "markdown",
     "metadata": {},
     "source": [
      "## IPython Notebook\n",
      "\n",
      " - web-based interactive computational environment\n",
      "\n",
      " - exectute code in other interpreters and port output into python\n",
      " \n",
      " - parallel and distributed computing\n",
      " \n",
      " - rich media, maths"
     ]
    },
    {
     "cell_type": "markdown",
     "metadata": {},
     "source": [
      "Execute code from other interpreters"
     ]
    },
    {
     "cell_type": "code",
     "collapsed": false,
     "input": [
      "%%bash --out cpuinfo\n",
      "\n",
      "cat /proc/cpuinfo | grep processor"
     ],
     "language": "python",
     "metadata": {},
     "outputs": [],
     "prompt_number": 1
    },
    {
     "cell_type": "code",
     "collapsed": false,
     "input": [
      "print cpuinfo\n",
      "Nproc = len(cpuinfo.splitlines())"
     ],
     "language": "python",
     "metadata": {},
     "outputs": []
    },
    {
     "cell_type": "code",
     "collapsed": false,
     "input": [
      "%%bash --out notebooks\n",
      "\n",
      "ls -al | grep [^\\ ].ipynb"
     ],
     "language": "python",
     "metadata": {},
     "outputs": [],
     "prompt_number": 25
    },
    {
     "cell_type": "code",
     "collapsed": false,
     "input": [
      "print notebooks"
     ],
     "language": "python",
     "metadata": {},
     "outputs": [
      {
       "output_type": "stream",
       "stream": "stdout",
       "text": [
        "-rw-r--r--  1 wd15 machine     2339 Jan  6 16:07 00 - Workshop Overview.ipynb\n",
        "-rw-r--r--  1 wd15 machine    25145 Jan  8 15:26 01 - Python Intro.ipynb\n",
        "-rw-r--r--  1 wd15 machine   101132 Jan  7 17:39 02 - MKS Intro.ipynb\n",
        "-rw-r--r--  1 wd15 machine    69473 Jan  7 17:39 03 - Simple Filter.ipynb\n",
        "-rw-r--r--  1 wd15 machine    54019 Jan  7 17:39 04 - Cross Validation.ipynb\n",
        "-rw-r--r--  1 wd15 machine    23614 Jan  7 17:39 05 - Scaling Coefficients.ipynb\n",
        "-rw-r--r--  1 wd15 machine 38615871 Jan  7 17:39 06 - Improving Performance.ipynb\n",
        "-rw-r--r--  1 wd15 machine 28177972 Jan  3 17:06 sandbox.ipynb\n",
        "\n"
       ]
      }
     ],
     "prompt_number": 26
    },
    {
     "cell_type": "code",
     "collapsed": false,
     "input": [
      "sorted(notebooks.splitlines(), key=lambda k: int(k.split()[4]))[::-1]"
     ],
     "language": "python",
     "metadata": {},
     "outputs": [
      {
       "metadata": {},
       "output_type": "pyout",
       "prompt_number": 32,
       "text": [
        "['-rw-r--r--  1 wd15 machine 38615871 Jan  7 17:39 06 - Improving Performance.ipynb',\n",
        " '-rw-r--r--  1 wd15 machine 28177972 Jan  3 17:06 sandbox.ipynb',\n",
        " '-rw-r--r--  1 wd15 machine   101132 Jan  7 17:39 02 - MKS Intro.ipynb',\n",
        " '-rw-r--r--  1 wd15 machine    69473 Jan  7 17:39 03 - Simple Filter.ipynb',\n",
        " '-rw-r--r--  1 wd15 machine    54019 Jan  7 17:39 04 - Cross Validation.ipynb',\n",
        " '-rw-r--r--  1 wd15 machine    25145 Jan  8 15:26 01 - Python Intro.ipynb',\n",
        " '-rw-r--r--  1 wd15 machine    23614 Jan  7 17:39 05 - Scaling Coefficients.ipynb',\n",
        " '-rw-r--r--  1 wd15 machine     2339 Jan  6 16:07 00 - Workshop Overview.ipynb']"
       ]
      }
     ],
     "prompt_number": 32
    },
    {
     "cell_type": "markdown",
     "metadata": {},
     "source": [
      "Using the IPython Notebook rather than the command line for common tasks encourages better record keeping."
     ]
    },
    {
     "cell_type": "markdown",
     "metadata": {},
     "source": [
      "Parallel IPython. First create a `Client`."
     ]
    },
    {
     "cell_type": "code",
     "collapsed": false,
     "input": [
      "from IPython.parallel import Client\n",
      "rc = Client()\n",
      "rc"
     ],
     "language": "python",
     "metadata": {},
     "outputs": [
      {
       "metadata": {},
       "output_type": "pyout",
       "prompt_number": 72,
       "text": [
        "<IPython.parallel.client.client.Client at 0x6370890>"
       ]
      }
     ],
     "prompt_number": 72
    },
    {
     "cell_type": "markdown",
     "metadata": {},
     "source": [
      "Make a \"direct view\" of the engines"
     ]
    },
    {
     "cell_type": "code",
     "collapsed": false,
     "input": [
      "dview = rc[:]\n",
      "print \"engines IDs\",rc.ids"
     ],
     "language": "python",
     "metadata": {},
     "outputs": [
      {
       "output_type": "stream",
       "stream": "stdout",
       "text": [
        "engines IDs [0, 1, 2, 3, 4, 5, 6, 7]\n"
       ]
      }
     ],
     "prompt_number": 73
    },
    {
     "cell_type": "markdown",
     "metadata": {},
     "source": [
      "Calculate eigenvalues for lots of small arrays."
     ]
    },
    {
     "cell_type": "code",
     "collapsed": false,
     "input": [
      "N = 1000\n",
      "M = 4\n",
      "A = np.random.random((N, M, M))\n",
      "Evec = np.zeros((N, M), dtype=complex)\n",
      "print type(A)\n",
      "print A.dtype\n",
      "print A.shape"
     ],
     "language": "python",
     "metadata": {},
     "outputs": [
      {
       "output_type": "stream",
       "stream": "stdout",
       "text": [
        "<type 'numpy.ndarray'>\n",
        "float64\n",
        "(1000, 4, 4)\n"
       ]
      }
     ],
     "prompt_number": 224
    },
    {
     "cell_type": "code",
     "collapsed": false,
     "input": [
      "?np.linalg.eig"
     ],
     "language": "python",
     "metadata": {},
     "outputs": [],
     "prompt_number": 225
    },
    {
     "cell_type": "code",
     "collapsed": false,
     "input": [
      "for i in xrange(N):\n",
      "    Evec[i] = np.linalg.eig(A[i])[0]"
     ],
     "language": "python",
     "metadata": {},
     "outputs": [],
     "prompt_number": 226
    },
    {
     "cell_type": "markdown",
     "metadata": {},
     "source": [
      "This can be written in one line of code."
     ]
    },
    {
     "cell_type": "code",
     "collapsed": false,
     "input": [
      "Evec_zip = np.array(zip(*map(np.linalg.eig, A))[0])"
     ],
     "language": "python",
     "metadata": {},
     "outputs": [
      {
       "output_type": "stream",
       "stream": "stdout",
       "text": [
        "10 loops, best of 3: 156 ms per loop\n"
       ]
      }
     ],
     "prompt_number": 227
    },
    {
     "cell_type": "code",
     "collapsed": false,
     "input": [
      "print np.allclose(Evec_zip, Evec)"
     ],
     "language": "python",
     "metadata": {},
     "outputs": [
      {
       "output_type": "stream",
       "stream": "stdout",
       "text": [
        "True\n"
       ]
      }
     ],
     "prompt_number": 219
    },
    {
     "cell_type": "markdown",
     "metadata": {},
     "source": [
      "Let's try this in parallel. First, place parts of `A` on each of the engines."
     ]
    },
    {
     "cell_type": "code",
     "collapsed": false,
     "input": [
      "dview.scatter('A', A)"
     ],
     "language": "python",
     "metadata": {},
     "outputs": [
      {
       "metadata": {},
       "output_type": "pyout",
       "prompt_number": 220,
       "text": [
        "<AsyncResult: scatter>"
       ]
      }
     ],
     "prompt_number": 220
    },
    {
     "cell_type": "markdown",
     "metadata": {},
     "source": [
      "How has `A` been partitioned?"
     ]
    },
    {
     "cell_type": "code",
     "collapsed": false,
     "input": [
      "for a in dview['A']:\n",
      "    print a.shape"
     ],
     "language": "python",
     "metadata": {},
     "outputs": [
      {
       "output_type": "stream",
       "stream": "stdout",
       "text": [
        "(13, 4, 4)\n",
        "(13, 4, 4)\n",
        "(13, 4, 4)\n",
        "(13, 4, 4)\n",
        "(12, 4, 4)\n",
        "(12, 4, 4)\n",
        "(12, 4, 4)\n",
        "(12, 4, 4)\n"
       ]
      }
     ],
     "prompt_number": 221
    },
    {
     "cell_type": "markdown",
     "metadata": {},
     "source": [
      "Do the parallel calculation."
     ]
    },
    {
     "cell_type": "code",
     "collapsed": false,
     "input": [
      "?px"
     ],
     "language": "python",
     "metadata": {},
     "outputs": [],
     "prompt_number": 222
    },
    {
     "cell_type": "code",
     "collapsed": false,
     "input": [
      "%px Evec = np.array(zip(*map(np.linalg.eig, A))[0])"
     ],
     "language": "python",
     "metadata": {},
     "outputs": [
      {
       "output_type": "stream",
       "stream": "stdout",
       "text": [
        "100 loops, best of 3: 12.4 ms per loop\n"
       ]
      }
     ],
     "prompt_number": 228
    },
    {
     "cell_type": "code",
     "collapsed": false,
     "input": [
      "%px print Evec.shape"
     ],
     "language": "python",
     "metadata": {},
     "outputs": [
      {
       "output_type": "stream",
       "stream": "stdout",
       "text": [
        "[stdout:0] (2, 4)\n",
        "[stdout:1] (2, 4)\n",
        "[stdout:2] (1, 4)\n",
        "[stdout:3] (1, 4)\n",
        "[stdout:4] (1, 4)\n",
        "[stdout:5] (1, 4)\n",
        "[stdout:6] (1, 4)\n",
        "[stdout:7] (1, 4)\n"
       ]
      }
     ],
     "prompt_number": 192
    },
    {
     "cell_type": "markdown",
     "metadata": {},
     "source": [
      "Gather the result."
     ]
    },
    {
     "cell_type": "code",
     "collapsed": false,
     "input": [
      "Evec_parallel = dview.gather('Evec').result"
     ],
     "language": "python",
     "metadata": {},
     "outputs": [],
     "prompt_number": 198
    },
    {
     "cell_type": "code",
     "collapsed": false,
     "input": [
      "Evec_parallel.shape"
     ],
     "language": "python",
     "metadata": {},
     "outputs": [
      {
       "metadata": {},
       "output_type": "pyout",
       "prompt_number": 199,
       "text": [
        "(10, 4)"
       ]
      }
     ],
     "prompt_number": 199
    },
    {
     "cell_type": "markdown",
     "metadata": {},
     "source": [
      "Check that it worked."
     ]
    },
    {
     "cell_type": "code",
     "collapsed": false,
     "input": [
      "np.allclose(Evec, Evec_parallel)"
     ],
     "language": "python",
     "metadata": {},
     "outputs": [
      {
       "metadata": {},
       "output_type": "pyout",
       "prompt_number": 200,
       "text": [
        "True"
       ]
      }
     ],
     "prompt_number": 200
    },
    {
     "cell_type": "markdown",
     "metadata": {},
     "source": [
      "## Exercise\n",
      "\n",
      "Use an alternative method for the `np.array(zip(*map(np.linalg.eig, A))[0])` code fragment. Try using a list comprehension `[i for in range(4)]` as well as `np.concatenate` and `np.reshape`.\n",
      "\n",
      "Use `%timeit` to compare the calculation speed serial, parallel and different sized arrays (plot a graph of the results if you haven't used Matplotlib before).\n",
      "\n",
      "### More difficult exercise if the above is too easy.\n",
      "\n",
      "Rather than doing an eigenvalue calculation try and do a matrix multiplication in parallel.\n",
      "\n",
      "    ?np.dot\n",
      "    \n",
      "and then \n",
      "\n",
      "    A = np.random.random((N, N))\n",
      "    B = np.random.random((N, N))\n",
      "    C = np.dot(A, B)\n",
      "    \n",
      "in serial. Only scatter `A` and pass all of `B` to all the processors. How does this scale (with `N`) in parallel? How large do the arrays need to be?"
     ]
    }
   ],
   "metadata": {}
  }
 ]
}