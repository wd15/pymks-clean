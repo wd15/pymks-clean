{
 "metadata": {
  "name": ""
 },
 "nbformat": 3,
 "nbformat_minor": 0,
 "worksheets": [
  {
   "cells": [
    {
     "cell_type": "markdown",
     "metadata": {},
     "source": [
      "# Tutorial Overview\n",
      "\n",
      "The goal of this tutorial is to introduce the MKS while advancing our knowledge of scientific Python.\n",
      "\n",
      "The tutorial consists of 6 notebooks.\n",
      "\n",
      " - Introduce scientific computing with Python\n",
      "   - introduces the most basic concepts\n",
      "   - for those who really have no Python exposure\n",
      "   - doesn't require participation\n",
      "   \n",
      " - Introduce MKS\n",
      "   - basic equations \n",
      "   - MKS in real space\n",
      "   - MKS in Fourier space\n",
      "   - test\n",
      " \n",
      " - Simple 1D filter\n",
      "   - simple example\n",
      "   - demonstrate the importance of removing redundancies\n",
      " \n",
      " - Cross-validation\n",
      "   - introduce MKSRegressionClass\n",
      "   - how to cross-validate using Scikit-learn\n",
      " \n",
      " - Scaling coefficients\n",
      "   - how to scale up influence coefficients\n",
      " \n",
      " - Improve performance, optimize the MKS to do a full Cahn-Hilliard simulation\n",
      "   - use `numexper`, `pyfftw`, parallel IPython\n",
      "\n",
      "To start:\n",
      "\n",
      "```\n",
      "$ cd ~/pymks/notebooks\n",
      "$ ipython notebook\n",
      "```\n",
      "    "
     ]
    },
    {
     "cell_type": "markdown",
     "metadata": {},
     "source": [
      "## Git"
     ]
    },
    {
     "cell_type": "markdown",
     "metadata": {},
     "source": [
      "Check your version of the `pymks` repository. Should be the same as mine"
     ]
    },
    {
     "cell_type": "code",
     "collapsed": false,
     "input": [
      "!git log -1"
     ],
     "language": "python",
     "metadata": {},
     "outputs": []
    },
    {
     "cell_type": "markdown",
     "metadata": {},
     "source": [
      "if not, do the following"
     ]
    },
    {
     "cell_type": "code",
     "collapsed": false,
     "input": [
      "!git pull origin master"
     ],
     "language": "python",
     "metadata": {},
     "outputs": []
    },
    {
     "cell_type": "markdown",
     "metadata": {},
     "source": [
      "You can now branch the working copy to make your own changes"
     ]
    },
    {
     "cell_type": "code",
     "collapsed": false,
     "input": [
      "!git checkout -b my_branch"
     ],
     "language": "python",
     "metadata": {},
     "outputs": []
    },
    {
     "cell_type": "code",
     "collapsed": false,
     "input": [
      "!git branch"
     ],
     "language": "python",
     "metadata": {},
     "outputs": []
    },
    {
     "cell_type": "markdown",
     "metadata": {},
     "source": [
      "## Test your installation"
     ]
    },
    {
     "cell_type": "code",
     "collapsed": false,
     "input": [
      "%matplotlib inline\n",
      "%load_ext autoreload\n",
      "%autoreload 2\n",
      "\n",
      "import numpy as np\n",
      "import matplotlib.pyplot as plt\n",
      "import fipy as fp\n",
      "import pymks\n",
      "import sklearn\n",
      "import numexpr\n",
      "import line_profiler\n",
      "import pyfftw\n",
      "\n",
      "pymks.test()\n",
      "plt.plot(np.sin(np.linspace(0, 2 * np.pi, 1000)))"
     ],
     "language": "python",
     "metadata": {},
     "outputs": []
    },
    {
     "cell_type": "markdown",
     "metadata": {},
     "source": [
      "# Scientific computing in Python\n",
      "\n",
      "A gentle introduction to scientific computing with Python.\n",
      "\n",
      " - Python data structures\n",
      " - Numpy\n",
      " - IPython notebook"
     ]
    },
    {
     "cell_type": "markdown",
     "metadata": {},
     "source": [
      "## Python Data Structures\n",
      "\n",
      "Python has 4 important container types, lists, tuples, dictionaries and sets."
     ]
    },
    {
     "cell_type": "code",
     "collapsed": false,
     "input": [
      "my_list = ['a', 1, 2, 1.1, 'a']\n",
      "type(my_list)"
     ],
     "language": "python",
     "metadata": {},
     "outputs": []
    },
    {
     "cell_type": "code",
     "collapsed": false,
     "input": [
      "my_tuple = ('a', 1, 2, 1.1, 'a')\n",
      "type(my_tuple)"
     ],
     "language": "python",
     "metadata": {},
     "outputs": []
    },
    {
     "cell_type": "code",
     "collapsed": false,
     "input": [
      "my_dict = {'a':  'a', 'b' : 1, 1 : 2,  2.1 : 1.1,  'e' : 'a'}\n",
      "type(my_dict)"
     ],
     "language": "python",
     "metadata": {},
     "outputs": []
    },
    {
     "cell_type": "code",
     "collapsed": false,
     "input": [
      "my_set = set(my_list)\n",
      "print my_set\n",
      "type(my_set)"
     ],
     "language": "python",
     "metadata": {},
     "outputs": []
    },
    {
     "cell_type": "markdown",
     "metadata": {},
     "source": [
      "Lists are mutable"
     ]
    },
    {
     "cell_type": "code",
     "collapsed": false,
     "input": [
      "my_list[1] = 2\n",
      "my_list"
     ],
     "language": "python",
     "metadata": {},
     "outputs": []
    },
    {
     "cell_type": "markdown",
     "metadata": {},
     "source": [
      "and can be generated with \"list comprehensions\""
     ]
    },
    {
     "cell_type": "code",
     "collapsed": false,
     "input": [
      "[i**2 for i in range(4)]"
     ],
     "language": "python",
     "metadata": {},
     "outputs": []
    },
    {
     "cell_type": "markdown",
     "metadata": {},
     "source": [
      "Tuples are immutable (unchangable)"
     ]
    },
    {
     "cell_type": "code",
     "collapsed": false,
     "input": [
      "my_tuple[1] = 2"
     ],
     "language": "python",
     "metadata": {},
     "outputs": []
    },
    {
     "cell_type": "markdown",
     "metadata": {},
     "source": [
      "Dictionaries map keys to values and support item assignment. They are [hash tables](http://en.wikipedia.org/wiki/Hash_table). Hash table look up is independent of the number of `key:value` pairs. `key` must be something hashable."
     ]
    },
    {
     "cell_type": "code",
     "collapsed": false,
     "input": [
      "print my_dict"
     ],
     "language": "python",
     "metadata": {},
     "outputs": []
    },
    {
     "cell_type": "markdown",
     "metadata": {},
     "source": [
      "only immutable objects can be hashed"
     ]
    },
    {
     "cell_type": "code",
     "collapsed": false,
     "input": [
      "{[1] : 'a'}"
     ],
     "language": "python",
     "metadata": {},
     "outputs": []
    },
    {
     "cell_type": "code",
     "collapsed": false,
     "input": [
      "{(1, 2) : 'b'}"
     ],
     "language": "python",
     "metadata": {},
     "outputs": []
    },
    {
     "cell_type": "code",
     "collapsed": false,
     "input": [
      "my_dict['key'] = 'item'\n",
      "del my_dict['a']\n",
      "print my_dict"
     ],
     "language": "python",
     "metadata": {},
     "outputs": []
    },
    {
     "cell_type": "markdown",
     "metadata": {},
     "source": [
      "## Python References and Assignments"
     ]
    },
    {
     "cell_type": "code",
     "collapsed": false,
     "input": [
      "x = [1, 2, 3]\n",
      "y = x\n",
      "print x\n",
      "print y"
     ],
     "language": "python",
     "metadata": {},
     "outputs": []
    },
    {
     "cell_type": "code",
     "collapsed": false,
     "input": [
      "x[2] = 4\n",
      "\n",
      "print x\n",
      "print y"
     ],
     "language": "python",
     "metadata": {},
     "outputs": []
    },
    {
     "cell_type": "code",
     "collapsed": false,
     "input": [
      "class A:\n",
      "    pass\n",
      "\n",
      "x = A()\n",
      "y = x\n",
      "print x\n",
      "print y"
     ],
     "language": "python",
     "metadata": {},
     "outputs": []
    },
    {
     "cell_type": "code",
     "collapsed": false,
     "input": [
      "x = A()\n",
      "\n",
      "print x\n",
      "print y"
     ],
     "language": "python",
     "metadata": {},
     "outputs": []
    },
    {
     "cell_type": "markdown",
     "metadata": {},
     "source": [
      "## Numpy\n",
      "\n",
      "Why do we need Numpy if we already have lists and tuples?"
     ]
    },
    {
     "cell_type": "code",
     "collapsed": false,
     "input": [
      "np.array((0., 1, 2, 3, 1.1))"
     ],
     "language": "python",
     "metadata": {},
     "outputs": []
    },
    {
     "cell_type": "code",
     "collapsed": false,
     "input": [
      "np.array((0, 1, 2, 2, 1))"
     ],
     "language": "python",
     "metadata": {},
     "outputs": []
    },
    {
     "cell_type": "code",
     "collapsed": false,
     "input": [
      "N = 100000\n",
      "a = [1., 0.2] * N\n",
      "b = [0.5, 0.4] * N\n",
      "print a[:10]\n",
      "print b[:10]"
     ],
     "language": "python",
     "metadata": {},
     "outputs": []
    },
    {
     "cell_type": "code",
     "collapsed": false,
     "input": [
      "def multiply(a, b):\n",
      "    for i in xrange(len(a)):\n",
      "        c = a[i] * b[i]\n",
      "\n",
      "%timeit multiply(a, b)"
     ],
     "language": "python",
     "metadata": {},
     "outputs": []
    },
    {
     "cell_type": "code",
     "collapsed": false,
     "input": [
      "import numpy as np\n",
      "\n",
      "a = np.array(a)\n",
      "b = np.array(b)\n",
      "\n",
      "%timeit c = a * b"
     ],
     "language": "python",
     "metadata": {},
     "outputs": []
    },
    {
     "cell_type": "markdown",
     "metadata": {},
     "source": [
      "Vector operations are more succinct\n",
      "\n",
      "```python\n",
      "c = a * b\n",
      "```\n",
      "\n",
      "beats\n",
      "\n",
      "```python\n",
      "for i in xrange(len(c)):\n",
      "    c[i] = a[i] * b[i]\n",
      "```"
     ]
    },
    {
     "cell_type": "markdown",
     "metadata": {},
     "source": [
      "Numpy indexing tricks"
     ]
    },
    {
     "cell_type": "code",
     "collapsed": false,
     "input": [
      "a = np.arange(10)**3\n",
      "print a\n",
      "print a[2]\n",
      "print a[2:5]"
     ],
     "language": "python",
     "metadata": {},
     "outputs": []
    },
    {
     "cell_type": "markdown",
     "metadata": {},
     "source": [
      "Fancy assignment"
     ]
    },
    {
     "cell_type": "code",
     "collapsed": false,
     "input": [
      "a[:6:2] = 1000.\n",
      "print a"
     ],
     "language": "python",
     "metadata": {},
     "outputs": []
    },
    {
     "cell_type": "markdown",
     "metadata": {},
     "source": [
      "Reverse an array"
     ]
    },
    {
     "cell_type": "code",
     "collapsed": false,
     "input": [
      "print a[::-1]"
     ],
     "language": "python",
     "metadata": {},
     "outputs": []
    },
    {
     "cell_type": "markdown",
     "metadata": {},
     "source": [
      "See http://wiki.scipy.org/Tentative_NumPy_Tutorial for more indexing and reshaping tricks."
     ]
    },
    {
     "cell_type": "markdown",
     "metadata": {},
     "source": [
      "## IPython Notebook\n",
      "\n",
      " - web-based interactive computational environment\n",
      "\n",
      " - exectute code in other interpreters and port output into python\n",
      " \n",
      " - parallel and distributed computing\n",
      " \n",
      " - rich media, maths"
     ]
    },
    {
     "cell_type": "markdown",
     "metadata": {},
     "source": [
      "Execute code from other interpreters"
     ]
    },
    {
     "cell_type": "code",
     "collapsed": false,
     "input": [
      "%%bash --out cpuinfo\n",
      "\n",
      "cat /proc/cpuinfo | grep processor"
     ],
     "language": "python",
     "metadata": {},
     "outputs": []
    },
    {
     "cell_type": "code",
     "collapsed": false,
     "input": [
      "print cpuinfo\n",
      "Nproc = len(cpuinfo.splitlines())\n",
      "print Nproc"
     ],
     "language": "python",
     "metadata": {},
     "outputs": []
    },
    {
     "cell_type": "code",
     "collapsed": false,
     "input": [
      "%%bash --out notebooks\n",
      "\n",
      "ls -al | grep [^\\ ].ipynb"
     ],
     "language": "python",
     "metadata": {},
     "outputs": []
    },
    {
     "cell_type": "code",
     "collapsed": false,
     "input": [
      "print notebooks"
     ],
     "language": "python",
     "metadata": {},
     "outputs": []
    },
    {
     "cell_type": "code",
     "collapsed": false,
     "input": [
      "sorted(notebooks.splitlines(), key=lambda k: int(k.split()[4]))[::-1]"
     ],
     "language": "python",
     "metadata": {},
     "outputs": []
    },
    {
     "cell_type": "markdown",
     "metadata": {},
     "source": [
      "The `%%script` cell magic lets you run a cell in a subprocess of any interpreter on your system, such as: bash, ruby, perl, zsh, R, etc."
     ]
    },
    {
     "cell_type": "markdown",
     "metadata": {},
     "source": [
      "Using the IPython Notebook rather than the command line for common tasks encourages better record keeping."
     ]
    },
    {
     "cell_type": "markdown",
     "metadata": {},
     "source": [
      "## Parallel IPython.\n",
      "\n",
      "Start up parallel engines\n",
      "\n",
      "    $ ipcluster start -n 8\n",
      "\n",
      "Create a `Client`."
     ]
    },
    {
     "cell_type": "code",
     "collapsed": false,
     "input": [
      "from IPython.parallel import Client\n",
      "engines = Client()\n",
      "engines"
     ],
     "language": "python",
     "metadata": {},
     "outputs": []
    },
    {
     "cell_type": "markdown",
     "metadata": {},
     "source": [
      "Make a \"direct view\" of the engines"
     ]
    },
    {
     "cell_type": "code",
     "collapsed": false,
     "input": [
      "dview = engines[:]\n",
      "print \"engines IDs\",engines.ids\n",
      "dview.block = True\n",
      "dview.activate()"
     ],
     "language": "python",
     "metadata": {},
     "outputs": []
    },
    {
     "cell_type": "markdown",
     "metadata": {},
     "source": [
      "Calculate eigenvalues for lots of small arrays."
     ]
    },
    {
     "cell_type": "code",
     "collapsed": false,
     "input": [
      "N = 1000\n",
      "M = 4\n",
      "np.random.seed(201)\n",
      "A = np.random.random((N, M, M))\n",
      "Evec = np.zeros((N, M), dtype=complex)\n",
      "print type(A)\n",
      "print A.dtype\n",
      "print A.shape"
     ],
     "language": "python",
     "metadata": {},
     "outputs": []
    },
    {
     "cell_type": "code",
     "collapsed": false,
     "input": [
      "?np.linalg.eig"
     ],
     "language": "python",
     "metadata": {},
     "outputs": []
    },
    {
     "cell_type": "markdown",
     "metadata": {},
     "source": [
      "`eig` calculates eigenvalues and eigenvectors, $A v_i = \\lambda_i v_i$"
     ]
    },
    {
     "cell_type": "code",
     "collapsed": false,
     "input": [
      "np.linalg.eig([[1, 0], [0, 0.5]])"
     ],
     "language": "python",
     "metadata": {},
     "outputs": []
    },
    {
     "cell_type": "code",
     "collapsed": false,
     "input": [
      "for i in xrange(N):\n",
      "    Evec[i] = np.linalg.eig(A[i])[0]"
     ],
     "language": "python",
     "metadata": {},
     "outputs": []
    },
    {
     "cell_type": "markdown",
     "metadata": {},
     "source": [
      "This can be written in one line of code."
     ]
    },
    {
     "cell_type": "code",
     "collapsed": false,
     "input": [
      "Evec_zip = np.array(zip(*map(np.linalg.eig, A))[0])"
     ],
     "language": "python",
     "metadata": {},
     "outputs": []
    },
    {
     "cell_type": "code",
     "collapsed": false,
     "input": [
      "print np.allclose(Evec_zip, Evec)"
     ],
     "language": "python",
     "metadata": {},
     "outputs": []
    },
    {
     "cell_type": "markdown",
     "metadata": {},
     "source": [
      "Let's try this in parallel. First, place parts of `A` on each of the engines."
     ]
    },
    {
     "cell_type": "code",
     "collapsed": false,
     "input": [
      "dview.scatter('A', A)"
     ],
     "language": "python",
     "metadata": {},
     "outputs": []
    },
    {
     "cell_type": "markdown",
     "metadata": {},
     "source": [
      "How has `A` been partitioned?"
     ]
    },
    {
     "cell_type": "code",
     "collapsed": false,
     "input": [
      "for a in dview['A']:\n",
      "    print a.shape"
     ],
     "language": "python",
     "metadata": {},
     "outputs": []
    },
    {
     "cell_type": "markdown",
     "metadata": {},
     "source": [
      "Do the parallel calculation."
     ]
    },
    {
     "cell_type": "code",
     "collapsed": false,
     "input": [
      "?px"
     ],
     "language": "python",
     "metadata": {},
     "outputs": []
    },
    {
     "cell_type": "code",
     "collapsed": false,
     "input": [
      "%px import numpy as np"
     ],
     "language": "python",
     "metadata": {},
     "outputs": []
    },
    {
     "cell_type": "code",
     "collapsed": false,
     "input": [
      "%px Evec = np.array(zip(*map(np.linalg.eig, A))[0])"
     ],
     "language": "python",
     "metadata": {},
     "outputs": []
    },
    {
     "cell_type": "code",
     "collapsed": false,
     "input": [
      "%px print Evec.shape"
     ],
     "language": "python",
     "metadata": {},
     "outputs": []
    },
    {
     "cell_type": "markdown",
     "metadata": {},
     "source": [
      "Gather the result."
     ]
    },
    {
     "cell_type": "code",
     "collapsed": false,
     "input": [
      "Evec_parallel = dview.gather('Evec')"
     ],
     "language": "python",
     "metadata": {},
     "outputs": []
    },
    {
     "cell_type": "code",
     "collapsed": false,
     "input": [
      "Evec_parallel.shape"
     ],
     "language": "python",
     "metadata": {},
     "outputs": []
    },
    {
     "cell_type": "markdown",
     "metadata": {},
     "source": [
      "Check that it worked."
     ]
    },
    {
     "cell_type": "code",
     "collapsed": false,
     "input": [
      "np.allclose(Evec, Evec_parallel)"
     ],
     "language": "python",
     "metadata": {},
     "outputs": []
    },
    {
     "cell_type": "markdown",
     "metadata": {},
     "source": [
      "## Exercise 01-0\n",
      "\n",
      "Use an alternative method for the `np.array(zip(*map(np.linalg.eig, A))[0])` code fragment. Try using a list comprehension `[i for i in range(4)]` along with `np.concatenate` and `np.reshape`.\n",
      "\n",
      "Use `%timeit` to compare the calculation speeds in serial, parallel and for different numbers of engines.\n",
      "\n",
      " - compare the calculation speeds for different numbers of engines\n",
      " - `dview = engines[:Neng]` creates views on different numbers of engines\n",
      " - remember to set the view to block `dview.block = True`. What happens if `dview.block = False`?\n",
      " - remember to activate the view so that `%px` knows which view to use (`dview.activate()`).\n",
      "\n",
      "if done, capture the output with `%%capture out`, parse the output, and then plot the time versus number of engines."
     ]
    }
   ],
   "metadata": {}
  }
 ]
}