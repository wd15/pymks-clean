{
 "metadata": {
  "name": ""
 },
 "nbformat": 3,
 "nbformat_minor": 0,
 "worksheets": [
  {
   "cells": [
    {
     "cell_type": "markdown",
     "metadata": {},
     "source": [
      "# Materials Knowledge System Workshop - 01/13/2014 -- 01/14/2013\n",
      "    \n",
      "\n"
     ]
    },
    {
     "cell_type": "markdown",
     "metadata": {},
     "source": [
      "What is MKS?\n",
      "    \n",
      " - MKS is just a regression technique, but a convenient starting point for improving our knowledge of materials informatics.\n",
      " \n",
      " - Workshop should / could have been called Materials Informatics Workshop."
     ]
    },
    {
     "cell_type": "markdown",
     "metadata": {},
     "source": [
      "Why have a workshop?\n",
      "\n",
      " - Andrew and I attended a \"hands on\" MKS workshop at GT last year and enjoyed it.\n",
      " \n",
      " - Attending other \"hands on\" computing tutorials (such as Scipy) has been very useful for me, more so than just attending the talks.\n",
      " \n",
      " - We have had this style of workshop before in the CTCMS, solder design workshops, OOF workshops. Maybe we want to have more.\n",
      " \n",
      " - Different style of workshop (less talks more tutorials).\n"
     ]
    },
    {
     "cell_type": "markdown",
     "metadata": {},
     "source": [
      "What do we want to achieve?\n",
      "\n",
      " - Improve our computational skills and practices (software engineering).\n",
      " \n",
      " - Become better versed in all of\n",
      " \n",
      "    * big data\n",
      "    * wide data\n",
      "    * data wrangling\n",
      "    * machine learning\n",
      "      * statistics in general\n",
      "      * classification\n",
      "      * regression\n",
      "      * dimensionality reduction\n",
      "      * clustering\n",
      "    * spatial statistics\n",
      "    * data workflow\n",
      "    * data management\n",
      "    \n",
      " - Fantasy: implement materials informatics codes and examples in existing or new open-source frameworks (such as Scikit-learn)"
     ]
    },
    {
     "cell_type": "markdown",
     "metadata": {},
     "source": [
      "## Schedule\n",
      "\n",
      "https://github.com/wd15/pymks/wiki/Workshop-Schedule#monday-011314"
     ]
    },
    {
     "cell_type": "markdown",
     "metadata": {},
     "source": [
      "## Lightning Talks\n",
      "\n",
      "https://github.com/wd15/pymks/wiki/Workshop-Schedule#lightning-talks\n",
      "\n",
      " - Any more?\n"
     ]
    },
    {
     "cell_type": "markdown",
     "metadata": {},
     "source": [
      "## Using your own laptop for the Python tutorial\n",
      "\n",
      " - See https://github.com/wd15/pymks\n",
      " \n",
      "Setup your Python environment\n",
      " \n",
      " - See https://github.com/wd15/pymks/blob/master/INSTALLATION.md\n",
      " "
     ]
    }
   ],
   "metadata": {}
  }
 ]
}