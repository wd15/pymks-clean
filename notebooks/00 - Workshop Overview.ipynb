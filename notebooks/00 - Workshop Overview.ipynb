{
 "metadata": {
  "name": ""
 },
 "nbformat": 3,
 "nbformat_minor": 0,
 "worksheets": [
  {
   "cells": [
    {
     "cell_type": "markdown",
     "metadata": {},
     "source": [
      "# Materials Knowledge System Workshop - 01/13/2014 -- 01/14/2013\n",
      "    \n",
      "\n"
     ]
    },
    {
     "cell_type": "markdown",
     "metadata": {},
     "source": [
      "What is MKS?\n",
      "    \n",
      " - MKS is just a regression technique, but a convenient starting point for improving our knowledge of materials informatics.\n",
      " \n",
      " - Workshop should / could have been called Materials Informatics Workshop."
     ]
    },
    {
     "cell_type": "markdown",
     "metadata": {},
     "source": [
      "Why have a workshop?\n",
      "\n",
      " - Andrew and I attended a \"hands on\" MKS workshop at GT last year and enjoyed it.\n",
      " \n",
      " - Attending other \"hands on\" computing tutorials (such as Scipy) has been very useful for me, more so than just attending the talks.\n",
      " \n",
      " - We have had this style of workshop before in the CTCMS, solder design workshops, OOF workshops. Maybe we want to have more.\n",
      " \n",
      " - Different style of workshop (less talks more tutorials).\n"
     ]
    },
    {
     "cell_type": "markdown",
     "metadata": {},
     "source": [
      "What do we want to achieve?\n",
      "\n",
      " - Improve our computational skills and practices (software engineering).\n",
      " \n",
      " - Become better versed in all of\n",
      " \n",
      "    * big data\n",
      "    * wide data\n",
      "    * data wrangling\n",
      "    * machine learning\n",
      "    * spatial statistics\n",
      "    * data workflow"
     ]
    },
    {
     "cell_type": "markdown",
     "metadata": {},
     "source": [
      "## Schedule\n",
      "\n",
      "https://github.com/wd15/pymks/wiki/Workshop-Schedule#monday-011314"
     ]
    },
    {
     "cell_type": "markdown",
     "metadata": {},
     "source": [
      "## Lightning Talks\n",
      "\n",
      "https://github.com/wd15/pymks/wiki/Workshop-Schedule#lightning-talks\n",
      "\n",
      " - Any more?\n"
     ]
    },
    {
     "cell_type": "markdown",
     "metadata": {},
     "source": [
      "## Using your own laptop for the Python tutorial\n",
      "\n",
      " - See https://github.com/wd15/pymks/blob/master/INSTALLATION.md"
     ]
    }
   ],
   "metadata": {}
  }
 ]
}