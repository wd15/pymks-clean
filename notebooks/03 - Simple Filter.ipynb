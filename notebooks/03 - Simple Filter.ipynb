{
 "metadata": {
  "name": "",
  "signature": "sha256:589713be87a097665c045cfe69e24ba6c4143ed1fa8f9c3cd4bf92c85855c37e"
 },
 "nbformat": 3,
 "nbformat_minor": 0,
 "worksheets": [
  {
   "cells": [
    {
     "cell_type": "markdown",
     "metadata": {},
     "source": [
      "# A Simple Filter\n",
      "\n",
      "This example will demonstrate the importance of removing the redundancies from the regression. This notebook will\n",
      "\n",
      " - define a simple 1D filter,\n",
      " - generate influence coefficients using the filter,\n",
      " - use these coefficients to calculate a response from a microstructure,\n",
      " - back calculate the influence coefficients,\n",
      " - compare the back calculated influence coefficients with the original,\n",
      " - introduce the `MKSRegressionModel` class and\n",
      " - show how the this class deals with redundancies.\n",
      "    "
     ]
    },
    {
     "cell_type": "code",
     "collapsed": false,
     "input": [
      "%matplotlib inline\n",
      "%load_ext autoreload\n",
      "%autoreload 2\n",
      "\n",
      "import numpy as np\n",
      "import matplotlib.pyplot as plt"
     ],
     "language": "python",
     "metadata": {},
     "outputs": [
      {
       "output_type": "stream",
       "stream": "stdout",
       "text": [
        "The autoreload extension is already loaded. To reload it, use:\n",
        "  %reload_ext autoreload\n"
       ]
      }
     ],
     "prompt_number": 57
    },
    {
     "cell_type": "markdown",
     "metadata": {},
     "source": [
      "## The filter"
     ]
    },
    {
     "cell_type": "markdown",
     "metadata": {},
     "source": [
      "Create a filter."
     ]
    },
    {
     "cell_type": "code",
     "collapsed": false,
     "input": [
      "def filter(x):\n",
      "    return np.where(x < 10,\n",
      "                    np.exp(-abs(x)) * np.cos(x * np.pi),\n",
      "                    np.exp(-abs(x - 20)) * np.cos((x - 20) * np.pi))\n",
      "\n",
      "x = np.linspace(0, 20, 100)\n",
      "a = plt.plot(x, filter(x))"
     ],
     "language": "python",
     "metadata": {},
     "outputs": [
      {
       "metadata": {},
       "output_type": "display_data",
       "png": "[encoded data removed]",
       "text": [
        "<matplotlib.figure.Figure at 0x4d17490>"
       ]
      }
     ],
     "prompt_number": 58
    },
    {
     "cell_type": "code",
     "collapsed": false,
     "input": [
      "?np.linspace"
     ],
     "language": "python",
     "metadata": {},
     "outputs": []
    },
    {
     "cell_type": "markdown",
     "metadata": {},
     "source": [
      "Construct the coefficients, `coeff`"
     ]
    },
    {
     "cell_type": "code",
     "collapsed": false,
     "input": [
      "Nbin = 2\n",
      "Nspace = 81\n",
      "\n",
      "coeff = np.linspace(0, 1, Nbin)[None,:] * filter(np.linspace(0, 20, Nspace))[:,None]\n",
      "print coeff.shape"
     ],
     "language": "python",
     "metadata": {},
     "outputs": [
      {
       "output_type": "stream",
       "stream": "stdout",
       "text": [
        "(81, 2)\n"
       ]
      }
     ],
     "prompt_number": 59
    },
    {
     "cell_type": "markdown",
     "metadata": {},
     "source": [
      "Take the Fourier transform."
     ]
    },
    {
     "cell_type": "code",
     "collapsed": false,
     "input": [
      "Fcoeff = np.fft.fft(coeff, axis=0)"
     ],
     "language": "python",
     "metadata": {},
     "outputs": [],
     "prompt_number": 60
    },
    {
     "cell_type": "markdown",
     "metadata": {},
     "source": [
      "Make some sample microstructures, `X`"
     ]
    },
    {
     "cell_type": "code",
     "collapsed": false,
     "input": [
      "Nsample = 400\n",
      "\n",
      "np.random.seed(2)\n",
      "X = np.random.random((Nsample, Nspace))\n",
      "print X.shape"
     ],
     "language": "python",
     "metadata": {},
     "outputs": [
      {
       "output_type": "stream",
       "stream": "stdout",
       "text": [
        "(400, 81)\n"
       ]
      }
     ],
     "prompt_number": 62
    },
    {
     "cell_type": "markdown",
     "metadata": {},
     "source": [
      "Discretize the microstructure"
     ]
    },
    {
     "cell_type": "code",
     "collapsed": false,
     "input": [
      "H = np.linspace(0, 1, Nbin)\n",
      "X_ = np.maximum(1 - abs(X[:,:,None] - H) / (H[1] - H[0]), 0)"
     ],
     "language": "python",
     "metadata": {},
     "outputs": [],
     "prompt_number": 63
    },
    {
     "cell_type": "code",
     "collapsed": false,
     "input": [
      "print X_[0, 0]\n",
      "print X[0, 0]"
     ],
     "language": "python",
     "metadata": {},
     "outputs": [
      {
       "output_type": "stream",
       "stream": "stdout",
       "text": [
        "[ 0.5640051  0.4359949]\n",
        "0.435994902142\n"
       ]
      }
     ],
     "prompt_number": 64
    },
    {
     "cell_type": "markdown",
     "metadata": {},
     "source": [
      "Calculate the responses"
     ]
    },
    {
     "cell_type": "code",
     "collapsed": false,
     "input": [
      "FX = np.fft.fft(X_, axis=1)\n",
      "Fy = np.sum(Fcoeff[None] * FX, axis=-1)\n",
      "y = np.fft.ifft(Fy, axis=1).real"
     ],
     "language": "python",
     "metadata": {},
     "outputs": [],
     "prompt_number": 65
    },
    {
     "cell_type": "markdown",
     "metadata": {},
     "source": [
      "## What is a Filter?\n",
      "\n",
      "A convolution\n",
      "\n",
      "$$ y_k = \\sum_{i=0}^{N - 1} x_{k-i} h_i $$\n",
      "\n",
      "where $h$ is filter and $x$ is periodic in this case.\n",
      "\n",
      "## Exercise 03-0\n",
      "\n",
      "Use the `scipy.ndimage.convolve` function to construct the `y`.\n",
      "\n",
      " - look at `scipy.ndimage.convove` documentation\n",
      " - just do the first sample\n",
      " - the `convolve` function must be in `wrap` mode to be periodic\n",
      " - use a small `Nspace` to test\n",
      " - use `np.roll` to align the results\n",
      " - check the answer with `np.allclose`\n",
      " \n"
     ]
    },
    {
     "cell_type": "code",
     "collapsed": false,
     "input": [
      "import scipy.signal\n",
      "import scipy.ndimage\n",
      "?scipy.signal.fftconvolve\n",
      "\n",
      "y_alt = scipy.ndimage.convolve(X[0], filter(np.linspace(0, 20, Nspace)), mode='wrap')\n",
      "print np.allclose(np.roll(y_alt, 40), y[0])"
     ],
     "language": "python",
     "metadata": {},
     "outputs": [
      {
       "output_type": "stream",
       "stream": "stdout",
       "text": [
        "True\n"
       ]
      }
     ],
     "prompt_number": 66
    },
    {
     "cell_type": "markdown",
     "metadata": {},
     "source": [
      "## Calculate the influence coefficients using the regression\n",
      "\n",
      "Use the binned microstructure, `X_`, and the repsonses, `y` to recalculate the coefficients. "
     ]
    },
    {
     "cell_type": "code",
     "collapsed": false,
     "input": [
      "model_Fcoeff = np.zeros((Nspace, Nbin), dtype=np.complex)\n",
      "for i in range(Nspace):\n",
      "    model_Fcoeff[i] = np.linalg.lstsq(X_[:,i], y[:,i] )[0]\n",
      "    \n",
      "model_coeff = np.fft.ifft(model_Fcoeff, axis=0)\n",
      "for b in range(Nbin):\n",
      "    plt.figure()\n",
      "    plt.plot(coeff[:,b], label='orignal')\n",
      "    plt.plot(model_coeff[:,b], label='MKS')\n",
      "    plt.legend()"
     ],
     "language": "python",
     "metadata": {},
     "outputs": [
      {
       "metadata": {},
       "output_type": "display_data",
       "png": "[encoded data removed]",
       "text": [
        "<matplotlib.figure.Figure at 0x49a2ed0>"
       ]
      },
      {
       "metadata": {},
       "output_type": "display_data",
       "png": "[encoded data removed]",
       "text": [
        "<matplotlib.figure.Figure at 0x5828ad0>"
       ]
      }
     ],
     "prompt_number": 67
    },
    {
     "cell_type": "markdown",
     "metadata": {},
     "source": [
      "The calculated influence coefficients are not even close to the originals. What's going on? The equation,\n",
      "\n",
      "$$ \\sum\\limits_{h=0}^{H-1} m^h_{a, s} = 1 $$\n",
      "\n",
      "is not being taken into account. Using this, we can rewrite the convolution as\n",
      "\n",
      "$$ \\begin{split}\n",
      "p_{a,s} &= \\sum\\limits_{h=0}^{H - 1} \\sum\\limits_{t=0}^{S-1} \\alpha_t^h m_{a,s + t}^h \\\\\n",
      "        &= \\sum\\limits_{t=0}^{S-1} \\left[ \\sum\\limits_{h=0}^{H - 2} \\alpha_t^h m_{a,s + t}^h + \n",
      "           \\alpha_t^{H-1} \\left( 1 - \\sum\\limits_{h=0}^{H - 2} m_{a,s+t}^h \\right) \\right] \\\\\n",
      "        &= \\sum\\limits_{t=0}^{S-1} \\alpha_t^{H - 1} +\n",
      "           \\sum\\limits_{h=0}^{H - 2} \\sum\\limits_{t=0}^{S-1} \\left(\\alpha_t^h - \\alpha_t^{H-1} \\right) m_{a,s + t}^h \\\\\n",
      "        &= b_0 + \\sum\\limits_{h=0}^{H - 2} \\sum\\limits_{t=0}^{S-1} b_t^h m_{a,s + t}^h\n",
      "\\end{split}$$\n",
      "\n",
      "This removes the redundancies from the regression. Coding this in 1D is easy, we simply replace\n",
      "\n",
      "```python\n",
      "for k in range(Nspace):\n",
      "    model_Fcoeff[k] = np.linalg.lstsq(X_[:,k], y[:,k] )[0]\n",
      "```\n",
      "\n",
      "with\n",
      "\n",
      "```python\n",
      "for k in range(Nspace):\n",
      "    if k == 0:\n",
      "        model_Fcoeff[k] = np.linalg.lstsq(X_[:,k], y[:,k] )[0]\n",
      "    else:\n",
      "        model_Fcoeff[k,:-1] = np.linalg.lstsq(X_[:,k,:-1], y[:,k] )[0]\n",
      "```"
     ]
    },
    {
     "cell_type": "code",
     "collapsed": false,
     "input": [],
     "language": "python",
     "metadata": {},
     "outputs": []
    },
    {
     "cell_type": "markdown",
     "metadata": {},
     "source": [
      "## Introducing the `MKSRegressionModel`\n",
      "\n",
      "The `MKSRegressionModel` takes a test microstructure `X` and a test response `y` in any dimension and does a linear regression to determine the influence coefficients. So,\n",
      "```python\n",
      "model = MKSRegressionModel(Nbin=10)\n",
      "model.fit(X, y)\n",
      "```\n",
      "After the fit, the `predict` method can be used to fit new data.\n",
      "```python\n",
      "y_predict = model.predict(X_predict)\n",
      "```\n",
      "The `MKSRegressionModel` inherits from Scikit-learn's `LinearRegression` class so that we can start doing cross validation in the next tutorial."
     ]
    },
    {
     "cell_type": "code",
     "collapsed": false,
     "input": [
      "from pymks import MKSRegressionModel\n",
      "\n",
      "??MKSRegressionModel"
     ],
     "language": "python",
     "metadata": {},
     "outputs": [],
     "prompt_number": 68
    },
    {
     "cell_type": "code",
     "collapsed": false,
     "input": [
      "model = MKSRegressionModel(Nbin=2)\n",
      "model.fit(X, y)"
     ],
     "language": "python",
     "metadata": {},
     "outputs": [],
     "prompt_number": 69
    },
    {
     "cell_type": "code",
     "collapsed": false,
     "input": [
      "model.coeff = np.fft.ifft(model.Fcoeff, axis=0)\n",
      "model.coeff = -(model.coeff - model.coeff[0, 1])[:,::-1]\n",
      "for b in range(Nbin):\n",
      "    plt.figure()\n",
      "    plt.plot(model.coeff[:,b], label='MKSRegressionModel')\n",
      "    plt.plot(coeff[:,b], label='original')\n",
      "    plt.legend()"
     ],
     "language": "python",
     "metadata": {},
     "outputs": [
      {
       "metadata": {},
       "output_type": "display_data",
       "png": "[encoded data removed]",
       "text": [
        "<matplotlib.figure.Figure at 0x52775d0>"
       ]
      },
      {
       "metadata": {},
       "output_type": "display_data",
       "png": "[encoded data removed]",
       "text": [
        "<matplotlib.figure.Figure at 0x5a542d0>"
       ]
      }
     ],
     "prompt_number": 70
    },
    {
     "cell_type": "markdown",
     "metadata": {},
     "source": [
      " The `model.coeff` needed rearranging as the `MKSRegressionModel` coefficients are\n",
      " using the coefficients that have the redundancies removed."
     ]
    },
    {
     "cell_type": "markdown",
     "metadata": {},
     "source": [
      "## Exercise 03-1\n",
      "\n",
      "Create a random sample and check that using `scipy.ndimage.convolve` to create the responses gives the same result as the `MKSRegressionModel`.\n",
      " \n",
      " - Use `np.roll` to align the result from `scipy.ndimage.convolve`\n",
      " - Use `np.allclose` to compare."
     ]
    }
   ],
   "metadata": {}
  }
 ]
}