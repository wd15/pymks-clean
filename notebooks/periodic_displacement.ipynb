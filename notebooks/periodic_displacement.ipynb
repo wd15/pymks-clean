{
 "metadata": {
  "name": "",
  "signature": "sha256:159de4c4ef2fac6307042f61678d851e5144b08367c4f4d11801b59026d75712"
 },
 "nbformat": 3,
 "nbformat_minor": 0,
 "worksheets": [
  {
   "cells": [
    {
     "cell_type": "code",
     "collapsed": false,
     "input": [
      "from pymks.datasets.elastic_FE_simulation import ElasticFESimulation\n"
     ],
     "language": "python",
     "metadata": {},
     "outputs": [],
     "prompt_number": 1
    },
    {
     "cell_type": "code",
     "collapsed": false,
     "input": [
      "sim = ElasticFESimulation((1.0,1.0), (0.3,0.3), macro_strain=0.02)"
     ],
     "language": "python",
     "metadata": {},
     "outputs": [],
     "prompt_number": 2
    },
    {
     "cell_type": "code",
     "collapsed": false,
     "input": [
      "#X = np.zeros((1, 4, 4), dtype=int)\n",
      "X = np.random.randint(2, size=(1, 3, 3, 3))"
     ],
     "language": "python",
     "metadata": {},
     "outputs": [],
     "prompt_number": 3
    },
    {
     "cell_type": "code",
     "collapsed": false,
     "input": [
      "u = sim.get_displacement(X)[0]"
     ],
     "language": "python",
     "metadata": {},
     "outputs": [
      {
       "output_type": "stream",
       "stream": "stdout",
       "text": [
        "(216, 3)\n",
        "(array([0, 0, 0, ..., 2, 2, 2]), array([0, 0, 0, ..., 2, 2, 2]), array([0, 0, 0, ..., 2, 2, 2]))\n"
       ]
      }
     ],
     "prompt_number": 4
    },
    {
     "cell_type": "code",
     "collapsed": false,
     "input": [
      "#print u[:,0]\n",
      "#print u[:,1]\n",
      "print 'offset x'\n",
      "print u[-1,...,0]\n",
      "print u[0,...,0]\n",
      "print 'offset y'\n",
      "print u[-1,...,1]\n",
      "print u[0,...,1]\n",
      "print 'offset z'\n",
      "print u[-1,...,2]\n",
      "print u[0,...,2]\n",
      "#print 'periodic x and y'\n",
      "#print u.data[::5] - u.data[4::5]\n",
      "#print 'offset y'\n",
      "#print u.data[-5:,1]  - u.data[:5, 1]"
     ],
     "language": "python",
     "metadata": {},
     "outputs": [
      {
       "output_type": "stream",
       "stream": "stdout",
       "text": [
        "offset x\n",
        "[[ 0.06       -0.53186442 -5.22951646  0.06      ]\n",
        " [ 3.8624104  -5.16308204  1.84681975  3.8624104 ]\n",
        " [-1.9079623   0.09460712  4.86637402 -1.9079623 ]\n",
        " [ 0.06       -0.53186442 -5.22951646  0.06      ]]\n",
        "[[ 0.         -0.29593221 -2.64475823  0.        ]\n",
        " [ 1.9012052  -5.22308204  1.78681975  1.9012052 ]\n",
        " [-0.98398115  0.03460712  4.80637402 -0.98398115]\n",
        " [ 0.         -0.29593221 -2.64475823  0.        ]]\n",
        "offset y\n",
        "[[ 0.          3.25472926  0.60926134  0.        ]\n",
        " [-3.53837197 -4.12795986  6.08200692 -3.53837197]\n",
        " [ 2.57306805 -2.96485031  2.73564226  2.57306805]\n",
        " [ 0.          3.25472926  0.60926134  0.        ]]\n",
        "[[ 0.          3.25472926  0.60926134  0.        ]\n",
        " [-3.53837197 -4.12795986  6.08200692 -3.53837197]\n",
        " [ 2.57306805 -2.96485031  2.73564226  2.57306805]\n",
        " [ 0.          3.25472926  0.60926134  0.        ]]\n",
        "offset z\n",
        "[[ 0.          0.14834059  0.25953635  0.        ]\n",
        " [-4.74379821 -1.92619834 -4.3760003  -4.74379821]\n",
        " [ 2.07218346 -9.05120708  3.97661745  2.07218346]\n",
        " [ 0.          0.14834059  0.25953635  0.        ]]\n",
        "[[ 0.          0.14834059  0.25953635  0.        ]\n",
        " [-4.74379821 -1.92619834 -4.3760003  -4.74379821]\n",
        " [ 2.07218346 -9.05120708  3.97661745  2.07218346]\n",
        " [ 0.          0.14834059  0.25953635  0.        ]]\n"
       ]
      }
     ],
     "prompt_number": 5
    },
    {
     "cell_type": "code",
     "collapsed": false,
     "input": [
      "sim.pb.save_state('dump.vtk', sim.vec)"
     ],
     "language": "python",
     "metadata": {},
     "outputs": [
      {
       "ename": "AttributeError",
       "evalue": "'ElasticFESimulation' object has no attribute 'pb'",
       "output_type": "pyerr",
       "traceback": [
        "\u001b[1;31m---------------------------------------------------------------------------\u001b[0m\n\u001b[1;31mAttributeError\u001b[0m                            Traceback (most recent call last)",
        "\u001b[1;32m<ipython-input-6-5deb212269f9>\u001b[0m in \u001b[0;36m<module>\u001b[1;34m()\u001b[0m\n\u001b[1;32m----> 1\u001b[1;33m \u001b[0msim\u001b[0m\u001b[1;33m.\u001b[0m\u001b[0mpb\u001b[0m\u001b[1;33m.\u001b[0m\u001b[0msave_state\u001b[0m\u001b[1;33m(\u001b[0m\u001b[1;34m'dump.vtk'\u001b[0m\u001b[1;33m,\u001b[0m \u001b[0msim\u001b[0m\u001b[1;33m.\u001b[0m\u001b[0mvec\u001b[0m\u001b[1;33m)\u001b[0m\u001b[1;33m\u001b[0m\u001b[0m\n\u001b[0m",
        "\u001b[1;31mAttributeError\u001b[0m: 'ElasticFESimulation' object has no attribute 'pb'"
       ]
      }
     ],
     "prompt_number": 6
    },
    {
     "cell_type": "code",
     "collapsed": false,
     "input": [
      "from sfepy.postprocess.viewer import Viewer\n",
      "view = Viewer('dump.vtk')\n",
      "view(vector_mode='warp_norm', rel_scaling=2, is_scalar_bar=True, is_wireframe=True)"
     ],
     "language": "python",
     "metadata": {},
     "outputs": [
      {
       "metadata": {},
       "output_type": "pyout",
       "prompt_number": 7,
       "text": [
        "<sfepy.postprocess.viewer.ViewerGUI at 0x7f66f9066cb0>"
       ]
      }
     ],
     "prompt_number": 7
    },
    {
     "cell_type": "code",
     "collapsed": false,
     "input": [
      "?np.random.randint\n"
     ],
     "language": "python",
     "metadata": {},
     "outputs": [],
     "prompt_number": 7
    },
    {
     "cell_type": "code",
     "collapsed": false,
     "input": [
      "print X"
     ],
     "language": "python",
     "metadata": {},
     "outputs": [
      {
       "output_type": "stream",
       "stream": "stdout",
       "text": [
        "[[[1 0 0 1]\n",
        "  [0 1 1 1]\n",
        "  [0 0 1 1]\n",
        "  [1 0 0 1]]]\n"
       ]
      }
     ],
     "prompt_number": 9
    },
    {
     "cell_type": "code",
     "collapsed": false,
     "input": [
      "X"
     ],
     "language": "python",
     "metadata": {},
     "outputs": [
      {
       "metadata": {},
       "output_type": "pyout",
       "prompt_number": 10,
       "text": [
        "array([[[1, 0, 0, 1],\n",
        "        [0, 1, 1, 1],\n",
        "        [0, 0, 1, 1],\n",
        "        [1, 0, 0, 1]]])"
       ]
      }
     ],
     "prompt_number": 10
    },
    {
     "cell_type": "code",
     "collapsed": false,
     "input": [
      "tuple(X)"
     ],
     "language": "python",
     "metadata": {},
     "outputs": [
      {
       "metadata": {},
       "output_type": "pyout",
       "prompt_number": 11,
       "text": [
        "(array([[1, 0, 0, 1],\n",
        "        [0, 1, 1, 1],\n",
        "        [0, 0, 1, 1],\n",
        "        [1, 0, 0, 1]]),)"
       ]
      }
     ],
     "prompt_number": 11
    },
    {
     "cell_type": "code",
     "collapsed": false,
     "input": [
      "a = (0, 1, 2, 3)"
     ],
     "language": "python",
     "metadata": {},
     "outputs": [],
     "prompt_number": 12
    },
    {
     "cell_type": "code",
     "collapsed": false,
     "input": [
      "tuple(x + 1 for x in a) "
     ],
     "language": "python",
     "metadata": {},
     "outputs": [
      {
       "metadata": {},
       "output_type": "pyout",
       "prompt_number": 14,
       "text": [
        "(1, 2, 3, 4)"
       ]
      }
     ],
     "prompt_number": 14
    },
    {
     "cell_type": "code",
     "collapsed": false,
     "input": [],
     "language": "python",
     "metadata": {},
     "outputs": []
    }
   ],
   "metadata": {}
  }
 ]
}