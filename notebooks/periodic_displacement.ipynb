{
 "metadata": {
  "name": "",
  "signature": "sha256:4c4a224c723a6891697678d0462e5f5e4a6eb3a7cb552b613b881ed71f589bb8"
 },
 "nbformat": 3,
 "nbformat_minor": 0,
 "worksheets": [
  {
   "cells": [
    {
     "cell_type": "code",
     "collapsed": false,
     "input": [
      "from pymks.datasets.elastic_FE_simulation import ElasticFESimulationPD"
     ],
     "language": "python",
     "metadata": {},
     "outputs": [],
     "prompt_number": 1
    },
    {
     "cell_type": "code",
     "collapsed": false,
     "input": [
      "sim = ElasticFESimulationPD((1.0,10.0), (0.3,0.3), macro_strain=0.1)"
     ],
     "language": "python",
     "metadata": {},
     "outputs": [],
     "prompt_number": 2
    },
    {
     "cell_type": "code",
     "collapsed": false,
     "input": [
      "X = np.zeros((1, 3, 3), dtype=int)\n",
      "X[0, 1, 1] = 1"
     ],
     "language": "python",
     "metadata": {},
     "outputs": [],
     "prompt_number": 3
    },
    {
     "cell_type": "code",
     "collapsed": false,
     "input": [
      "y = sim.get_response(X, slice(None))"
     ],
     "language": "python",
     "metadata": {},
     "outputs": [],
     "prompt_number": 4
    },
    {
     "cell_type": "code",
     "collapsed": false,
     "input": [
      "print y\n"
     ],
     "language": "python",
     "metadata": {},
     "outputs": [
      {
       "output_type": "stream",
       "stream": "stdout",
       "text": [
        "[[[[ -8.93842713e-02  -9.19023643e-03   3.15925793e-02]\n",
        "   [ -1.41277635e-01   1.83804729e-02   2.74086309e-16]\n",
        "   [ -8.93842713e-02  -9.19023643e-03  -3.15925793e-02]]\n",
        "\n",
        "  [[ -8.36602913e-02  -2.27943846e-03  -1.30971622e-16]\n",
        "   [ -1.74447303e-02   4.55887691e-03   4.42354486e-17]\n",
        "   [ -8.36602913e-02  -2.27943846e-03  -8.76035355e-17]]\n",
        "\n",
        "  [[ -8.93842713e-02  -9.19023643e-03  -3.15925793e-02]\n",
        "   [ -1.41277635e-01   1.83804729e-02   1.71737624e-16]\n",
        "   [ -8.93842713e-02  -9.19023643e-03   3.15925793e-02]]]]\n"
       ]
      }
     ],
     "prompt_number": 5
    },
    {
     "cell_type": "code",
     "collapsed": false,
     "input": [
      "sim.pb.save_state('dump.vtk', sim.vec)"
     ],
     "language": "python",
     "metadata": {},
     "outputs": [],
     "prompt_number": 6
    },
    {
     "cell_type": "code",
     "collapsed": false,
     "input": [
      "from sfepy.postprocess.viewer import Viewer\n",
      "view = Viewer('dump.vtk')\n",
      "view(vector_mode='warp_norm', rel_scaling=2, is_scalar_bar=True, is_wireframe=True)"
     ],
     "language": "python",
     "metadata": {},
     "outputs": []
    },
    {
     "cell_type": "code",
     "collapsed": false,
     "input": [],
     "language": "python",
     "metadata": {},
     "outputs": []
    }
   ],
   "metadata": {}
  }
 ]
}