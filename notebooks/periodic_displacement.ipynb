{
 "metadata": {
  "name": "",
  "signature": "sha256:f00ad5b0f82de95175c845d1376fd83a39359d7cb97cd446c84028c15f650e93"
 },
 "nbformat": 3,
 "nbformat_minor": 0,
 "worksheets": [
  {
   "cells": [
    {
     "cell_type": "code",
     "collapsed": false,
     "input": [
      "from pymks.datasets.elastic_FE_simulation import ElasticFESimulation\n"
     ],
     "language": "python",
     "metadata": {},
     "outputs": [],
     "prompt_number": 1
    },
    {
     "cell_type": "code",
     "collapsed": false,
     "input": [
      "sim = ElasticFESimulation((10.0,1.0), (0.3,0.3), macro_strain=0.1)"
     ],
     "language": "python",
     "metadata": {},
     "outputs": [],
     "prompt_number": 3
    },
    {
     "cell_type": "code",
     "collapsed": false,
     "input": [
      "#X = np.zeros((1, 4, 4), dtype=int)\n",
      "X = np.random.randint(2, size=(1, 4, 4))"
     ],
     "language": "python",
     "metadata": {},
     "outputs": [],
     "prompt_number": 4
    },
    {
     "cell_type": "code",
     "collapsed": false,
     "input": [
      "y = sim.get_response(X, slice(None))"
     ],
     "language": "python",
     "metadata": {},
     "outputs": [],
     "prompt_number": 5
    },
    {
     "cell_type": "code",
     "collapsed": false,
     "input": [
      "u = sim.vec.create_output_dict()['u']\n",
      "print u.data[:,0]\n",
      "print u.data[:,1]\n",
      "print 'offset x'\n",
      "print u.data[-5:,0] - u.data[:5,0] - 0.1 * 4.\n",
      "print 'periodic x and y'\n",
      "print u.data[::5] - u.data[4::5]\n",
      "print 'offset y'\n",
      "print u.data[-5:,1]  - u.data[:5, 1]"
     ],
     "language": "python",
     "metadata": {},
     "outputs": [
      {
       "output_type": "stream",
       "stream": "stdout",
       "text": [
        "[ 0.         -0.03227128 -0.03334077 -0.02302989  0.          0.12937522\n",
        "  0.08194512  0.01360573  0.01901359  0.12937522  0.17860733  0.20996042\n",
        "  0.25170574  0.16494346  0.17860733  0.22474864  0.28041622  0.32340512\n",
        "  0.33122278  0.22474864  0.4         0.36772872  0.36665923  0.37697011\n",
        "  0.4       ]\n",
        "[ 0.         -0.01896862 -0.05053536 -0.06096553  0.          0.04929592\n",
        "  0.00736289 -0.03987275 -0.05929299  0.04929592  0.05584876  0.02273569\n",
        " -0.01675287 -0.03104462  0.05584876  0.01320308 -0.01370945 -0.03986345\n",
        " -0.05273877  0.01320308  0.         -0.01896862 -0.05053536 -0.06096553\n",
        "  0.        ]\n",
        "offset x\n",
        "[ 0.  0.  0.  0.  0.]\n",
        "periodic x and y\n",
        "[[ 0.  0.]\n",
        " [ 0.  0.]\n",
        " [ 0.  0.]\n",
        " [ 0.  0.]\n",
        " [ 0.  0.]]\n",
        "offset y\n",
        "[ 0.  0.  0.  0.  0.]\n"
       ]
      }
     ],
     "prompt_number": 6
    },
    {
     "cell_type": "code",
     "collapsed": false,
     "input": [
      "sim.pb.save_state('dump.vtk', sim.vec)"
     ],
     "language": "python",
     "metadata": {},
     "outputs": [],
     "prompt_number": 7
    },
    {
     "cell_type": "code",
     "collapsed": false,
     "input": [
      "from sfepy.postprocess.viewer import Viewer\n",
      "view = Viewer('dump.vtk')\n",
      "view(vector_mode='warp_norm', rel_scaling=2, is_scalar_bar=True, is_wireframe=True)"
     ],
     "language": "python",
     "metadata": {},
     "outputs": [
      {
       "metadata": {},
       "output_type": "pyout",
       "prompt_number": 8,
       "text": [
        "<sfepy.postprocess.viewer.ViewerGUI at 0x7f6fda0dabf0>"
       ]
      }
     ],
     "prompt_number": 8
    },
    {
     "cell_type": "code",
     "collapsed": false,
     "input": [
      "?np.random.randint\n"
     ],
     "language": "python",
     "metadata": {},
     "outputs": [],
     "prompt_number": 7
    },
    {
     "cell_type": "code",
     "collapsed": false,
     "input": [
      "print X"
     ],
     "language": "python",
     "metadata": {},
     "outputs": [
      {
       "output_type": "stream",
       "stream": "stdout",
       "text": [
        "[[[1 0 0 1]\n",
        "  [0 1 1 1]\n",
        "  [0 0 1 1]\n",
        "  [1 0 0 1]]]\n"
       ]
      }
     ],
     "prompt_number": 9
    },
    {
     "cell_type": "code",
     "collapsed": false,
     "input": [
      "X"
     ],
     "language": "python",
     "metadata": {},
     "outputs": [
      {
       "metadata": {},
       "output_type": "pyout",
       "prompt_number": 10,
       "text": [
        "array([[[1, 0, 0, 1],\n",
        "        [0, 1, 1, 1],\n",
        "        [0, 0, 1, 1],\n",
        "        [1, 0, 0, 1]]])"
       ]
      }
     ],
     "prompt_number": 10
    },
    {
     "cell_type": "code",
     "collapsed": false,
     "input": [
      "tuple(X)"
     ],
     "language": "python",
     "metadata": {},
     "outputs": [
      {
       "metadata": {},
       "output_type": "pyout",
       "prompt_number": 11,
       "text": [
        "(array([[1, 0, 0, 1],\n",
        "        [0, 1, 1, 1],\n",
        "        [0, 0, 1, 1],\n",
        "        [1, 0, 0, 1]]),)"
       ]
      }
     ],
     "prompt_number": 11
    },
    {
     "cell_type": "code",
     "collapsed": false,
     "input": [
      "a = (0, 1, 2, 3)"
     ],
     "language": "python",
     "metadata": {},
     "outputs": [],
     "prompt_number": 12
    },
    {
     "cell_type": "code",
     "collapsed": false,
     "input": [
      "tuple(x + 1 for x in a) "
     ],
     "language": "python",
     "metadata": {},
     "outputs": [
      {
       "metadata": {},
       "output_type": "pyout",
       "prompt_number": 14,
       "text": [
        "(1, 2, 3, 4)"
       ]
      }
     ],
     "prompt_number": 14
    },
    {
     "cell_type": "code",
     "collapsed": false,
     "input": [],
     "language": "python",
     "metadata": {},
     "outputs": []
    }
   ],
   "metadata": {}
  }
 ]
}