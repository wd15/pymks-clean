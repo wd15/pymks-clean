{
 "metadata": {
  "name": "",
  "signature": "sha256:96a2a3579ccb6c3c4b3967568717a544ac280907d242d00d80a7df58323cf8ad"
 },
 "nbformat": 3,
 "nbformat_minor": 0,
 "worksheets": [
  {
   "cells": [
    {
     "cell_type": "code",
     "collapsed": false,
     "input": [
      "from pymks.datasets.elastic_FE_simulation import ElasticFESimulationPD"
     ],
     "language": "python",
     "metadata": {},
     "outputs": [],
     "prompt_number": 1
    },
    {
     "cell_type": "code",
     "collapsed": false,
     "input": [
      "sim = ElasticFESimulationPD((1.0,10.0), (0.3,0.3), macro_strain=0.1)"
     ],
     "language": "python",
     "metadata": {},
     "outputs": [],
     "prompt_number": 2
    },
    {
     "cell_type": "code",
     "collapsed": false,
     "input": [
      "X = np.zeros((1, 3, 3), dtype=int)\n",
      "X[0, 1, 1] = 1"
     ],
     "language": "python",
     "metadata": {},
     "outputs": [],
     "prompt_number": 3
    },
    {
     "cell_type": "code",
     "collapsed": false,
     "input": [
      "y = sim.get_response(X, slice(None))"
     ],
     "language": "python",
     "metadata": {},
     "outputs": [],
     "prompt_number": 4
    },
    {
     "cell_type": "code",
     "collapsed": false,
     "input": [
      "print y\n"
     ],
     "language": "python",
     "metadata": {},
     "outputs": [
      {
       "output_type": "stream",
       "stream": "stdout",
       "text": [
        "[[[[  1.11281782e-02   4.69478960e-06   5.42326163e-02]\n",
        "   [ -2.97776965e-03  -9.38957919e-06  -2.46330734e-16]\n",
        "   [  1.11281782e-02   4.69478960e-06  -5.42326163e-02]]\n",
        "\n",
        "  [[  7.00424480e-03  -5.92427231e-04   9.90195509e-03]\n",
        "   [ -3.75385796e-05   1.18485446e-03   3.03576608e-17]\n",
        "   [  7.00424480e-03  -5.92427231e-04  -9.90195509e-03]]\n",
        "\n",
        "  [[  7.79682478e-03  -3.74904053e-04   1.06560064e-02]\n",
        "   [  3.68493727e-03   7.49808107e-04   6.24500451e-17]\n",
        "   [  7.79682478e-03  -3.74904053e-04  -1.06560064e-02]]]]\n"
       ]
      }
     ],
     "prompt_number": 5
    },
    {
     "cell_type": "code",
     "collapsed": false,
     "input": [
      "sim.pb.save_state('dump.vtk', sim.vec)"
     ],
     "language": "python",
     "metadata": {},
     "outputs": [],
     "prompt_number": 6
    },
    {
     "cell_type": "code",
     "collapsed": false,
     "input": [
      "from sfepy.postprocess.viewer import Viewer\n",
      "view = Viewer('dump.vtk')\n",
      "view(vector_mode='warp_norm', rel_scaling=2, is_scalar_bar=True, is_wireframe=True)"
     ],
     "language": "python",
     "metadata": {},
     "outputs": []
    },
    {
     "cell_type": "code",
     "collapsed": false,
     "input": [],
     "language": "python",
     "metadata": {},
     "outputs": []
    }
   ],
   "metadata": {}
  }
 ]
}