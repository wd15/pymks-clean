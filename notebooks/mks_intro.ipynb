{
 "metadata": {
  "name": "",
  "signature": "sha256:021c1ee436e1c474d4047dd14307618fae6fcdea575fb5e0e639007d45e9d5a5"
 },
 "nbformat": 3,
 "nbformat_minor": 0,
 "worksheets": [
  {
   "cells": [
    {
     "cell_type": "markdown",
     "metadata": {},
     "source": [
      "## Introduction\n",
      "\n",
      "An important component of the MKS is the regression technique for radid calculation of a response $p_i$ based on a microstructure $m_i$, where the index $i$ refers to a spatil location often in 2D or 3D. For example, the microsturcture may often have material properties that vary such as elastic modulus or Poisson's ratio while the repsonse might be a stress or strain field.\n",
      "\n",
      "## Discretize in State Space\n",
      "\n",
      "The first step int the MKS is to bin (or discretize) the state space. To so this we take the microstrucuter representation $m_i$ and represent it with $m^h_i$ such that\n",
      "\n",
      "$$ m_i = \\sum_h m^h_i \\chi^h $$\n",
      "\n",
      "where $\\chi^h$ is the basis representation for the discretization of the microstructure.\n",
      "\n",
      "The following images represent demonstart the simplest discretiztion. This is analgous to plitting the data into various channels in signal processing. For example, a value of 0.049 is represented by (0.76, 0.24, 0, 0, 0, 0) when discretized with 6 bins."
     ]
    },
    {
     "cell_type": "code",
     "collapsed": false,
     "input": [
      "import matplotlib.pyplot as plt\n",
      "import numpy as np\n",
      "from pymks import draw_microstructure_discretization\n",
      "\n",
      "N = 2\n",
      "np.random.seed(21)\n",
      "m = np.random.random(N)[None]\n",
      "for s in range(N):\n",
      "    plt.figure()\n",
      "    draw_microstructure_discretization(m, a=0, s=s)"
     ],
     "language": "python",
     "metadata": {},
     "outputs": [
      {
       "metadata": {},
       "output_type": "display_data",
       "png": "[encoded data removed]",
       "text": [
        "<matplotlib.figure.Figure at 0x7fd074975e90>"
       ]
      },
      {
       "metadata": {},
       "output_type": "display_data",
       "png": "[encoded data removed]",
       "text": [
        "<matplotlib.figure.Figure at 0x7fd074859c90>"
       ]
      }
     ],
     "prompt_number": 7
    },
    {
     "cell_type": "markdown",
     "metadata": {},
     "source": [
      "## The Influence Coefficients\n",
      "\n",
      "Once the state space is discretized, the relationship between the response $p_i$ and microstructure $m_i^h$ can be written as,\n",
      "\n",
      "$$ p_i = \\sum_h \\sum_j \\alpha_j^h m_{a,i + j}^h $$\n",
      "\n",
      "where the $\\alpha_j^h$ are known as the influence coeffients and describe the relationship between $p_i$ and $m_j$. The $p_i$ are a convolution of $\\alpha_j^h$ and $m_j$ in space. In general, it is assumed that both $m_j$ and $p_i$ are periodic."
     ]
    },
    {
     "cell_type": "code",
     "collapsed": false,
     "input": [
      "## PyMKS Example\n",
      "\n",
      "This example demonstartes how to seed the MKS to replace a finite element simulation.   "
     ],
     "language": "python",
     "metadata": {},
     "outputs": []
    },
    {
     "cell_type": "code",
     "collapsed": false,
     "input": [],
     "language": "python",
     "metadata": {},
     "outputs": []
    },
    {
     "cell_type": "markdown",
     "metadata": {},
     "source": [
      "## Real space\n",
      "\n",
      "In order to understand how to compute the influence coefficients it is\n",
      "useful to see a demonstration in real space. Although we have a tensor\n",
      "representations of $m_{a, s}^h$, we need to create an intermediate\n",
      "matrix to calculate the convolution, $\\sum\\limits_{h=0}^{H - 1} \\sum\\limits_{t=0}^{S-1} \\alpha_t^h m_{a,s + t}^h$. This matrix representation of $m_{a, s}^h$ is\n",
      "given by the `microstructureMatrix` and has shape `(N*N*Nsample, N*N*Nbin)`. The `microstructureMatrix` is essentially a\n",
      "[circulant matrix](http://en.wikipedia.org/wiki/Circulant_matrix) that\n",
      "isn't square.\n"
     ]
    },
    {
     "cell_type": "code",
     "collapsed": false,
     "input": [
      "def rollMatrix(m, N, Nbin):\n",
      "    matrix = np.zeros((N**2, N**2 * Nbin))\n",
      "    for i in range(N**2):\n",
      "        matrix[i] = np.roll(m, -i, axis=0).swapaxes(0,1).flatten()\n",
      "    return matrix\n",
      "\n",
      "microstructureMatrix = np.concatenate([rollMatrix(m, N, Nbin) for m in binnedMicrostructures])\n",
      "\n",
      "print microstructureMatrix.shape\n"
     ],
     "language": "python",
     "metadata": {},
     "outputs": [
      {
       "output_type": "stream",
       "stream": "stdout",
       "text": [
        "(500, 600)\n"
       ]
      }
     ],
     "prompt_number": 17
    },
    {
     "cell_type": "markdown",
     "metadata": {},
     "source": [
      "To calculate the influence coefficients, $\\alpha_s^h$, we use `numpy`'s `lstsq` function."
     ]
    },
    {
     "cell_type": "code",
     "collapsed": false,
     "input": [
      "responses = responses.flatten()\n",
      "coefficients = np.linalg.lstsq(microstructureMatrix, responses)[0]\n",
      "print coefficients.shape\n"
     ],
     "language": "python",
     "metadata": {},
     "outputs": [
      {
       "output_type": "stream",
       "stream": "stdout",
       "text": [
        "(600,)\n"
       ]
      }
     ],
     "prompt_number": 18
    },
    {
     "cell_type": "markdown",
     "metadata": {},
     "source": [
      "If `Nbin > Nsample` then we can check that the influence coeffiencts exacly reproduce the `responses`. The result below should be `True` for an over-determined system."
     ]
    },
    {
     "cell_type": "code",
     "collapsed": false,
     "input": [
      "print np.allclose(np.dot(microstructureMatrix, coefficients), responses)"
     ],
     "language": "python",
     "metadata": {},
     "outputs": [
      {
       "output_type": "stream",
       "stream": "stdout",
       "text": [
        "True\n"
       ]
      }
     ],
     "prompt_number": 19
    },
    {
     "cell_type": "markdown",
     "metadata": {},
     "source": [
      "## Fourier Space"
     ]
    },
    {
     "cell_type": "markdown",
     "metadata": {},
     "source": [
      "Having calculated the coefficients for a small system in real space,\n",
      "we will now calculate a much larger system in Fourier space and\n",
      "then confirm that a sensible response is reproduced. Calculating the regression\n",
      "in Frequency space drastically reduces the\n",
      "computational cost. The size of the regression is reduced\n",
      "from $ \\left(N^2 N_{\\text{sample}} \\times N^2 H \\right)$ to\n",
      "$\\left(N_{\\text{sample}} \\times H \\right)$ for each point in\n",
      "reciprocal space $N^2$. The convolution,\n",
      "\n",
      "  $$ \\sum\\limits_{h=0}^{H-1} \\sum\\limits_{t=0}^{S-1} \\alpha_t^h m_{a,s + t}^h $$\n",
      "  \n",
      "can be deconvolved in Fourier space with,\n",
      "\n",
      "$$ \\begin{split}\n",
      "\\mathcal{F}_k \\left( \\sum\\limits_{h=0}^{H-1} \\sum\\limits_{t=0}^{S-1} \\alpha_t^h m_{a,s + t}^h \\right)\n",
      "=&  \\sum\\limits_{s=0}^{S-1} \\left[ \\sum\\limits_{h=0}^{H-1} \\sum\\limits_{t=0}^{S-1} \\alpha_t^h m_{a,s + t}^h \\right] e^{-2 \\pi i k s / S} \n",
      " \\;\\;\\; & \\text{(definition)}\n",
      " \\\\\n",
      "=&  \\sum\\limits_{h=0}^{H-1} \\left[ \\sum\\limits_{t=0}^{S-1} \\alpha_t^h \\left[ \\sum\\limits_{s=0}^{S-1} m_{a,s + t}^h e^{-2 \\pi i k s / S} \\right] \\right]\n",
      " \\;\\;\\; & \\text{(rearrange)}\n",
      " \\\\\n",
      "=&  \\sum\\limits_{h=0}^{H-1} \\left[ \\sum\\limits_{t=0}^{S-1} \\alpha_t^h \\left[ \\sum\\limits_{v=t}^{S-1+t} m_{a,v}^h e^{-2 \\pi i k \\left(v - t\\right) / S} \\right] \\right]\n",
      " \\;\\;\\; & \\text{($v=s+t$)} \n",
      " \\\\\n",
      " =&  \\sum\\limits_{h=0}^{H-1} \\left[ \\sum\\limits_{t=0}^{S-1} \\alpha_t^h e^{2 \\pi i k t / S} \\left[ \\sum\\limits_{v=t}^{S-1+t} m_{a,v}^h e^{-2 \\pi i k v / S} \\right] \\right]\n",
      " \\;\\;\\; & \\text{(rearrange)} \n",
      "  \\\\\n",
      " =&  \\sum\\limits_{h=0}^{H-1} \\left[ \\sum\\limits_{t=0}^{S-1} \\alpha_t^h e^{2 \\pi i k t / S} \\left[ \\sum\\limits_{v=0}^{S-1} m_{a,v}^h e^{-2 \\pi i k v / S} \\right] \\right]\n",
      " \\;\\;\\; & \\text{(periodicity of $m_v^h$)} \n",
      " \\\\\n",
      " =&  \\sum\\limits_{h=0}^{H-1} \\left[ \\left[ \\mathcal{F}_k \\left( \\alpha_t^h \\right) \\right]^* \\mathcal{F}_k \\left( m_{a,t}^h \\right) \\right]\n",
      " \\;\\;\\; & \\text{} \n",
      "\\end{split}$$\n",
      "  \n",
      " The above is a proof of the [circular convolution theorem](http://en.wikipedia.org/wiki/Discrete_Fourier_transform#Circular_convolution_theorem_and_cross-correlation_theorem). If we write $P_{a,k} =\n",
      " \\mathcal{F}_k \\left( p_{a, s} \\right)$, $M_{a, k}^h = \\mathcal{F}_k\n",
      " \\left( m_{a,s}^h \\right)$ and $\\beta_k^h = \\mathcal{F}_k \\left(\n",
      " \\alpha_s^h \\right)$, then we just need to solve\n",
      " \n",
      " \n",
      "   $$ P_{a,k} = \\sum\\limits_{h=0}^{h-1} \\beta_k^h M_{a, k}^h $$\n",
      "   \n",
      "with a linear regression at each discretization location in $k$ to calculate the $\\beta_k^h$.\n",
      "\n",
      "In the example below we will create a microstructure with 11 bins and\n",
      "160 samples. This is enough to give reasonable influence coefficients."
     ]
    },
    {
     "cell_type": "code",
     "collapsed": false,
     "input": [
      "N = 20\n",
      "Nbin = 11\n",
      "Nsample = 160\n",
      "\n",
      "np.random.seed(101)\n",
      "microstructures = np.array([np.random.random(N**2) for i in range(Nsample)])\n",
      "responses = np.array([fipy_response(m, dt=dt, N=N) for m in microstructures])\n",
      "binnedMicrostructures = np.array([bin(m, Nbin) for m in microstructures])\n",
      "print microstructures.shape\n",
      "print responses.shape"
     ],
     "language": "python",
     "metadata": {},
     "outputs": [
      {
       "output_type": "stream",
       "stream": "stdout",
       "text": [
        "(160, 400)\n",
        "(160, 400)\n"
       ]
      }
     ],
     "prompt_number": 20
    },
    {
     "cell_type": "markdown",
     "metadata": {},
     "source": [
      "We use `numpy`'s `fft2` to calculate the $P_{a,k}$ and $M^h_{k,a}$."
     ]
    },
    {
     "cell_type": "code",
     "collapsed": false,
     "input": [
      "microstructuresRS = binnedMicrostructures.reshape((Nsample, N, N, Nbin))\n",
      "responsesRS = responses.reshape((Nsample, N, N))\n",
      "Fmicrostructures = np.fft.fft2(microstructuresRS, axes=(1, 2))\n",
      "Fresponses = np.fft.fft2(responsesRS, axes=(1, 2))"
     ],
     "language": "python",
     "metadata": {},
     "outputs": [],
     "prompt_number": 21
    },
    {
     "cell_type": "code",
     "collapsed": false,
     "input": [
      "Fcoeff = np.zeros((N, N, Nbin), dtype=np.complex)"
     ],
     "language": "python",
     "metadata": {},
     "outputs": [],
     "prompt_number": 22
    },
    {
     "cell_type": "markdown",
     "metadata": {},
     "source": [
      "We calculate $\\beta_k^h$ at every point in $k$ space."
     ]
    },
    {
     "cell_type": "code",
     "collapsed": false,
     "input": [
      "for ki in range(N):\n",
      "    for kj in range(N):\n",
      "        Fcoeff[ki,kj,:] = np.linalg.lstsq(Fmicrostructures[:,ki,kj,:], Fresponses[:,ki,kj] )[0]\n",
      "        "
     ],
     "language": "python",
     "metadata": {},
     "outputs": [],
     "prompt_number": 23
    },
    {
     "cell_type": "code",
     "collapsed": false,
     "input": [
      "reconstructedResponses = np.sum(Fmicrostructures * Fcoeff[np.newaxis], axis=-1)"
     ],
     "language": "python",
     "metadata": {},
     "outputs": [],
     "prompt_number": 24
    },
    {
     "cell_type": "markdown",
     "metadata": {},
     "source": [
      "For a loose check let's see how close the reconstructed responses are to the sample responses."
     ]
    },
    {
     "cell_type": "code",
     "collapsed": false,
     "input": [
      "from sklearn import metrics\n",
      "mse = metrics.mean_squared_error\n",
      "responses = np.fft.ifft2(reconstructedResponses, axes=(1, 2)).real\n",
      "MSE = mse(responsesRS, np.fft.ifft2(reconstructedResponses, axes=(1, 2)).real)\n",
      "print 'Mean square error: {0:1.3e}'.format(MSE)\n",
      "print 'Typical values'\n",
      "print responsesRS[0,0,:10]\n",
      "print responses[0,0,:10]"
     ],
     "language": "python",
     "metadata": {},
     "outputs": [
      {
       "output_type": "stream",
       "stream": "stdout",
       "text": [
        "Mean square error: 1.358e+10\n",
        "Typical values\n",
        "[  3134920.24329635 -14859922.85111164  24350855.96847351  16518931.7101288\n",
        " -13399504.96081172 -20608868.32626785  21532496.27938246\n",
        " -24030785.28692817 -11643521.47041003  27758619.45859079]\n",
        "[  3013635.84       -14692726.82641511  24504455.19776576\n",
        "  16802677.09155771 -13414803.84246958 -20575614.08        21450135.01626968\n",
        " -23919938.87934423 -11691192.67329024  27626894.75236416]\n"
       ]
      }
     ],
     "prompt_number": 25
    },
    {
     "cell_type": "markdown",
     "metadata": {},
     "source": [
      "## Exercise 02-1"
     ]
    },
    {
     "cell_type": "markdown",
     "metadata": {},
     "source": [
      "Test the influence coefficients using one sample.\n",
      " \n",
      " - first create a test microstructure\n",
      " - use `fipy_response` to create a test response\n",
      " - bin the test microstructure\n",
      " - take the FFT of the binned microstructure\n",
      " - take the inner prodcuct of `Fcoeff` with the binned microstructure along the `bin` axis\n",
      " - send the result back to real space to get the calculated response\n",
      " - compare the calculated response with the test response."
     ]
    },
    {
     "cell_type": "code",
     "collapsed": false,
     "input": [
      "np.random.seed(103)\n",
      "test_microstructure = np.random.random(N**2)\n",
      "test_response = fipy_response(test_microstructure, dt=dt, N=N)\n",
      "\n",
      "binned_test_microstructure = bin(test_microstructure, Nbin).reshape((N, N, Nbin))\n",
      "Fm = np.fft.fft2(binned_test_microstructure, axes=(0, 1))\n",
      "Fr = np.sum(Fm * Fcoeff, axis=-1)\n",
      "            \n",
      "calc_response = np.fft.ifft2(Fr, axes=(0, 1)).real.flatten()\n",
      "\n",
      "\n",
      "print test_response[:20]\n",
      "print calc_response[:20]"
     ],
     "language": "python",
     "metadata": {},
     "outputs": [
      {
       "output_type": "stream",
       "stream": "stdout",
       "text": [
        "[ 10321080.57374739  18170943.91955532  21953730.26038766\n",
        " -27668437.71011165  -1222554.20968084   4850834.021033   -26983622.32046547\n",
        " -28409259.90543952   5996828.80698766  10823111.24422134\n",
        "   6559197.50876078 -30826019.2029601   -8894200.91717253\n",
        "  -6046499.57272069 -12751789.16653129  33920217.9478319    7588871.20941563\n",
        "  10018364.24439061   2116472.25868405 -25814016.94703518]\n",
        "[ 10136893.8         18057017.95942609  21878377.34953976\n",
        " -27708096.82038447  -1299137.4447629    4855990.40000001\n",
        " -26852174.36448368 -28324788.67386933   6094005.82172765\n",
        "  10782186.63208983   6469447.32       -30907790.79029018\n",
        "  -9013656.85033033  -6133981.44410236 -12830583.26266264\n",
        "  33932517.76000001   7771430.67336559  10094396.05258644\n",
        "   2064878.55760657 -25968923.07545603]\n"
       ]
      }
     ],
     "prompt_number": 26
    },
    {
     "cell_type": "markdown",
     "metadata": {},
     "source": [
      "## Influence Coefficients in Real Space\n",
      "\n",
      "Let's view the influence coefficients in real space."
     ]
    },
    {
     "cell_type": "code",
     "collapsed": false,
     "input": [
      "coeff = np.fft.ifft2(Fcoeff, axes=(0, 1)).real\n",
      "\n",
      "plt.figure()\n",
      "plt.title(r'$\\beta_s^0$', fontsize=18)\n",
      "plt.contourf(coeff[:,:,0])\n",
      "plt.colorbar()\n",
      "plt.figure()\n",
      "plt.title(r'$\\beta_s^1$', fontsize=18)\n",
      "plt.contourf(coeff[:,:,1])\n",
      "c = plt.colorbar()"
     ],
     "language": "python",
     "metadata": {},
     "outputs": [
      {
       "metadata": {},
       "output_type": "display_data",
       "png": "[encoded data removed]",
       "text": [
        "<matplotlib.figure.Figure at 0x5cbbf10>"
       ]
      },
      {
       "metadata": {},
       "output_type": "display_data",
       "png": "[encoded data removed]",
       "text": [
        "<matplotlib.figure.Figure at 0x6454d90>"
       ]
      }
     ],
     "prompt_number": 27
    },
    {
     "cell_type": "markdown",
     "metadata": {},
     "source": [
      "Doesn't look good. The influence coefficients should die off away from the origin.\n"
     ]
    }
   ],
   "metadata": {}
  }
 ]
}