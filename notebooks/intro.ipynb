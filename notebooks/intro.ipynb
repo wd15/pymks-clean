{
 "metadata": {
  "name": "",
  "signature": "sha256:db9dd129fa38c460f3363b71281a71eb231c3fe0a78656782eec3d9ed7cd462a"
 },
 "nbformat": 3,
 "nbformat_minor": 0,
 "worksheets": [
  {
   "cells": [
    {
     "cell_type": "markdown",
     "metadata": {},
     "source": [
      "# Technical Overview\n",
      "\n",
      "An important component of the MKS is the regression technique for rapid calculation of a response feild $p_i$ based on a microstructure $m_i$, where the index $i$ refers to a spatial location often in 2D or 3D. For example, the microstructure might represent values of material properties that vary based on phase such as elastic modulus or Poisson's ratio while the response might be the stress or strain field.\n",
      "\n",
      "## Discretize in State Space\n",
      "\n",
      "The first step in the MKS is to bin (or discretize) the state space. To so this, the microstructure $m_i$ and is discretized and then represented by $m^h_i$ such that\n",
      "\n",
      "$$ m_i = \\sum_h m_{i,h} \\chi_h $$\n",
      "\n",
      "where $\\chi_h$ is the basis representation for the microstructure.\n",
      "\n",
      "The following images represent simplest form of discretization. State space discrtization is analogous to splitting the data into channels in signal processing. For example, a value of 0.049 is represented by (0.76, 0.24, 0, 0, 0, 0) when discretized into 6 bins sampled over an interval of 0 to 1."
     ]
    },
    {
     "cell_type": "code",
     "collapsed": false,
     "input": [
      "from IPython.display import Image\n",
      "Image(filename='microstructure.png')"
     ],
     "language": "python",
     "metadata": {},
     "outputs": [
      {
       "metadata": {},
       "output_type": "pyout",
       "png": "[encoded data removed]",
       "prompt_number": 4,
       "text": [
        "<IPython.core.display.Image at 0x7f73c86be250>"
       ]
      }
     ],
     "prompt_number": 4
    },
    {
     "cell_type": "markdown",
     "metadata": {},
     "source": [
      "## The Influence Coefficients\n",
      "\n",
      "Once the state space is discretized, the relationship between the response $p_i$ and microstructure $m_i^h$ can be written as,\n",
      "\n",
      "$$ p_i = \\sum_h \\sum_j \\alpha_{j,h} m_{i + j,h} $$\n",
      "\n",
      "where the $\\alpha_{j,h}$ are known as the influence coefficients and describe the relationship between $p_i$ and $m_j$. The $p_i$ are a spatial convolution of $\\alpha_{j,h}$ and $m_j$. In general, it is assumed that both $m_j$ and $p_i$ are periodic.\n",
      "\n",
      "*** Note that the formulation above has dropped an index representing the samples for simplicity. Generally the MKS is calibrated using many samples. ***"
     ]
    },
    {
     "cell_type": "markdown",
     "metadata": {},
     "source": [
      "## The Convolution\n",
      "\n",
      "The efficiency of the MKS is due to solving the linear regression in Fourier space. For a 2D problem of size $N^2$, the size of the regression is reduced\n",
      "from $ \\left(N^2 N_{\\text{sample}} \\times N^2 H \\right)$ to\n",
      "$\\left(N_{\\text{sample}} \\times H \\right)$ for each point in the\n",
      "Fourier space of size $N^2$. The convolution,\n",
      "\n",
      "  $$ \\sum_h \\sum_j \\alpha_{j,h} m_{i + j,h} $$\n",
      "  \n",
      "can be deconvolved in Fourier space using [circular convolution theorem](http://en.wikipedia.org/wiki/Discrete_Fourier_transform#Circular_convolution_theorem_and_cross-correlation_theorem)\n",
      "\n",
      "If we write $P_{k} =\n",
      " \\mathcal{F}_k \\left( p_{i} \\right)$, $M_{k,h} = \\mathcal{F}_k\n",
      " \\left( m_{i,h} \\right)$ and $\\beta_{k,h} = \\mathcal{F}_k \\left(\n",
      " \\alpha_{i,h} \\right)$, then we just need to solve\n",
      " \n",
      " \n",
      "   $$ P_{k} = \\sum_h \\beta_{k,h} M_{k,h} $$\n",
      "   \n",
      "with a linear regression at each discretization location in $k$ to calculate the $\\beta_{k,h}$."
     ]
    },
    {
     "cell_type": "markdown",
     "metadata": {},
     "source": [
      "# A PyMKS Example\n",
      "\n",
      "One important application of the MKS is to accurately and rapidly reproduce finite element simulations based on microstructure.\n",
      "Let's start by running a finite element simulation on a random microstructure with different elastic moduli. The `ElasticFEModel` class encapsulates the code needed to run a plain strain problem using SfePy. It solves a plain strain problem on a square domain by straining in the x-direction and applying periodic boundary conditions in the y-direction. The two phase microstructure is represented by `X` with one phase having an elastic modulus of 80 and the other a value of 120."
     ]
    },
    {
     "cell_type": "code",
     "collapsed": false,
     "input": [
      "from pymks import ElasticFEModel\n",
      "from pymks.tools import draw_microstructure_strain\n",
      "from mpl_toolkits.axes_grid1 import make_axes_locatable\n",
      "\n",
      "E1 = 80 \n",
      "E2 = 120 \n",
      "nu = 0.3 \n",
      "\n",
      "N = 15\n",
      "np.random.seed(21)\n",
      "X = np.random.randint(2, size=(1, N, N))\n",
      "X_prop = np.zeros((X.shape + (2,)))\n",
      "X_prop[...,0] = np.where(X == 0, E1, E2)\n",
      "X_prop[...,1] = nu\n",
      "\n",
      "FEModel = ElasticFEModel()\n",
      "strains = FEModel.predict(X_prop)\n",
      "\n",
      "draw_microstructure_strain(X[0], strains[0,...,0])\n",
      "\n"
     ],
     "language": "python",
     "metadata": {},
     "outputs": [
      {
       "metadata": {},
       "output_type": "display_data",
       "png": "[encoded data removed]",
       "text": [
        "<matplotlib.figure.Figure at 0x7f73c87800d0>"
       ]
      }
     ],
     "prompt_number": 6
    },
    {
     "cell_type": "markdown",
     "metadata": {},
     "source": [
      "### Create the Delta Microstructures\n",
      "\n",
      "The goal of the MKS it to reproduce the above simulation.  In the case of linear elasticity the MKS model can be seeded with a delta microstructure. The following code snippet creates a delta microstructure with two samples."
     ]
    },
    {
     "cell_type": "code",
     "collapsed": false,
     "input": [
      "from pymks.tools import draw_microstructures\n",
      "\n",
      "N = 15\n",
      "X_delta = np.zeros((2, N, N))\n",
      "X_delta[0, (N - 1) / 2, (N - 1) / 2] = 1\n",
      "X_delta[1] = np.abs(X_delta[0] - 1)\n",
      "\n",
      "draw_microstructures(X_delta[0], X_delta[1])"
     ],
     "language": "python",
     "metadata": {},
     "outputs": [
      {
       "metadata": {},
       "output_type": "display_data",
       "png": "[encoded data removed]",
       "text": [
        "<matplotlib.figure.Figure at 0x7fc84fdca650>"
       ]
      }
     ],
     "prompt_number": 3
    },
    {
     "cell_type": "markdown",
     "metadata": {},
     "source": [
      "### Create the Responses\n",
      "\n",
      "We now create the responses from the microstructure using the `ElasticFEModel`."
     ]
    },
    {
     "cell_type": "code",
     "collapsed": false,
     "input": [
      "X_delta_prop = np.zeros((X_delta.shape + (2,)))\n",
      "X_delta_prop[...,0] = np.where(X_delta == 0, E1, E2)\n",
      "X_delta_prop[...,1] = nu\n",
      "\n",
      "FEModel = ElasticFEModel()\n",
      "strains_delta = FEModel.predict(X_delta_prop)\n",
      "\n",
      "draw_microstructure_strain(X_delta[0], strains_delta[0,...,0])\n"
     ],
     "language": "python",
     "metadata": {},
     "outputs": [
      {
       "metadata": {},
       "output_type": "display_data",
       "png": "[encoded data removed]",
       "text": [
        "<matplotlib.figure.Figure at 0x7fc85f5c4450>"
       ]
      }
     ],
     "prompt_number": 4
    },
    {
     "cell_type": "markdown",
     "metadata": {},
     "source": [
      "### Calibrate the MKS Model\n",
      "\n",
      "The `fit` method from the `MKSRegressionModel` is used to calibrate the coefficients."
     ]
    },
    {
     "cell_type": "code",
     "collapsed": false,
     "input": [
      "from pymks import MKSRegressionModel\n",
      "\n",
      "X_delta, y_delta = X_delta, strains_delta[...,0]\n",
      "model = MKSRegressionModel(Nbin=2)\n",
      "model.fit(X_delta, y_delta)"
     ],
     "language": "python",
     "metadata": {},
     "outputs": [],
     "prompt_number": 5
    },
    {
     "cell_type": "markdown",
     "metadata": {},
     "source": [
      "### Predict the FE Simulation\n",
      "\n",
      "When the `model` is calibrated it stores the influence coefficients, which are then be used by the `predict` method to return the predicted strains."
     ]
    },
    {
     "cell_type": "code",
     "collapsed": false,
     "input": [
      "from pymks.tools import draw_strains\n",
      "\n",
      "X, y = X, strains[...,0]\n",
      "y_pred = model.predict(X)\n",
      "draw_strains(y[0], y_pred[0]);"
     ],
     "language": "python",
     "metadata": {},
     "outputs": [
      {
       "metadata": {},
       "output_type": "display_data",
       "png": "[encoded data removed]",
       "text": [
        "<matplotlib.figure.Figure at 0x7fc85fe15510>"
       ]
      }
     ],
     "prompt_number": 6
    },
    {
     "cell_type": "markdown",
     "metadata": {},
     "source": [
      "The MKS has done quite a good job of predicting the results from the original FE simulation using only the delta microstructue to calibrate the influence coefficients.\n",
      "\n",
      "\n"
     ]
    },
    {
     "cell_type": "markdown",
     "metadata": {},
     "source": [
      "###Comments\n",
      "\n",
      "The MKS coefficients can then be scaled up to reproduce larger FE simulations using only the small FE simulation to seed the MKS model.\n",
      "\n",
      "** Note that the cells close to the left and right side of the domain are not well predicited. This is due to issues with the SfePy FE solver and periodic boundary conditions. This should be ironed out soon. **"
     ]
    }
   ],
   "metadata": {}
  }
 ]
}