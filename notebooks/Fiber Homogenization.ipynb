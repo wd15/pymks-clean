{
 "cells": [
  {
   "cell_type": "code",
   "execution_count": 1,
   "metadata": {
    "collapsed": true
   },
   "outputs": [],
   "source": [
    "import numpy as np"
   ]
  },
  {
   "cell_type": "code",
   "execution_count": 2,
   "metadata": {
    "collapsed": true
   },
   "outputs": [],
   "source": [
    "sample_size = 50\n",
    "n_samples = 4*[sample_size]\n",
    "size = (100, 100)\n",
    "elastic_modulus = (1.3, 75)\n",
    "poissons_ratio = (0.42, .22)\n",
    "macro_strain = 0.001\n",
    "n_phases = 2\n",
    "grain_size = [(40, 2), (10, 2), (2, 40), (2, 10)]\n",
    "power = [1, 2, 5, 10]"
   ]
  },
  {
   "cell_type": "code",
   "execution_count": 4,
   "metadata": {
    "collapsed": false
   },
   "outputs": [
    {
     "ename": "TypeError",
     "evalue": "make_microstructure() got an unexpected keyword argument 'power'",
     "output_type": "error",
     "traceback": [
      "\u001b[0;31m---------------------------------------------------------------------------\u001b[0m",
      "\u001b[0;31mTypeError\u001b[0m                                 Traceback (most recent call last)",
      "\u001b[0;32m<ipython-input-4-d78209fc03cc>\u001b[0m in \u001b[0;36m<module>\u001b[0;34m()\u001b[0m\n\u001b[1;32m      6\u001b[0m                                                  \u001b[0mpoissons_ratio\u001b[0m\u001b[0;34m=\u001b[0m\u001b[0mpoissons_ratio\u001b[0m\u001b[0;34m,\u001b[0m\u001b[0;34m\u001b[0m\u001b[0m\n\u001b[1;32m      7\u001b[0m                                                  \u001b[0mmacro_strain\u001b[0m\u001b[0;34m=\u001b[0m\u001b[0mmacro_strain\u001b[0m\u001b[0;34m,\u001b[0m\u001b[0;34m\u001b[0m\u001b[0m\n\u001b[0;32m----> 8\u001b[0;31m                                                  seed=0, power=power[0])\n\u001b[0m",
      "\u001b[0;32m/Users/awhite40/Documents/research/pymks/pymks/datasets/__init__.py\u001b[0m in \u001b[0;36mmake_elastic_stress_random\u001b[0;34m(n_samples, elastic_modulus, poissons_ratio, size, macro_strain, grain_size, seed, power)\u001b[0m\n\u001b[1;32m    327\u001b[0m                                             \u001b[0mn_phases\u001b[0m\u001b[0;34m=\u001b[0m\u001b[0mn_states\u001b[0m\u001b[0;34m,\u001b[0m\u001b[0;34m\u001b[0m\u001b[0m\n\u001b[1;32m    328\u001b[0m                                             grain_size=gs, seed=seed, power=power) for gs,\n\u001b[0;32m--> 329\u001b[0;31m                         sample in zip(grain_size, n_samples)])\n\u001b[0m\u001b[1;32m    330\u001b[0m     \u001b[0mX_\u001b[0m \u001b[0;34m=\u001b[0m \u001b[0mbasis\u001b[0m\u001b[0;34m.\u001b[0m\u001b[0mdiscretize\u001b[0m\u001b[0;34m(\u001b[0m\u001b[0mX\u001b[0m\u001b[0;34m)\u001b[0m\u001b[0;34m\u001b[0m\u001b[0m\n\u001b[1;32m    331\u001b[0m     \u001b[0mindex\u001b[0m \u001b[0;34m=\u001b[0m \u001b[0mtuple\u001b[0m\u001b[0;34m(\u001b[0m\u001b[0;34m[\u001b[0m\u001b[0mNone\u001b[0m \u001b[0;32mfor\u001b[0m \u001b[0mi\u001b[0m \u001b[0;32min\u001b[0m \u001b[0mrange\u001b[0m\u001b[0;34m(\u001b[0m\u001b[0mlen\u001b[0m\u001b[0;34m(\u001b[0m\u001b[0msize\u001b[0m\u001b[0;34m)\u001b[0m \u001b[0;34m+\u001b[0m \u001b[0;36m1\u001b[0m\u001b[0;34m)\u001b[0m\u001b[0;34m]\u001b[0m\u001b[0;34m)\u001b[0m \u001b[0;34m+\u001b[0m \u001b[0;34m(\u001b[0m\u001b[0mslice\u001b[0m\u001b[0;34m(\u001b[0m\u001b[0mNone\u001b[0m\u001b[0;34m)\u001b[0m\u001b[0;34m,\u001b[0m\u001b[0;34m)\u001b[0m\u001b[0;34m\u001b[0m\u001b[0m\n",
      "\u001b[0;31mTypeError\u001b[0m: make_microstructure() got an unexpected keyword argument 'power'"
     ]
    }
   ],
   "source": [
    "from pymks.datasets import make_elastic_stress_random\n",
    "dataset1, stresses1 = make_elastic_stress_random(n_samples=n_samples,\n",
    "                                                 size=size,\n",
    "                                                 grain_size=grain_size,\n",
    "                                                 elastic_modulus=elastic_modulus,\n",
    "                                                 poissons_ratio=poissons_ratio,\n",
    "                                                 macro_strain=macro_strain,\n",
    "                                                 seed=0, power=power[0])"
   ]
  }
 ],
 "metadata": {
  "kernelspec": {
   "display_name": "Python 2",
   "language": "python",
   "name": "python2"
  },
  "language_info": {
   "codemirror_mode": {
    "name": "ipython",
    "version": 2
   },
   "file_extension": ".py",
   "mimetype": "text/x-python",
   "name": "python",
   "nbconvert_exporter": "python",
   "pygments_lexer": "ipython2",
   "version": "2.7.10"
  }
 },
 "nbformat": 4,
 "nbformat_minor": 0
}
