{
 "metadata": {
  "name": "",
  "signature": "sha256:55b2b351233a54dc6be7a9ffc4527bad8132fa000625daa0989d47c39488a155"
 },
 "nbformat": 3,
 "nbformat_minor": 0,
 "worksheets": [
  {
   "cells": [
    {
     "cell_type": "markdown",
     "metadata": {},
     "source": [
      "#Linear Elasticity in 3D\n",
      "\n",
      "##Introduction\n",
      "\n",
      "This example provides a demonstration of using PyMKS to compute the linear strain field for a two phase composite material, and presents the computation efficiency of MKS over finite element methods. The example first provides information on the boundary conditions used in MKS. Next, delta microstructures are used to calibrate the first order influence coefficients. The influence coefficients are then used to compute the strain field for a random microstructure. Lastly, the calibrated influence coefficients are scaled up and are used to compute the strain field for a larger microstructure and compared with results computed using finite element analysis."
     ]
    },
    {
     "cell_type": "markdown",
     "metadata": {},
     "source": [
      "###Elastostatics Equations and Boundary Conditions\n",
      "\n",
      "A review of the governing field equations for elastostatics can be found in the Linear Elasticity in 2D example. The same equations are used in the example with the exception that the second lame parameter (shear modulus) $\\mu$ is defined differently in 3D.\n",
      "\n",
      "$$ \\mu = \\frac{E}{2(1+\\nu)} $$\n",
      "\n",
      "\n",
      "In general, generateing the calibration data for the MKS requires boundary conditions that are both periodic and displaced, which are quite unusual boundary conditions. The ideal boundary conditions are given by,\n",
      "\n",
      "$$ u(L, y, z) = u(0, y, z) + L\\bar{\\varepsilon}_{xx} $$\n",
      "$$ u(0, L, L) = u(0, 0, L) = u(0, L, 0) = u(0, 0, 0) = 0  $$\n",
      "$$ u(x, 0, z) = u(x, L, z) $$\n",
      "$$ u(x, y, 0) = u(x, y, L) $$\n",
      "\n",
      "Unfortunaltely, we can't implement these boundary conditions with [SfePy](http://sfepy.org), the closest we can get is\n",
      "\n",
      "$$ u(L, y, z) = L\\bar{\\varepsilon}_{xx}$$\n",
      "$$ u(0, y, z) = 0 $$\n",
      "$$ u(0, L, L) = u(0, 0, L) = u(0, L, 0) = u(0, 0, 0) = 0  $$\n",
      "$$ u(x, 0, z) = u(x, L, z) $$\n",
      "$$ u(x, y, 0) = u(x, y, L)$$\n",
      "\n",
      "This leads to some issues near the edges of the domain and introduces errors into the resizing of the coefficients. We are working to fix this issue, but note that the problem is not with the MKS regression itself, but with the calibration data used. The finite element package ABAQUS includes the displaced periodic boundary condition and can be used to calibrate the MKS regression correctly.\n"
     ]
    },
    {
     "cell_type": "code",
     "collapsed": false,
     "input": [
      "%matplotlib inline\n",
      "%load_ext autoreload\n",
      "%autoreload 2\n",
      "\n",
      "import numpy as np\n",
      "import matplotlib.pyplot as plt\n",
      "import timeit as tm"
     ],
     "language": "python",
     "metadata": {},
     "outputs": [],
     "prompt_number": 1
    },
    {
     "cell_type": "markdown",
     "metadata": {},
     "source": [
      "##Modeling with MKS\n",
      "\n",
      "###Calibration Data and Delta Microstructures\n",
      "\n",
      "The first order MKS influence coefficients are all that is needed to compute a strain field of a random microstructure as long as the ratio between the elastic moduli (also known as the contrast) is less than 1.5. If this condition is met we can expect a mean absolute error of 2%  or less when comparing the MKS results with those computed using finite element methods [1]. \n",
      "\n",
      "Because we are using distinct phases and the contrast is low enough to only need the first order coefficients, delta microstructures and their strain fields are all that we need to calibrate the first order influence coefficients [2]. \n",
      "\n",
      "The `make_delta_microstructure` function from `pymks.datasets` can be used to create the two delta microstructures needed to calibrate the first order influence coefficients for a two phase microstructure. This function uses the python module [SfePy](http://sfepy.org/doc-devel/index.html) to compute the strain fields using finite element methods."
     ]
    },
    {
     "cell_type": "code",
     "collapsed": false,
     "input": [
      "L = 9\n",
      "center = (L - 1) / 2\n",
      "\n",
      "from pymks.tools import draw_microstructures\n",
      "from pymks.datasets import make_delta_microstructures\n",
      "\n",
      "X_delta = make_delta_microstructures(n_phases=2, size=(L, L, L))\n",
      "draw_microstructures(X_delta[0, center, :, :], X_delta[1, center, :, :])"
     ],
     "language": "python",
     "metadata": {},
     "outputs": [
      {
       "output_type": "stream",
       "stream": "stderr",
       "text": [
        "/home/david/anaconda/lib/python2.7/site-packages/matplotlib/figure.py:1595: UserWarning: This figure includes Axes that are not compatible with tight_layout, so its results might be incorrect.\n",
        "  warnings.warn(\"This figure includes Axes that are not \"\n"
       ]
      },
      {
       "metadata": {},
       "output_type": "display_data",
       "png": "[encoded data removed]",
       "text": [
        "<matplotlib.figure.Figure at 0xac5f4b4c>"
       ]
      }
     ],
     "prompt_number": 2
    },
    {
     "cell_type": "markdown",
     "metadata": {},
     "source": [
      "Using delta microstructures for the calibration of the first order influence coefficients is essentially the same as using a unit [impulse response](http://en.wikipedia.org/wiki/Impulse_response) to find the kernel of a system in signal processing. Delta microstructures are composed of only two phases. One phase is located only at the center cell of the microstructure, and the rest made up of the other phase. "
     ]
    },
    {
     "cell_type": "markdown",
     "metadata": {},
     "source": [
      "###Generating Calibration Data\n",
      "\n",
      "The `make_elasticFEstrain_delta` function from `pymks.datasets` provides an easy interface to generate delta microstructures and their strain fields, which can then be used for calibration of the influence coefficients. The function calls the `ElasticFESimulation` class to compute the strain fields with the boundary conditions given above.\n",
      "\n",
      "In this example, lets look at a two phase microstructure with elastic moduli values of 80 and 120 and Poisson's ratio values of 0.3 and 0.3 respectively. Let's also set the macroscopic imposed strain equal to 0.02. All of these parameters used in the simulation must be passed into the `make_elasticFEstrain_delta` function. "
     ]
    },
    {
     "cell_type": "code",
     "collapsed": false,
     "input": [
      "from pymks.datasets import make_elastic_FE_strain_delta\n",
      "from pymks.tools import draw_microstructure_strain\n",
      "\n",
      "elastic_modulus = (80, 120)\n",
      "poissons_ratio = (0.3, 0.3)\n",
      "macro_strain = 0.02 \n",
      "size = (L, L, L)\n",
      "\n",
      "t = tm.time.time()\n",
      "X_delta, strains_delta = make_elastic_FE_strain_delta(elastic_modulus=elastic_modulus,\n",
      "                                                      poissons_ratio=poissons_ratio,\n",
      "                                                      size=size, macro_strain=macro_strain)\n",
      "print 'Elapsed Time',tm.time.time() - t, 'Seconds'"
     ],
     "language": "python",
     "metadata": {},
     "outputs": [
      {
       "output_type": "stream",
       "stream": "stderr",
       "text": [
        "/home/david/anaconda/lib/python2.7/site-packages/sfepy/discrete/parse_regions.py:150: DeprecationWarning: Operator '<<' is deprecated, use '<<=' instead\n",
        "  + ZeroOrMore(')'))\n",
        "/home/david/anaconda/lib/python2.7/site-packages/sfepy/discrete/parse_regions.py:189: DeprecationWarning: Operator '<<' is deprecated, use '<<=' instead\n",
        "  region_expression << atom + ZeroOrMore(aux)\n",
        "/home/david/anaconda/lib/python2.7/site-packages/sfepy/discrete/parse_equations.py:55: DeprecationWarning: Operator '<<' is deprecated, use '<<=' instead\n",
        "  + ZeroOrMore(')')\n"
       ]
      },
      {
       "output_type": "stream",
       "stream": "stderr",
       "text": [
        "/home/david/anaconda/lib/python2.7/site-packages/sfepy/discrete/parse_regions.py:150: DeprecationWarning: Operator '<<' is deprecated, use '<<=' instead\n",
        "  + ZeroOrMore(')'))\n",
        "/home/david/anaconda/lib/python2.7/site-packages/sfepy/discrete/parse_regions.py:189: DeprecationWarning: Operator '<<' is deprecated, use '<<=' instead\n",
        "  region_expression << atom + ZeroOrMore(aux)\n",
        "/home/david/anaconda/lib/python2.7/site-packages/sfepy/discrete/parse_equations.py:55: DeprecationWarning: Operator '<<' is deprecated, use '<<=' instead\n",
        "  + ZeroOrMore(')')\n"
       ]
      },
      {
       "output_type": "stream",
       "stream": "stdout",
       "text": [
        "Elapsed Time 66.3635189533 Seconds\n"
       ]
      }
     ],
     "prompt_number": 3
    },
    {
     "cell_type": "markdown",
     "metadata": {},
     "source": [
      "Let's take a look at one of the delta microstructures and the $\\varepsilon_{xx}$ strain field."
     ]
    },
    {
     "cell_type": "code",
     "collapsed": false,
     "input": [
      "draw_microstructure_strain(X_delta[0, center, :, :], strains_delta[0, center, :, :])"
     ],
     "language": "python",
     "metadata": {},
     "outputs": [
      {
       "metadata": {},
       "output_type": "display_data",
       "png": "[encoded data removed]",
       "text": [
        "<matplotlib.figure.Figure at 0xb4ad13cc>"
       ]
      }
     ],
     "prompt_number": 4
    },
    {
     "cell_type": "markdown",
     "metadata": {},
     "source": [
      "###Calibrating First Order Influence Coefficients\n",
      "\n",
      "Now that we have the delta microstructures and their strain fields, we can calibrate the influence coefficients by creating an instance of a bases and the `MKSRegressionModel` class. Because we have 2 discrete phases we will create an instance of the `DiscreteIndicatorBasis` with `n_states` equal to 2, and then pass the basis in to create an instance of the `MKSRegressionModel`. The delta microstructures and their strain fields are then passed to the `fit` method. "
     ]
    },
    {
     "cell_type": "code",
     "collapsed": false,
     "input": [
      "from pymks import MKSRegressionModel\n",
      "from pymks.bases import DiscreteIndicatorBasis\n",
      "\n",
      "basis = DiscreteIndicatorBasis(n_states=2)\n",
      "MKSmodel = MKSRegressionModel(basis=basis)"
     ],
     "language": "python",
     "metadata": {},
     "outputs": [],
     "prompt_number": 5
    },
    {
     "cell_type": "markdown",
     "metadata": {},
     "source": [
      "Now, pass the delta microstructures and their strain fields into the `fit` method to calibrate the first order influence coefficients."
     ]
    },
    {
     "cell_type": "code",
     "collapsed": false,
     "input": [
      "MKSmodel.fit(X_delta, strains_delta)"
     ],
     "language": "python",
     "metadata": {},
     "outputs": [],
     "prompt_number": 6
    },
    {
     "cell_type": "markdown",
     "metadata": {},
     "source": [
      "That's it, the influence coefficient have be calibrated. Let's take a look at them."
     ]
    },
    {
     "cell_type": "code",
     "collapsed": false,
     "input": [
      "from pymks.tools import draw_coeff\n",
      "\n",
      "coeff = MKSmodel.coeff\n",
      "draw_coeff(coeff[center])"
     ],
     "language": "python",
     "metadata": {},
     "outputs": [
      {
       "metadata": {},
       "output_type": "display_data",
       "png": "[encoded data removed]",
       "text": [
        "<matplotlib.figure.Figure at 0xabd3134c>"
       ]
      }
     ],
     "prompt_number": 7
    },
    {
     "cell_type": "markdown",
     "metadata": {},
     "source": [
      "The influence coefficients for $h=0$ have a Gaussian-like shape, while the influence coefficients for $h=1$ are constant-valued. The constant-valued influence coefficients may seem superfluous, but are equally as import. They are equivalent to the constant term in multiple linear regression with [categorical variables](http://en.wikipedia.org/wiki/Dummy_variable_%28statistics%29)."
     ]
    },
    {
     "cell_type": "markdown",
     "metadata": {},
     "source": [
      "### Predict of the Strain Field for a Random Microstructure\n",
      "\n",
      "Let's now use our instance of the `MKSRegressionModel` class with calibrated influence coefficients to compute the strain field for a random two phase microstructure and compare it with the results from a finite element simulation. \n",
      "\n",
      "The `make_elasticFEstrain_random` function from `pymks.datasets` is an easy way to generate a random microstructure and its strain field results from finite element analysis.  "
     ]
    },
    {
     "cell_type": "code",
     "collapsed": false,
     "input": [
      "from pymks.datasets import make_elastic_FE_strain_random\n",
      "\n",
      "np.random.seed(99)\n",
      "t = tm.time.time()\n",
      "X, strain = make_elastic_FE_strain_random(n_samples=1, elastic_modulus=elastic_modulus,\n",
      "                                          poissons_ratio=poissons_ratio, size=size, macro_strain=macro_strain)\n",
      "print 'Elapsed Time',(tm.time.time() - t), 'Seconds'\n",
      "draw_microstructure_strain(X[0, center] , strain[0, center])"
     ],
     "language": "python",
     "metadata": {},
     "outputs": [
      {
       "output_type": "stream",
       "stream": "stderr",
       "text": [
        "/home/david/anaconda/lib/python2.7/site-packages/sfepy/discrete/parse_regions.py:150: DeprecationWarning: Operator '<<' is deprecated, use '<<=' instead\n",
        "  + ZeroOrMore(')'))\n",
        "/home/david/anaconda/lib/python2.7/site-packages/sfepy/discrete/parse_regions.py:189: DeprecationWarning: Operator '<<' is deprecated, use '<<=' instead\n",
        "  region_expression << atom + ZeroOrMore(aux)\n",
        "/home/david/anaconda/lib/python2.7/site-packages/sfepy/discrete/parse_equations.py:55: DeprecationWarning: Operator '<<' is deprecated, use '<<=' instead\n",
        "  + ZeroOrMore(')')\n"
       ]
      },
      {
       "output_type": "stream",
       "stream": "stdout",
       "text": [
        "Elapsed Time 29.9730200768 Seconds\n"
       ]
      },
      {
       "metadata": {},
       "output_type": "display_data",
       "png": "[encoded data removed]",
       "text": [
        "<matplotlib.figure.Figure at 0xadf4f18c>"
       ]
      }
     ],
     "prompt_number": 8
    },
    {
     "cell_type": "markdown",
     "metadata": {},
     "source": [
      "**Note that the calibrated influence coefficients can only be used to reproduce the simulation with the same boundary conditions that they were calibrated with**\n",
      "\n",
      "Now to get the strain field from the `MKSRegressionModel` just pass the same microstructure to the `predict` method."
     ]
    },
    {
     "cell_type": "code",
     "collapsed": false,
     "input": [
      "t = tm.time.time()\n",
      "strain_pred = MKSmodel.predict(X)\n",
      "print 'Elapsed Time',tm.time.time() - t,'Seconds'"
     ],
     "language": "python",
     "metadata": {},
     "outputs": [
      {
       "output_type": "stream",
       "stream": "stdout",
       "text": [
        "Elapsed Time 0.00133204460144 Seconds\n"
       ]
      }
     ],
     "prompt_number": 9
    },
    {
     "cell_type": "markdown",
     "metadata": {},
     "source": [
      "Finally let's compare the results from finite element simulation and the MKS model."
     ]
    },
    {
     "cell_type": "code",
     "collapsed": false,
     "input": [
      "from pymks.tools import draw_strains_compare\n",
      "\n",
      "draw_strains_compare(strain[0, center], strain_pred[0, center])"
     ],
     "language": "python",
     "metadata": {},
     "outputs": [
      {
       "metadata": {},
       "output_type": "display_data",
       "png": "[encoded data removed]",
       "text": [
        "<matplotlib.figure.Figure at 0xabf4812c>"
       ]
      }
     ],
     "prompt_number": 10
    },
    {
     "cell_type": "markdown",
     "metadata": {},
     "source": [
      "The MKS model is able to capture the strain field for the random microstructure after being calibrated with delta microstructures."
     ]
    },
    {
     "cell_type": "markdown",
     "metadata": {},
     "source": [
      "##Resizing the Coefficeints to use on Larger Microstructures \n",
      "\n",
      "The influence coefficients that were calibrated on a smaller microstructure can be used to predict the strain field on a larger microstructure though spectral interpolation [3], but accuracy of the MKS model drops slightly. To demonstrate how this is done, let's generate a new larger $N$ by $N$ random microstructure and its strain field."
     ]
    },
    {
     "cell_type": "code",
     "collapsed": false,
     "input": [
      "N = 3 * L\n",
      "center = (N - 1) / 2\n",
      "t = tm.time.time()\n",
      "X = np.random.randint(2, size=(1, N, N, N))"
     ],
     "language": "python",
     "metadata": {},
     "outputs": [],
     "prompt_number": 11
    },
    {
     "cell_type": "markdown",
     "metadata": {},
     "source": [
      "The influence coefficients that have already been calibrated need to be resized to match the shape of the new larger microstructure that we want to compute the strain field for. This can be done by passing the shape of the new larger microstructure into the 'resize_coeff' method."
     ]
    },
    {
     "cell_type": "code",
     "collapsed": false,
     "input": [
      "MKSmodel.resize_coeff(X[0].shape)"
     ],
     "language": "python",
     "metadata": {},
     "outputs": [],
     "prompt_number": 13
    },
    {
     "cell_type": "markdown",
     "metadata": {},
     "source": [
      "Because the coefficients have been resized, they will no longer work for our original $L$ by $L$ sized microstructures they were calibrated on, but they can now be used on the $N$ by $N$ microstructures. Just like before, just pass the microstructure as the argument of the `predict` method to get the strain field."
     ]
    },
    {
     "cell_type": "code",
     "collapsed": false,
     "input": [
      "from pymks.tools import draw_strains\n",
      "\n",
      "t = tm.time.time()\n",
      "strain_pred = MKSmodel.predict(X)\n",
      "print 'Elapsed Time',(tm.time.time() - t), 'Seconds'\n",
      "draw_strains(strain_pred[0, center], title='xx')"
     ],
     "language": "python",
     "metadata": {},
     "outputs": [
      {
       "output_type": "stream",
       "stream": "stdout",
       "text": [
        "Elapsed Time 0.0123329162598 Seconds\n"
       ]
      },
      {
       "metadata": {},
       "output_type": "display_data",
       "png": "[encoded data removed]",
       "text": [
        "<matplotlib.figure.Figure at 0xabc25b4c>"
       ]
      }
     ],
     "prompt_number": 14
    },
    {
     "cell_type": "markdown",
     "metadata": {},
     "source": [
      "As you can see, the results from the strain field computed with the resized influence coefficients is still close to the finite element for the larger microstructure. There is a slight decrease in accuracy due to spectral interpolation [4], but the trade off in accuracy is well worth the time savings compared to finite element analysis. Therefore a calibrated MKS model can be used to rapidly explore the space of potential microstructures to optimize material performance."
     ]
    },
    {
     "cell_type": "markdown",
     "metadata": {},
     "source": [
      "\n",
      "## References\n",
      "\n",
      "[1] Binci M., Fullwood D., Kalidindi S.R., *A new spectral framework for establishing localization relationships for elastic behav ior of composites and their calibration to finite-element models*. Acta Materialia, 2008. 56 (10): p. 2272-2282 [doi:10.1016/j.actamat.2008.01.017](http://dx.doi.org/10.1016/j.actamat.2008.01.017).\n",
      "\n",
      "\n",
      "[2] Landi, G., S.R. Niezgoda, S.R. Kalidindi, *Multi-scale modeling of elastic response of three-dimensional voxel-based microstructure datasets using novel DFT-based knowledge systems*. Acta Materialia, 2009. 58 (7): p. 2716-2725 [doi:10.1016/j.actamat.2010.01.007](http://dx.doi.org/10.1016/j.actamat.2010.01.007).\n",
      "\n",
      "\n",
      "[3] Marko, K., Kalidindi S.R., Fullwood D., *Computationally efficient database and spectral interpolation for fully plastic Taylor-type crystal plasticity calculations of face-centered cubic polycrystals*. International Journal of Plasticity 24 (2008) 1264\u20131276 [doi;10.1016/j.ijplas.2007.12.002](http://dx.doi.org/10.1016/j.ijplas.2007.12.002).\n",
      "\n",
      "\n",
      "[4] Marko, K. Al-Harbi H. F. , Kalidindi S.R., *Crystal plasticity simulations using discrete Fourier transforms*. Acta Materialia 57 (2009) 1777\u20131784 [doi:10.1016/j.actamat.2008.12.017](http://dx.doi.org/10.1016/j.actamat.2008.12.017)."
     ]
    }
   ],
   "metadata": {}
  }
 ]
}