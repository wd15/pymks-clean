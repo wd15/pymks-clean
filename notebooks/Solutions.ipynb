{
 "metadata": {
  "name": ""
 },
 "nbformat": 3,
 "nbformat_minor": 0,
 "worksheets": [
  {
   "cells": [
    {
     "cell_type": "markdown",
     "metadata": {},
     "source": [
      "## 02-0"
     ]
    },
    {
     "cell_type": "code",
     "collapsed": false,
     "input": [
      "import pymks\n",
      "??pymks.bin"
     ],
     "language": "python",
     "metadata": {},
     "outputs": [],
     "prompt_number": 1
    },
    {
     "cell_type": "markdown",
     "metadata": {},
     "source": [
      "## 02-2"
     ]
    },
    {
     "cell_type": "markdown",
     "metadata": {},
     "source": [
      "In the following, we will just check that one test response is reasonably close to a response calculated with the influence coefficients. We construct a `test_microstructre` and use the `fipy_response` function to calculate `test_response`."
     ]
    },
    {
     "cell_type": "code",
     "collapsed": false,
     "input": [
      "np.random.seed(103)\n",
      "test_microstructure = np.random.random(N**2)\n",
      "test_response = fipy_response(test_microstructure, dt=dt, N=N)\n",
      "\n",
      "binned_test_microstructure = bin(test_microstructure, Nbin).reshape((N, N, Nbin))\n",
      "Fm = np.fft.fft2(binned_test_microstructure, axes=(0, 1))\n",
      "Fr = np.sum(Fm * Fcoeff, axis=-1)\n",
      "            \n",
      "calc_response = np.fft.ifft2(Fr, axes=(0, 1)).real.flatten()\n",
      "\n",
      "\n",
      "print test_response[:20]\n",
      "print calc_response[:20]"
     ],
     "language": "python",
     "metadata": {},
     "outputs": []
    },
    {
     "cell_type": "markdown",
     "metadata": {},
     "source": [
      "## 03-0"
     ]
    },
    {
     "cell_type": "code",
     "collapsed": false,
     "input": [
      "import scipy.signal\n",
      "import scipy.ndimage\n",
      "?scipy.signal.fftconvolve\n",
      "\n",
      "y_alt = scipy.ndimage.convolve(X[0], filter(np.linspace(0, 20, Nspace)), mode='wrap')\n",
      "print np.allclose(np.roll(y_alt, 40), y[0])"
     ],
     "language": "python",
     "metadata": {},
     "outputs": [],
     "prompt_number": 3
    }
   ],
   "metadata": {}
  }
 ]
}