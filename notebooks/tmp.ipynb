{
 "cells": [
  {
   "cell_type": "code",
   "execution_count": 153,
   "metadata": {
    "collapsed": true
   },
   "outputs": [],
   "source": [
    "import numpy as np"
   ]
  },
  {
   "cell_type": "code",
   "execution_count": 154,
   "metadata": {
    "collapsed": true
   },
   "outputs": [],
   "source": [
    "X = np.random.random((3, 4, 4))"
   ]
  },
  {
   "cell_type": "code",
   "execution_count": 155,
   "metadata": {
    "collapsed": false
   },
   "outputs": [],
   "source": [
    "X_reshape = X.reshape((X.shape[0], -1))"
   ]
  },
  {
   "cell_type": "code",
   "execution_count": 156,
   "metadata": {
    "collapsed": true
   },
   "outputs": [],
   "source": [
    "X_sort = np.sort(X_reshape, axis=1)"
   ]
  },
  {
   "cell_type": "code",
   "execution_count": 168,
   "metadata": {
    "collapsed": false
   },
   "outputs": [
    {
     "name": "stdout",
     "output_type": "stream",
     "text": [
      "0.3\n",
      "[ 0.11802031  0.51234915  0.18613017]\n",
      "0.5\n",
      "[ 0.25428813  0.7046437   0.31473277]\n",
      "0.8\n",
      "[ 0.66595141  0.74683381  0.57860998]\n"
     ]
    }
   ],
   "source": [
    "import math\n",
    "v_frac = [0.3, 0.2,0.3,0.2]\n",
    "X_segs = np.zeros((X_reshape.shape))\n",
    "if sum(v_frac)!=1.0:\n",
    "    raise RuntimeError(\"Volume fractions do not add up to 1\")\n",
    "v_frac1 = 0.3\n",
    "for i in range(1,len(v_frac)):\n",
    "    v = sum(v_frac[0:i])\n",
    "    print v\n",
    "    length = X_sort.shape[1]\n",
    "    ind = int(math.floor(v*length))\n",
    "    seg = X_sort[:, ind-1]\n",
    "    print seg\n",
    "    X_seg = X_reshape >= seg[:, None]\n",
    "    X_segs = X_segs+X_seg\n",
    "    \n",
    "#X_seg = X_seg1.astype(int)+X_seg2.astype(int)"
   ]
  },
  {
   "cell_type": "code",
   "execution_count": 162,
   "metadata": {
    "collapsed": false
   },
   "outputs": [
    {
     "data": {
      "text/plain": [
       "array([[ 2.,  0.,  1.,  2.,  1.,  3.,  2.,  0.,  0.,  3.,  1.,  1.,  3.,\n",
       "         2.,  3.,  3.],\n",
       "       [ 1.,  3.,  2.,  0.,  1.,  2.,  3.,  0.,  2.,  3.,  3.,  1.,  0.,\n",
       "         1.,  2.,  3.],\n",
       "       [ 3.,  3.,  3.,  0.,  2.,  1.,  1.,  2.,  2.,  3.,  3.,  1.,  0.,\n",
       "         0.,  2.,  1.]])"
      ]
     },
     "execution_count": 162,
     "metadata": {},
     "output_type": "execute_result"
    }
   ],
   "source": [
    "X_segs"
   ]
  },
  {
   "cell_type": "code",
   "execution_count": 152,
   "metadata": {
    "collapsed": false
   },
   "outputs": [
    {
     "data": {
      "text/plain": [
       "array([[False,  True,  True, ...,  True,  True,  True],\n",
       "       [ True,  True,  True, ..., False,  True, False],\n",
       "       [ True, False, False, ..., False, False, False]], dtype=bool)"
      ]
     },
     "execution_count": 152,
     "metadata": {},
     "output_type": "execute_result"
    }
   ],
   "source": [
    "X_seg"
   ]
  },
  {
   "cell_type": "code",
   "execution_count": 116,
   "metadata": {
    "collapsed": false
   },
   "outputs": [
    {
     "data": {
      "text/plain": [
       "5000"
      ]
     },
     "execution_count": 116,
     "metadata": {},
     "output_type": "execute_result"
    }
   ],
   "source": [
    "import math\n",
    "v_frac = 0.5\n",
    "length = X_sort.shape[1]\n",
    "ind = int(math.floor(v_frac*length))\n",
    "ind"
   ]
  },
  {
   "cell_type": "code",
   "execution_count": 117,
   "metadata": {
    "collapsed": false
   },
   "outputs": [],
   "source": [
    "seg = X_sort[:, ind-1]"
   ]
  },
  {
   "cell_type": "code",
   "execution_count": 121,
   "metadata": {
    "collapsed": false
   },
   "outputs": [],
   "source": [
    "#X_seg = np.zeros(shape = X_reshape.shape)\n",
    "\n",
    "#for i in range(X.shape[0]):\n",
    "#    X_seg[i,:] = X_reshape[i,:] >= seg[i]\n",
    "#print X_seg\n",
    "X_seg = X_reshape >= seg[:, None]\n"
   ]
  },
  {
   "cell_type": "code",
   "execution_count": 122,
   "metadata": {
    "collapsed": false
   },
   "outputs": [
    {
     "data": {
      "text/plain": [
       "array([[1, 1, 0, ..., 1, 0, 0],\n",
       "       [0, 0, 0, ..., 0, 1, 0],\n",
       "       [0, 0, 0, ..., 1, 0, 0]])"
      ]
     },
     "execution_count": 122,
     "metadata": {},
     "output_type": "execute_result"
    }
   ],
   "source": [
    "X_seg.astype(int)"
   ]
  },
  {
   "cell_type": "code",
   "execution_count": 123,
   "metadata": {
    "collapsed": false
   },
   "outputs": [
    {
     "data": {
      "text/plain": [
       "array([ 0.5001,  0.5001,  0.5001])"
      ]
     },
     "execution_count": 123,
     "metadata": {},
     "output_type": "execute_result"
    }
   ],
   "source": [
    "np.sum(X_seg, axis=1)/float(X_reshape.shape[1])"
   ]
  },
  {
   "cell_type": "code",
   "execution_count": 213,
   "metadata": {
    "collapsed": false
   },
   "outputs": [
    {
     "name": "stdout",
     "output_type": "stream",
     "text": [
      "The autoreload extension is already loaded. To reload it, use:\n",
      "  %reload_ext autoreload\n"
     ]
    }
   ],
   "source": [
    "%matplotlib inline\n",
    "%load_ext autoreload\n",
    "%autoreload 2\n",
    "\n",
    "import numpy as np\n",
    "import matplotlib.pyplot as plt\n",
    "from pymks.datasets import make_microstructure\n",
    "n_samples, n_phases = 3, 3\n",
    "size, grain_size = (100, 100), (10, 1)\n",
    "v_frac = [0.2,0.2,0.2,0.2,0.2]\n",
    "X = make_microstructure(n_samples=n_samples, size=size,n_phases=n_phases, grain_size=grain_size,seed=0, v_frac = v_frac)\n",
    "X_reshape = X.reshape(n_samples, -1)"
   ]
  },
  {
   "cell_type": "code",
   "execution_count": 214,
   "metadata": {
    "collapsed": false
   },
   "outputs": [
    {
     "data": {
      "text/plain": [
       "array([[4, 2, 4, ..., 3, 2, 1],\n",
       "       [4, 0, 1, ..., 2, 1, 4],\n",
       "       [2, 1, 2, ..., 1, 3, 3]])"
      ]
     },
     "execution_count": 214,
     "metadata": {},
     "output_type": "execute_result"
    }
   ],
   "source": [
    "X_reshape\n"
   ]
  },
  {
   "cell_type": "code",
   "execution_count": 215,
   "metadata": {
    "collapsed": false
   },
   "outputs": [
    {
     "data": {
      "text/plain": [
       "array([ 2.,  2.,  2.])"
      ]
     },
     "execution_count": 215,
     "metadata": {},
     "output_type": "execute_result"
    }
   ],
   "source": [
    "\n",
    "np.sum(X_reshape, axis=1)/float(X.shape[1]*X.shape[2])"
   ]
  },
  {
   "cell_type": "code",
   "execution_count": 216,
   "metadata": {
    "collapsed": false
   },
   "outputs": [
    {
     "data": {
      "text/plain": [
       "8000"
      ]
     },
     "execution_count": 216,
     "metadata": {},
     "output_type": "execute_result"
    }
   ],
   "source": [
    "np.count_nonzero(X_reshape)/3"
   ]
  },
  {
   "cell_type": "code",
   "execution_count": 217,
   "metadata": {
    "collapsed": false
   },
   "outputs": [
    {
     "data": {
      "image/png": "[encoded data removed]",
      "text/plain": [
       "<matplotlib.figure.Figure at 0x108a02210>"
      ]
     },
     "metadata": {},
     "output_type": "display_data"
    }
   ],
   "source": [
    "from pymks.tools import draw_microstructures\n",
    "draw_microstructures(X)"
   ]
  },
  {
   "cell_type": "code",
   "execution_count": null,
   "metadata": {
    "collapsed": true
   },
   "outputs": [],
   "source": []
  },
  {
   "cell_type": "code",
   "execution_count": null,
   "metadata": {
    "collapsed": true
   },
   "outputs": [],
   "source": []
  }
 ],
 "metadata": {
  "kernelspec": {
   "display_name": "Python 2",
   "language": "python",
   "name": "python2"
  },
  "language_info": {
   "codemirror_mode": {
    "name": "ipython",
    "version": 2
   },
   "file_extension": ".py",
   "mimetype": "text/x-python",
   "name": "python",
   "nbconvert_exporter": "python",
   "pygments_lexer": "ipython2",
   "version": "2.7.10"
  }
 },
 "nbformat": 4,
 "nbformat_minor": 0
}
