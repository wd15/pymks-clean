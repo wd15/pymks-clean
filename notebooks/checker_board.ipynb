{
 "metadata": {
  "name": "",
  "signature": "sha256:08d429df4cd0905df68338d0720e74841a3b6f7e1543f0f0cfa70bd750ca8c94"
 },
 "nbformat": 3,
 "nbformat_minor": 0,
 "worksheets": [
  {
   "cells": [
    {
     "cell_type": "markdown",
     "metadata": {},
     "source": [
      "#What are 2-Point Statistics?\n",
      "\n",
      "##Introduction\n",
      "\n",
      "In this example, PyMKS is used to compute the 2-point spatial statistics (also referred to as the autocorrelations and crosscorrelations) for a checkerboard microstructure. First, background information about autocorrelations and crosscorrelations is presented following by demonstration of 2-point "
     ]
    },
    {
     "cell_type": "markdown",
     "metadata": {},
     "source": [
      "# N-Point Spatial Statistics\n",
      "\n",
      "##1-Point Spatial Statistics\n",
      "\n",
      "N-point spatial statistics provides a way to objectively quantify material structure. In order to show what N-point statistics is, let's first discuss 1-point statistics. 1-point statistics is the probability that at any location in the microstructure a local state (in our example that would be the phase) will be found. This is equivalent to the volume fraction of the phases in the material. The equation for 1-point statistics can be found below.\n",
      "\n",
      "$$ f_h = m[i]_h $$\n",
      "\n",
      "In this equation $f_h$ is the probability of finding $h$ in the microstructure. $m[i]$ is the microstructure function (digital representation of the microstructure). \n",
      "\n",
      "1-point statistics only provides some information about the quantity of the local states.\n",
      "\n",
      "##2-Point Spatial Statistics\n",
      "\n",
      "2-point spatial statistics (also know as autocorrelations and crosscorrelations) contain the information of 1-point statistics or the quantity of the local states, and it also includes information about how the stats are distributed bin the microstructure. \n",
      "\n",
      "2-point statistics can be thought of as the probability of having a random vector have one end at on local state and the other end at another local state. This vector could have any length of orientation. Below is the equation for 2-point statistics.\n",
      "\n",
      "$$ f[r]_{h h'} = \\frac{1}{I} \\sum_i m[i]_h m[i + r]_{h'} $$\n",
      "\n",
      "In this equation $ f[r]_{h h'}$ is the probability of finding the local states $h$ and $h'$ at a distance and orientation away from each other defined by the vector $r$. $m[i]$ is again the microstructure function. $I$ is the total number of discrete locations $i$. If the case the $r=0$, we recover the 1-point statistics. \n",
      "\n",
      "When the 2 local states are the same $h = h'$, it is referred to as the autocorrelation. If they 2 local states are not the same it is referred to as the crosscorrelation. \n",
      "\n",
      "##N-Point Spatial Statistics\n",
      "\n",
      "Higher order spatial statistics are similar to 2-point statistics, in that they can be thought of in terms of probabilities between locations described by vectors. 3-point statistics can be thought of as the probability of finding the three local states at three location in the microstructure defined by 2 vectors, with the vectors overlapping at one of the points. 4-point statistics can be described with 4 local states and 3 vectors and so on. "
     ]
    },
    {
     "cell_type": "code",
     "collapsed": false,
     "input": [
      "%matplotlib inline\n",
      "%load_ext autoreload\n",
      "%autoreload 2\n",
      "\n",
      "import numpy as np\n",
      "import matplotlib.pyplot as plt"
     ],
     "language": "python",
     "metadata": {},
     "outputs": [],
     "prompt_number": 2
    },
    {
     "cell_type": "markdown",
     "metadata": {},
     "source": [
      "#2-Point Statistics for Checkerboard Microstructure\n",
      "\n",
      "## Make Checkerboard Microstructure"
     ]
    },
    {
     "cell_type": "code",
     "collapsed": false,
     "input": [
      "from pymks.datasets import make_checkerboard_microstructure\n",
      "from pymks.tools import draw_microstructures\n",
      "\n",
      "X = make_checkerboard_microstructure(square_size=3, n_squares=8) \n",
      "draw_microstructures(X[0])"
     ],
     "language": "python",
     "metadata": {},
     "outputs": [
      {
       "metadata": {},
       "output_type": "display_data",
       "png": "[encoded data removed]",
       "text": [
        "<matplotlib.figure.Figure at 0x7f93d80d6510>"
       ]
      }
     ],
     "prompt_number": 192
    },
    {
     "cell_type": "markdown",
     "metadata": {},
     "source": [
      "##Compute 2-Point Statistics"
     ]
    },
    {
     "cell_type": "code",
     "collapsed": false,
     "input": [
      "from pymks.stats import autocorrelate, crosscorrelate\n",
      "from pymks import DiscreteIndicatorBasis\n",
      "\n",
      "discrete_basis = DiscreteIndicatorBasis(n_states=2)\n",
      "X_ = discrete_basis.discretize(X)\n",
      "X_auto = autocorrelate(X_)\n",
      "X_cross = crosscorrelate(X_)\n",
      "\n",
      "print X_auto.shape"
     ],
     "language": "python",
     "metadata": {},
     "outputs": [
      {
       "output_type": "stream",
       "stream": "stdout",
       "text": [
        "(1, 24, 24, 2)\n"
       ]
      }
     ],
     "prompt_number": 193
    },
    {
     "cell_type": "markdown",
     "metadata": {},
     "source": [
      "## Draw Statistics\n",
      "\n",
      "Autocorrelation"
     ]
    },
    {
     "cell_type": "code",
     "collapsed": false,
     "input": [
      "from pymks.tools import draw_spatial_correlations, draw_autocorrelations\n",
      "\n",
      "draw_autocorrelations(X_auto[0])\n",
      "print 'Volume fraction h = 1', X_auto[0, X_auto.shape[1] / 2, X_auto.shape[1] / 2, 0]\n",
      "print 'Volume fraction h = 2', X_auto[0, X_auto.shape[1] / 2, X_auto.shape[1] / 2, 1]"
     ],
     "language": "python",
     "metadata": {},
     "outputs": [
      {
       "output_type": "stream",
       "stream": "stdout",
       "text": [
        "Volume fraction h = 1 0.5\n",
        "Volume fraction h = 2 0.5\n"
       ]
      },
      {
       "metadata": {},
       "output_type": "display_data",
       "png": "[encoded data removed]",
       "text": [
        "<matplotlib.figure.Figure at 0x7f93d7f27f10>"
       ]
      }
     ],
     "prompt_number": 194
    },
    {
     "cell_type": "markdown",
     "metadata": {},
     "source": [
      "Crosscorrelation"
     ]
    },
    {
     "cell_type": "code",
     "collapsed": false,
     "input": [
      "draw_spatial_correlations(X_cross[0, ..., 0])"
     ],
     "language": "python",
     "metadata": {},
     "outputs": []
    },
    {
     "cell_type": "code",
     "collapsed": false,
     "input": [],
     "language": "python",
     "metadata": {},
     "outputs": []
    }
   ],
   "metadata": {}
  }
 ]
}