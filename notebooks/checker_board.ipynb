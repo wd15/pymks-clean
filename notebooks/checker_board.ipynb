{
 "metadata": {
  "name": "",
  "signature": "sha256:343130a020c5068746caa76c6ded79025716c21bec32b74275125d299016582b"
 },
 "nbformat": 3,
 "nbformat_minor": 0,
 "worksheets": [
  {
   "cells": [
    {
     "cell_type": "markdown",
     "metadata": {},
     "source": [
      "#What are 2-Point Spatial Correlations (also called 2-Point Statistics)?\n",
      "\n",
      "##Introduction\n",
      "\n",
      "The purpose of this example is to introduce 2-point spatial correlations and how they are computed using PyMKS.\n",
      "\n",
      "The example starts with some introductory information about spatial correlations. PyMKS is used to compute both the periodic and non-periodic 2-point spatial correlations (also referred to as 2-point statistics or autocorrelations and crosscorrelations) for a checkerboard microstructure. \n",
      "\n",
      "This is a relatively simple example that allows an easy discussion of how the spatial correlations capture the main features seen in the original microstructure. Also, in this example, the assumptions of periodicity at the image boundary should not have any effect on the computed spatial correlations. Consequently this example can serve as one of the benchmark tests in validating the codes."
     ]
    },
    {
     "cell_type": "markdown",
     "metadata": {},
     "source": [
      "# n-Point Spatial Correlations\n",
      "\n",
      "##1-Point Spatial Correlations (or 1-point statistics)\n",
      "\n",
      "n-point spatial correlations provides a way to rigorously quantify the material structure in a statistical framework. As a way to introduce n-point spatial correlations, let's first discuss 1-point statistics. 1-point statistics are the probability that a specified local state (in the checkerboard example discussed here, there are two possible local states - one is colored white and the other is colored black) will be found in any randomly selected spatial bin (or voxel) in the digitized microstructure (Add Ref). Therefore 1-point statistics capture the phase volume fractions in the microstructure. 1-point statistics are computed as\n",
      "\n",
      "$$ f[h] = \\frac{1}{S} \\sum_s m[s,h] $$\n",
      "\n",
      "In this equation, $f[h]$ is the probability of finding the local state $h$ in any randomly selected voxel in the microstructure, $m[s, h]$ is the microstructure function (the digital representation of the microstructure) and $S$ is the total number of voxels or spatial bins in the microstructure enumerated by $s$. \n",
      "\n",
      "While 1-point statistics provide information on the relative amounts of the different local states in the microstructure, it does not provide any information about how those local states are spatially arranged in the microstructure. Therefore, 1-point statistics are a limited set of metrics to describe the structure of materials.\n",
      "\n",
      "##2-Point Spatial Correlations\n",
      "\n",
      "2-point spatial correlations (also known as 2-point statistics) contain information about the fractions of local states as well as the first order information on how the different local states are distributed in the microstructure. \n",
      "\n",
      "2-point statistics can be thought of as the probability of having a vector placed randomly in the microstructure and have one end of the vector be on one specified local state and the other end at another specified local state. This vector could have any length or orientation that the discrete microstructure allows. The equation for 2-point statistics can found below.\n",
      "\n",
      "$$ f[r, h, h'] = \\frac{1}{S} \\sum_s m[s, h] m[s + r, h'] $$\n",
      "\n",
      "In this equation $ f[r, h, h']$ is the conditional probability of finding the local states $h$ and $h'$ at a distance and orientation away from each other defined by the vector $r$. All other variables are the same as those in the 1-point statistics equation. In the case that we have an eigen microstructure function (it only contains values of 0 or 1) and we are using an indicator basis, the the $r=0$ vector will recover the 1-point statistics. \n",
      "\n",
      "When the 2 local states are the same $h = h'$, it is referred to as the autocorrelation. If the 2 local states are not the same it is referred to as the crosscorrelation. \n",
      "\n",
      "##Higher Order Spatial Statistics\n",
      "\n",
      "Higher order spatial statistics are similar to 2-point statistics, in that they can be thought of in terms of conditional probabilities of findgoin specified local states seperated by a prescribed set of vectors. 3-point statistics are the probability of finding three specified local states at the ends of a triangle (defined by 2 vectors) placed randomly in the material structure. 4-point statistics describes the probablity of finding 4 local states at 4 locations (defined using 3 vectors) and so on. \n",
      "\n",
      "While higher order statistcs are a better metric to quanify the material structure, the 2-point statistics can be computed much faster than higher order spatial statistics, and still provide information about how the local states are distributed. For this reason, only 2-point statistics are implemented into PyMKS. Let us look at an example of computing the 2-point statistics for a checkerboard microstructure."
     ]
    },
    {
     "cell_type": "code",
     "collapsed": false,
     "input": [
      "%matplotlib inline\n",
      "%load_ext autoreload\n",
      "%autoreload 2\n",
      "\n",
      "import numpy as np\n",
      "import matplotlib.pyplot as plt"
     ],
     "language": "python",
     "metadata": {},
     "outputs": [],
     "prompt_number": 1
    },
    {
     "cell_type": "markdown",
     "metadata": {},
     "source": [
      "#2-Point Statistics for Checkerboard Microstructure\n",
      "\n",
      "Let's first start with making a microstructure that looks like a 8 x 8 checkerboard. Although this type of microstructure may not resemble a physical system, it provides solutions that give some intuitive understanding of 2-point statistics.\n",
      "\n",
      "We can create a checkerboard microstructure using `make_checkerboard_microstructure` function from `pymks.datasets`."
     ]
    },
    {
     "cell_type": "code",
     "collapsed": false,
     "input": [
      "from pymks.datasets import make_checkerboard_microstructure\n",
      "\n",
      "X = make_checkerboard_microstructure(square_size=1, n_squares=4)"
     ],
     "language": "python",
     "metadata": {},
     "outputs": [],
     "prompt_number": 2
    },
    {
     "cell_type": "markdown",
     "metadata": {},
     "source": [
      "Now let's take a look at how the microstructure looks."
     ]
    },
    {
     "cell_type": "code",
     "collapsed": false,
     "input": [
      "from pymks.tools import draw_microstructures\n",
      "\n",
      "draw_microstructures(X[0])\n",
      "\n",
      "print X.shape"
     ],
     "language": "python",
     "metadata": {},
     "outputs": [
      {
       "output_type": "stream",
       "stream": "stdout",
       "text": [
        "(1, 4, 4)\n"
       ]
      },
      {
       "output_type": "stream",
       "stream": "stderr",
       "text": [
        "/home/david/anaconda/lib/python2.7/site-packages/matplotlib/figure.py:1644: UserWarning: This figure includes Axes that are not compatible with tight_layout, so its results might be incorrect.\n",
        "  warnings.warn(\"This figure includes Axes that are not \"\n"
       ]
      },
      {
       "metadata": {},
       "output_type": "display_data",
       "png": "[encoded data removed]",
       "text": [
        "<matplotlib.figure.Figure at 0x7f10abb54950>"
       ]
      }
     ],
     "prompt_number": 3
    },
    {
     "cell_type": "markdown",
     "metadata": {},
     "source": [
      "##Compute Periodic 2-Point Statistics\n",
      "\n",
      "Now that we have created a microstructure to work with, we can start computing the 2-point statistics. Let's start by looking at the periodic autocorrelations of the microstructure and then compute the periodic crosscorrelation. This can be done using the `autocorrelate` and `crosscorrelate` functions from `pymks.states`, and using the keyword argument `periodic_axes` to specify the axes that are periodic. \n",
      "\n",
      "In order to compute 2-pont statistics, we need to select a basis to generate the microstructure function `X_` from the microstructure `X`. Because we only have values of 0 or 1 in our microstructure we will using the `DiscreteIndicatorBasis` with `n_states` equal to 2."
     ]
    },
    {
     "cell_type": "code",
     "collapsed": false,
     "input": [
      "from pymks.stats import autocorrelate\n",
      "from pymks import DiscreteIndicatorBasis\n",
      "\n",
      "discrete_basis = DiscreteIndicatorBasis(n_states=2)\n",
      "X_ = discrete_basis.discretize(X)\n",
      "X_auto = autocorrelate(X_, periodic_axes=(0, 1))"
     ],
     "language": "python",
     "metadata": {},
     "outputs": [
      {
       "output_type": "stream",
       "stream": "stdout",
       "text": [
        "autocorrelation 1 numerator\n",
        "[[ 8.  0.  8.  0.]\n",
        " [ 0.  8.  0.  8.]\n",
        " [ 8.  0.  8.  0.]\n",
        " [ 0.  8.  0.  8.]] \n",
        "\n",
        "autocorrelation 2 numerator\n",
        "[[ 8.  0.  8.  0.]\n",
        " [ 0.  8.  0.  8.]\n",
        " [ 8.  0.  8.  0.]\n",
        " [ 0.  8.  0.  8.]] \n",
        "\n",
        "autocorrelation denominator\n",
        "16 \n",
        "\n"
       ]
      }
     ],
     "prompt_number": 4
    },
    {
     "cell_type": "markdown",
     "metadata": {},
     "source": [
      "We have now computed the autocorrelations.\n",
      "\n",
      "Let's take a look at them using `draw_autocorrelations` from `pymks.tools`."
     ]
    },
    {
     "cell_type": "code",
     "collapsed": false,
     "input": [
      "from pymks.tools import draw_autocorrelations\n",
      "\n",
      "draw_autocorrelations(X_auto[0])"
     ],
     "language": "python",
     "metadata": {},
     "outputs": [
      {
       "metadata": {},
       "output_type": "display_data",
       "png": "[encoded data removed]",
       "text": [
        "<matplotlib.figure.Figure at 0x7f10ab5c2ad0>"
       ]
      }
     ],
     "prompt_number": 5
    },
    {
     "cell_type": "markdown",
     "metadata": {},
     "source": [
      "Notice that for this checkerboard microstructure, the autocorrelation for these 2 local states in the exact same. We have just computed the periodic autocorrelations for a perfectly periodic microstructure with equal volume fractions. In general this is not the case and the autocorrelations will be different as we will see later in this example.\n",
      "\n",
      "As mentioned in the introduction, because we using an indicator basis and the we have eigen-microstructure functions (values are either 0 or 1), the (0, 0) vector equals the volume fraction. \n",
      "\n",
      "Let's double check that both the phases have a volume fraction of 0.5."
     ]
    },
    {
     "cell_type": "code",
     "collapsed": false,
     "input": [
      "center = (X_auto.shape[1] + 1) / 2\n",
      "print 'Volume fraction of black phase', X_auto[0, center, center, 0]\n",
      "print 'Volume fraction of white phase', X_auto[0, center, center, 1]"
     ],
     "language": "python",
     "metadata": {},
     "outputs": [
      {
       "output_type": "stream",
       "stream": "stdout",
       "text": [
        "Volume fraction of black phase 0.5\n",
        "Volume fraction of white phase 0.5\n"
       ]
      }
     ],
     "prompt_number": 6
    },
    {
     "cell_type": "markdown",
     "metadata": {},
     "source": [
      "We can compute the cross-correlation of the microstructure function using the `crosscorrelate` function from `pymks.stats`"
     ]
    },
    {
     "cell_type": "code",
     "collapsed": false,
     "input": [
      "from pymks.stats import crosscorrelate\n",
      "\n",
      "X_cross = crosscorrelate(X_, periodic_axes=(0, 1))"
     ],
     "language": "python",
     "metadata": {},
     "outputs": [
      {
       "output_type": "stream",
       "stream": "stdout",
       "text": [
        "crosscorrelation numerator\n",
        "[[ 0.  8.  0.  8.]\n",
        " [ 8.  0.  8.  0.]\n",
        " [ 0.  8.  0.  8.]\n",
        " [ 8.  0.  8.  0.]] \n",
        "\n",
        "crosscorrelation denominator\n",
        "16 \n",
        "\n"
       ]
      }
     ],
     "prompt_number": 7
    },
    {
     "cell_type": "markdown",
     "metadata": {},
     "source": [
      "Let's take a look at the cross correlation using `draw_crosscorrelations` from `pymks.tools`."
     ]
    },
    {
     "cell_type": "code",
     "collapsed": false,
     "input": [
      "from pymks.tools import draw_crosscorrelations\n",
      "\n",
      "draw_crosscorrelations(X_cross[0])"
     ],
     "language": "python",
     "metadata": {},
     "outputs": [
      {
       "metadata": {},
       "output_type": "display_data",
       "png": "[encoded data removed]",
       "text": [
        "<matplotlib.figure.Figure at 0x7f10ab553610>"
       ]
      }
     ],
     "prompt_number": 8
    },
    {
     "cell_type": "markdown",
     "metadata": {},
     "source": [
      "Notice that the crosscorrelation is the exact opposite of the 2 autocorrelations. The (0, 0) vector has a value of 0. This statistic reflects the probablity of 2 phases having the same location. In our microstructure, this probability is zero as we have not allowed the two phases (colored black and white) to co-exist in the same spatial voxel.\n",
      "\n",
      "Let check that it is zero."
     ]
    },
    {
     "cell_type": "code",
     "collapsed": false,
     "input": [
      "print 'Center value', X_cross[0, center, center, 0]"
     ],
     "language": "python",
     "metadata": {},
     "outputs": [
      {
       "output_type": "stream",
       "stream": "stdout",
       "text": [
        "Center value 0.0\n"
       ]
      }
     ],
     "prompt_number": 9
    },
    {
     "cell_type": "markdown",
     "metadata": {},
     "source": [
      "#Compute Non-Periodic 2-Point Statistics\n",
      "\n",
      "We will now compute the non-periodic 2-point statistics for our microstructure. This time rather than using the `autocorrelate` and `crosscorrelate` functions, we will use the `correlate` function from `pymks.stats`. The `correlate` function computes all of the autocorrelations and crosscorrelations at the same time. We will computed the non-periodic statistics by omiting the keyword argument `periodic_axes`."
     ]
    },
    {
     "cell_type": "code",
     "collapsed": false,
     "input": [
      "from pymks.stats import correlate\n",
      "\n",
      "X_corr = correlate(X_)"
     ],
     "language": "python",
     "metadata": {},
     "outputs": [
      {
       "output_type": "stream",
       "stream": "stdout",
       "text": [
        "autocorrelation 1 numerator\n",
        "[[ 2.  0.  4.  0.]\n",
        " [ 0.  5.  0.  4.]\n",
        " [ 4.  0.  8.  0.]\n",
        " [ 0.  4.  0.  5.]] \n",
        "\n",
        "autocorrelation 2 numerator\n",
        "[[ 2.  0.  4.  0.]\n",
        " [ 0.  4.  0.  5.]\n",
        " [ 4.  0.  8.  0.]\n",
        " [ 0.  5.  0.  4.]] \n",
        "\n",
        "autocorrelation denominator\n",
        "[[  4.   6.   8.   6.]\n",
        " [  6.   9.  12.   9.]\n",
        " [  8.  12.  16.  12.]\n",
        " [  6.   9.  12.   9.]] \n",
        "\n",
        "crosscorrelation numerator\n",
        "[[ 0.  3.  0.  3.]\n",
        " [ 3.  0.  6.  0.]\n",
        " [ 0.  6.  0.  6.]\n",
        " [ 3.  0.  6.  0.]] \n",
        "\n",
        "crosscorrelation denominator\n",
        "[[  4.   6.   8.   6.]\n",
        " [  6.   9.  12.   9.]\n",
        " [  8.  12.  16.  12.]\n",
        " [  6.   9.  12.   9.]] \n",
        "\n"
       ]
      }
     ],
     "prompt_number": 10
    },
    {
     "cell_type": "markdown",
     "metadata": {},
     "source": [
      "All or some of the correlations can be viewed using the `draw_correlations` function from `pymks.tools`. In this example we will look at all of them."
     ]
    },
    {
     "cell_type": "code",
     "collapsed": false,
     "input": [
      "from pymks.tools import draw_correlations\n",
      "\n",
      "draw_correlations(X_corr[0].real, correlations=[(1, 1), (2, 2), (1, 2)])"
     ],
     "language": "python",
     "metadata": {},
     "outputs": [
      {
       "metadata": {},
       "output_type": "display_data",
       "png": "[encoded data removed]",
       "text": [
        "<matplotlib.figure.Figure at 0x7f10ab493790>"
       ]
      }
     ],
     "prompt_number": 11
    },
    {
     "cell_type": "markdown",
     "metadata": {},
     "source": [
      "Notice that the maximum values for the autocorrelations are higher than 0.5. We can still show that the centers or the (0, 0) vectors are still equal to the volume fractions."
     ]
    },
    {
     "cell_type": "code",
     "collapsed": false,
     "input": [
      "print 'Volume fraction of black phase', X_corr[0, center, center, 0]\n",
      "print 'Volume fraction of white phase', X_corr[0, center, center, 1]"
     ],
     "language": "python",
     "metadata": {},
     "outputs": [
      {
       "output_type": "stream",
       "stream": "stdout",
       "text": [
        "Volume fraction of black phase 0.5\n",
        "Volume fraction of white phase 0.5\n"
       ]
      }
     ],
     "prompt_number": 12
    },
    {
     "cell_type": "markdown",
     "metadata": {},
     "source": [
      "The normalization of the non-periodic statistics is different from the periodic 2-point statistics which cases some of the diagonal vectors to have a probablity higher than the (0, 0) vector."
     ]
    },
    {
     "cell_type": "markdown",
     "metadata": {},
     "source": [
      "# References"
     ]
    },
    {
     "cell_type": "code",
     "collapsed": false,
     "input": [],
     "language": "python",
     "metadata": {},
     "outputs": [],
     "prompt_number": 12
    }
   ],
   "metadata": {}
  }
 ]
}