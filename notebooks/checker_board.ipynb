{
 "metadata": {
  "name": "",
  "signature": "sha256:1dc85a2a956f210b8649272403c7ffe98c722da4b35bb01e7c04c3439d8407f8"
 },
 "nbformat": 3,
 "nbformat_minor": 0,
 "worksheets": [
  {
   "cells": [
    {
     "cell_type": "code",
     "collapsed": false,
     "input": [],
     "language": "python",
     "metadata": {},
     "outputs": []
    },
    {
     "cell_type": "code",
     "collapsed": false,
     "input": [
      "%matplotlib inline\n",
      "%load_ext autoreload\n",
      "%autoreload 2\n",
      "\n",
      "import numpy as np\n",
      "import matplotlib.pyplot as plt"
     ],
     "language": "python",
     "metadata": {},
     "outputs": [],
     "prompt_number": 1
    },
    {
     "cell_type": "code",
     "collapsed": false,
     "input": [
      "def make_checkerboard(square_size, board_size):\n",
      "    L = board_size * square_size\n",
      "    X = np.ones((2 * square_size, 2 * square_size), dtype=int)\n",
      "    X[:square_size, :square_size] = 0\n",
      "    X[square_size:, square_size:] = 0\n",
      "    return np.tile(X, ((board_size + 1) / 2, (board_size + 1) / 2))[None, :L, :L]\n",
      "    \n",
      "    \n",
      "#     re = np.r_[ w*[0,1] ]\n",
      "#     ro = np.r_[ w*[1,0] ]\n",
      "#     return np.row_stack(h*(re, ro))"
     ],
     "language": "python",
     "metadata": {},
     "outputs": [],
     "prompt_number": 96
    },
    {
     "cell_type": "code",
     "collapsed": false,
     "input": [
      "from pymks.datasets import make_checkerboard_microstructure"
     ],
     "language": "python",
     "metadata": {},
     "outputs": [],
     "prompt_number": 2
    },
    {
     "cell_type": "code",
     "collapsed": false,
     "input": [
      "from pymks.tools import draw_microstructures\n",
      "\n",
      "X = make_checkerboard_microstructure(square_size=2, n_squares=2) \n",
      "print X.shape\n",
      "draw_microstructures(X[0])\n",
      "print X"
     ],
     "language": "python",
     "metadata": {},
     "outputs": [
      {
       "output_type": "stream",
       "stream": "stdout",
       "text": [
        "(1, 4, 4)\n",
        "[[[0 0 1 1]\n",
        "  [0 0 1 1]\n",
        "  [1 1 0 0]\n",
        "  [1 1 0 0]]]"
       ]
      },
      {
       "output_type": "stream",
       "stream": "stdout",
       "text": [
        "\n"
       ]
      },
      {
       "output_type": "stream",
       "stream": "stderr",
       "text": [
        "/home/david/anaconda/lib/python2.7/site-packages/matplotlib/figure.py:1644: UserWarning: This figure includes Axes that are not compatible with tight_layout, so its results might be incorrect.\n",
        "  warnings.warn(\"This figure includes Axes that are not \"\n"
       ]
      },
      {
       "metadata": {},
       "output_type": "display_data",
       "png": "[encoded data removed]",
       "text": [
        "<matplotlib.figure.Figure at 0x7f2a232c7d10>"
       ]
      }
     ],
     "prompt_number": 5
    },
    {
     "cell_type": "code",
     "collapsed": false,
     "input": [
      "from pymks.stats import autocorrelate, crosscorrelate\n",
      "from pymks import DiscreteIndicatorBasis\n",
      "\n",
      "discrete_basis = DiscreteIndicatorBasis(n_states=2)\n",
      "X_ = discrete_basis.discretize(X)\n",
      "X_auto = autocorrelate(X_)\n",
      "X_cross = crosscorrelate(X_)\n",
      "print X_cross.shape\n",
      "print X_auto.shape"
     ],
     "language": "python",
     "metadata": {},
     "outputs": [
      {
       "output_type": "stream",
       "stream": "stdout",
       "text": [
        "(1, 4, 4, 1)\n",
        "(1, 4, 4, 2)\n"
       ]
      }
     ],
     "prompt_number": 6
    },
    {
     "cell_type": "code",
     "collapsed": false,
     "input": [
      "draw_microstructures(X_auto[0, ..., 1])"
     ],
     "language": "python",
     "metadata": {},
     "outputs": [
      {
       "metadata": {},
       "output_type": "display_data",
       "png": "[encoded data removed]",
       "text": [
        "<matplotlib.figure.Figure at 0x7f2a232c7650>"
       ]
      }
     ],
     "prompt_number": 10
    },
    {
     "cell_type": "code",
     "collapsed": false,
     "input": [
      "draw_microstructures(X_cross[0, ..., 0])"
     ],
     "language": "python",
     "metadata": {},
     "outputs": [
      {
       "metadata": {},
       "output_type": "display_data",
       "png": "[encoded data removed]",
       "text": [
        "<matplotlib.figure.Figure at 0x7f2a2308bf10>"
       ]
      }
     ],
     "prompt_number": 8
    },
    {
     "cell_type": "code",
     "collapsed": false,
     "input": [],
     "language": "python",
     "metadata": {},
     "outputs": [],
     "prompt_number": 85
    },
    {
     "cell_type": "code",
     "collapsed": false,
     "input": [],
     "language": "python",
     "metadata": {},
     "outputs": []
    }
   ],
   "metadata": {}
  }
 ]
}