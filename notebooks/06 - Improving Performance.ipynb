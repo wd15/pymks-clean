{
 "metadata": {
  "name": ""
 },
 "nbformat": 3,
 "nbformat_minor": 0,
 "worksheets": [
  {
   "cells": [
    {
     "cell_type": "markdown",
     "metadata": {},
     "source": [
      "# Improving Performance\n",
      "\n",
      "This notebook will\n",
      "\n",
      " - introduce parallel computing with IPython,\n",
      " - cross-validate in parallel,\n",
      " - introduce `numexpr` for improving the efficiency of `numpy`,\n",
      " - improve the efficiency of the FFT with `PyFFTW`,\n",
      " - implement this all in the `FastMKSRegressionModel` class and\n",
      " - run a full Cahn-Hilliard probelm with the `FastMKSRegressionModel`."
     ]
    },
    {
     "cell_type": "code",
     "collapsed": false,
     "input": [
      "%matplotlib inline\n",
      "%load_ext autoreload\n",
      "%autoreload 2\n",
      "\n",
      "import numpy as np\n",
      "import matplotlib.pyplot as plt\n",
      "\n",
      "\n",
      "from pymks import MKSRegressionModel\n",
      "from pymks import FastMKSRegressionModel\n",
      "from pymks import FiPyCHModel\n",
      "from sklearn import metrics\n",
      "from sklearn.grid_search import GridSearchCV\n",
      "from pymks import FastMKSRegressionModel\n",
      "import numexpr\n",
      "\n",
      "mse = metrics.mean_squared_error"
     ],
     "language": "python",
     "metadata": {},
     "outputs": [
      {
       "output_type": "stream",
       "stream": "stdout",
       "text": [
        "The autoreload extension is already loaded. To reload it, use:\n",
        "  %reload_ext autoreload\n"
       ]
      }
     ],
     "prompt_number": 42
    },
    {
     "cell_type": "markdown",
     "metadata": {},
     "source": [
      "## Parallel Data Generation"
     ]
    },
    {
     "cell_type": "markdown",
     "metadata": {},
     "source": [
      "Generate a large(r) amount of data."
     ]
    },
    {
     "cell_type": "code",
     "collapsed": false,
     "input": [
      "np.random.seed(101)\n",
      "X = np.random.random((1000, 21, 21))"
     ],
     "language": "python",
     "metadata": {},
     "outputs": [],
     "prompt_number": 43
    },
    {
     "cell_type": "markdown",
     "metadata": {},
     "source": [
      "Create a \"direct view\" of the engines."
     ]
    },
    {
     "cell_type": "code",
     "collapsed": false,
     "input": [
      "from IPython.parallel import Client\n",
      "engines = Client()\n",
      "dview = engines[:]\n",
      "dview.block = True\n",
      "dview.activate()\n",
      "print \"engines IDs\",engines.ids"
     ],
     "language": "python",
     "metadata": {},
     "outputs": [
      {
       "output_type": "stream",
       "stream": "stdout",
       "text": [
        "engines IDs [0, 1, 2, 3, 4, 5, 6, 7]\n"
       ]
      }
     ],
     "prompt_number": 44
    },
    {
     "cell_type": "markdown",
     "metadata": {},
     "source": [
      "scatter the data."
     ]
    },
    {
     "cell_type": "code",
     "collapsed": false,
     "input": [
      "dview.scatter('X', X)"
     ],
     "language": "python",
     "metadata": {},
     "outputs": [],
     "prompt_number": 45
    },
    {
     "cell_type": "markdown",
     "metadata": {},
     "source": [
      "Perfom the calculation in parallel."
     ]
    },
    {
     "cell_type": "code",
     "collapsed": false,
     "input": [
      "%px print X.shape"
     ],
     "language": "python",
     "metadata": {},
     "outputs": [
      {
       "output_type": "stream",
       "stream": "stdout",
       "text": [
        "[stdout:0] (125, 21, 21)\n",
        "[stdout:1] (125, 21, 21)\n",
        "[stdout:2] (125, 21, 21)\n",
        "[stdout:3] (125, 21, 21)\n",
        "[stdout:4] (125, 21, 21)\n",
        "[stdout:5] (125, 21, 21)\n",
        "[stdout:6] (125, 21, 21)\n",
        "[stdout:7] (125, 21, 21)\n"
       ]
      }
     ],
     "prompt_number": 48
    },
    {
     "cell_type": "code",
     "collapsed": false,
     "input": [
      "%%px\n",
      "\n",
      "from pymks import FiPyCHMode\n",
      "y = FiPyCHModel().predict(X)"
     ],
     "language": "python",
     "metadata": {},
     "outputs": [],
     "prompt_number": 46
    },
    {
     "cell_type": "markdown",
     "metadata": {},
     "source": [
      "The `map_sync` function returns a list which needs to be concatenated into one array."
     ]
    },
    {
     "cell_type": "code",
     "collapsed": false,
     "input": [
      "y = dview.gather('y')\n",
      "print y.dtype\n",
      "print y.shape"
     ],
     "language": "python",
     "metadata": {},
     "outputs": [
      {
       "output_type": "stream",
       "stream": "stdout",
       "text": [
        "float64\n",
        "(1000, 21, 21)\n"
       ]
      }
     ],
     "prompt_number": 49
    },
    {
     "cell_type": "markdown",
     "metadata": {},
     "source": [
      "## Parallel Cross-Validation"
     ]
    },
    {
     "cell_type": "markdown",
     "metadata": {},
     "source": [
      "Partition the data into training and test arrays."
     ]
    },
    {
     "cell_type": "code",
     "collapsed": false,
     "input": [
      "from sklearn.cross_validation import train_test_split\n",
      "\n",
      "X_train, X_test, y_train, y_test = train_test_split(X, y, test_size=0.5, random_state=3)"
     ],
     "language": "python",
     "metadata": {},
     "outputs": [],
     "prompt_number": 50
    },
    {
     "cell_type": "markdown",
     "metadata": {},
     "source": [
      "Create a dictionary of tuning parameters to search and define the optimization function."
     ]
    },
    {
     "cell_type": "code",
     "collapsed": false,
     "input": [
      "Nbins = np.arange(2, 20)"
     ],
     "language": "python",
     "metadata": {},
     "outputs": [],
     "prompt_number": 51
    },
    {
     "cell_type": "markdown",
     "metadata": {},
     "source": [
      "Setting `n_jobs=-1` uses all the available processors"
     ]
    },
    {
     "cell_type": "code",
     "collapsed": false,
     "input": [
      "from pymks import MKSRegressionModel\n",
      "from sklearn import metrics\n",
      "from sklearn.grid_search import GridSearchCV\n",
      "tuning_parameters = [{'Nbin': Nbins}]\n",
      "    \n",
      "def neg_mse(a, b):\n",
      "    from sklearn import metrics\n",
      "    mse = metrics.mean_squared_error\n",
      "    return -mse(a, b)\n",
      "\n",
      "gridSearch = GridSearchCV(MKSRegressionModel(), tuning_parameters, cv=5,\n",
      "                          score_func=neg_mse, n_jobs=-1)"
     ],
     "language": "python",
     "metadata": {},
     "outputs": [],
     "prompt_number": 52
    },
    {
     "cell_type": "code",
     "collapsed": false,
     "input": [
      "out = gridSearch.fit(X_train, y_train)"
     ],
     "language": "python",
     "metadata": {},
     "outputs": [],
     "prompt_number": 53
    },
    {
     "cell_type": "code",
     "collapsed": false,
     "input": [
      "print gridSearch.best_estimator_\n",
      "gridSearch.score(X_test, y_test)"
     ],
     "language": "python",
     "metadata": {},
     "outputs": [
      {
       "output_type": "stream",
       "stream": "stdout",
       "text": [
        "MKSRegressionModel(Nbin=5)\n"
       ]
      },
      {
       "metadata": {},
       "output_type": "pyout",
       "prompt_number": 54,
       "text": [
        "0.99998973068237618"
       ]
      }
     ],
     "prompt_number": 54
    },
    {
     "cell_type": "code",
     "collapsed": false,
     "input": [
      "for params, mean_score, scores in gridSearch.grid_scores_:\n",
      "    print(\"%1.3e (+/-%1.3e) for %r\"% (mean_score, scores.std() / 2, params))"
     ],
     "language": "python",
     "metadata": {},
     "outputs": []
    },
    {
     "cell_type": "code",
     "collapsed": false,
     "input": [
      "for Nbin in Nbins:\n",
      "    model = MKSRegressionModel(Nbin=Nbin)\n",
      "    model.fit(X_train, y_train)\n",
      "    y_true, y_pred = y_test, model.predict(X_test)\n",
      "    print 'Nbin: {0}, mse: {1:1.3e}'.format(Nbin, mse(y_true, y_pred))"
     ],
     "language": "python",
     "metadata": {},
     "outputs": []
    },
    {
     "cell_type": "markdown",
     "metadata": {},
     "source": [
      "## Exercise 06-0\n",
      "\n",
      "Change the number of samples. How does the optimal `Nbin` change with number of samples? \n",
      "\n",
      "Evaluate time taken for `gridSearch.fit` for varying `n_jobs`."
     ]
    },
    {
     "cell_type": "markdown",
     "metadata": {},
     "source": [
      "## Evaluate the mean square error while varying Nspace in parallel (todo)"
     ]
    },
    {
     "cell_type": "markdown",
     "metadata": {},
     "source": [
      "## Numexpr"
     ]
    },
    {
     "cell_type": "markdown",
     "metadata": {},
     "source": [
      "The [Numexpr](http://code.google.com/p/numexpr/) package speeds up `numpy` calculations considerably. For example, take the following"
     ]
    },
    {
     "cell_type": "code",
     "collapsed": false,
     "input": [
      "np.random.seed(102)\n",
      "a = np.random.random(1e7)\n",
      "b = np.random.random(1e7)\n",
      "c = np.random.random(1e7)\n",
      "a.dtype"
     ],
     "language": "python",
     "metadata": {},
     "outputs": [
      {
       "metadata": {},
       "output_type": "pyout",
       "prompt_number": 55,
       "text": [
        "dtype('float64')"
       ]
      }
     ],
     "prompt_number": 55
    },
    {
     "cell_type": "markdown",
     "metadata": {},
     "source": [
      "The `%timeit` magic implicitly handles a number of common pit falls when timing Python expression execution."
     ]
    },
    {
     "cell_type": "code",
     "collapsed": false,
     "input": [
      "?%timeit"
     ],
     "language": "python",
     "metadata": {},
     "outputs": []
    },
    {
     "cell_type": "markdown",
     "metadata": {},
     "source": [
      "Use `timeit` to time a regular Numpy calculation."
     ]
    },
    {
     "cell_type": "code",
     "collapsed": false,
     "input": [
      "d = a**2 + b**2 + 2*a*b\n",
      "%timeit a**2 + b**2 + 2*a*b"
     ],
     "language": "python",
     "metadata": {},
     "outputs": [
      {
       "output_type": "stream",
       "stream": "stdout",
       "text": [
        "10 loops, best of 3: 194 ms per loop\n"
       ]
      }
     ],
     "prompt_number": 56
    },
    {
     "cell_type": "markdown",
     "metadata": {},
     "source": [
      "Numpy calculations are quite slow when compared with the same code in\n",
      "C. This is due to the overhead from memory allocation for the intermediate arrays."
     ]
    },
    {
     "cell_type": "markdown",
     "metadata": {},
     "source": [
      "Use `timeit` to time a [`numexpr`](http://code.google.com/p/numexpr/) calculation."
     ]
    },
    {
     "cell_type": "code",
     "collapsed": false,
     "input": [
      "e = numexpr.evaluate('a**2 + b**2 + 2 * a * b')\n",
      "%timeit e = numexpr.evaluate('a**2 + b**2 + 2 * a * b')"
     ],
     "language": "python",
     "metadata": {},
     "outputs": [
      {
       "output_type": "stream",
       "stream": "stdout",
       "text": [
        "10 loops, best of 3: 20.1 ms per loop\n"
       ]
      }
     ],
     "prompt_number": 57
    },
    {
     "cell_type": "code",
     "collapsed": false,
     "input": [
      "np.all(d == e)"
     ],
     "language": "python",
     "metadata": {},
     "outputs": [
      {
       "metadata": {},
       "output_type": "pyout",
       "prompt_number": 58,
       "text": [
        "True"
       ]
      }
     ],
     "prompt_number": 58
    },
    {
     "cell_type": "markdown",
     "metadata": {},
     "source": [
      "There is no benefit for small expressions with no intermediate memory allocation."
     ]
    },
    {
     "cell_type": "code",
     "collapsed": false,
     "input": [
      "%timeit a**2"
     ],
     "language": "python",
     "metadata": {},
     "outputs": [
      {
       "output_type": "stream",
       "stream": "stdout",
       "text": [
        "10 loops, best of 3: 29.6 ms per loop\n"
       ]
      }
     ],
     "prompt_number": 59
    },
    {
     "cell_type": "code",
     "collapsed": false,
     "input": [
      "numexpr.set_num_threads(8)\n",
      "%timeit numexpr.evaluate(\"a**2\")"
     ],
     "language": "python",
     "metadata": {},
     "outputs": [
      {
       "output_type": "stream",
       "stream": "stdout",
       "text": [
        "100 loops, best of 3: 15.4 ms per loop\n"
       ]
      }
     ],
     "prompt_number": 61
    },
    {
     "cell_type": "markdown",
     "metadata": {},
     "source": [
      "[Numexpr](http://code.google.com/p/numexpr/) uses multithreading by default."
     ]
    },
    {
     "cell_type": "code",
     "collapsed": false,
     "input": [
      "Nproc = 8\n",
      "for Nthread in range(1, Nproc + 1):\n",
      "    print \"number of threads:\",Nthread\n",
      "    numexpr.set_num_threads(Nthread)\n",
      "    %timeit numexpr.evaluate('a**2 + b**2 + 2 * a * b')"
     ],
     "language": "python",
     "metadata": {},
     "outputs": [
      {
       "output_type": "stream",
       "stream": "stdout",
       "text": [
        "number of threads: 1\n",
        "10 loops, best of 3: 65.3 ms per loop"
       ]
      },
      {
       "output_type": "stream",
       "stream": "stdout",
       "text": [
        "\n",
        "number of threads: 2\n",
        "10 loops, best of 3: 46.9 ms per loop"
       ]
      },
      {
       "output_type": "stream",
       "stream": "stdout",
       "text": [
        "\n",
        "number of threads: 3\n",
        "10 loops, best of 3: 32.6 ms per loop"
       ]
      },
      {
       "output_type": "stream",
       "stream": "stdout",
       "text": [
        "\n",
        "number of threads: 4\n",
        "10 loops, best of 3: 25.1 ms per loop"
       ]
      },
      {
       "output_type": "stream",
       "stream": "stdout",
       "text": [
        "\n",
        "number of threads: 5\n",
        "10 loops, best of 3: 27.7 ms per loop"
       ]
      },
      {
       "output_type": "stream",
       "stream": "stdout",
       "text": [
        "\n",
        "number of threads: 6\n",
        "10 loops, best of 3: 24.9 ms per loop"
       ]
      },
      {
       "output_type": "stream",
       "stream": "stdout",
       "text": [
        "\n",
        "number of threads: 7\n",
        "10 loops, best of 3: 24.4 ms per loop"
       ]
      },
      {
       "output_type": "stream",
       "stream": "stdout",
       "text": [
        "\n",
        "number of threads: 8\n",
        "10 loops, best of 3: 21.3 ms per loop"
       ]
      },
      {
       "output_type": "stream",
       "stream": "stdout",
       "text": [
        "\n"
       ]
      }
     ],
     "prompt_number": 63
    },
    {
     "cell_type": "markdown",
     "metadata": {},
     "source": [
      "Another example."
     ]
    },
    {
     "cell_type": "code",
     "collapsed": false,
     "input": [
      "%timeit sin(a)**2 + cos(b)**2"
     ],
     "language": "python",
     "metadata": {},
     "outputs": [
      {
       "ename": "ValueError",
       "evalue": "operands could not be broadcast together with shapes (1024,16384) (10000000) ",
       "output_type": "pyerr",
       "traceback": [
        "\u001b[1;31m---------------------------------------------------------------------------\u001b[0m\n\u001b[1;31mValueError\u001b[0m                                Traceback (most recent call last)",
        "\u001b[1;32m<ipython-input-67-40e67b41ad0a>\u001b[0m in \u001b[0;36m<module>\u001b[1;34m()\u001b[0m\n\u001b[1;32m----> 1\u001b[1;33m \u001b[0mget_ipython\u001b[0m\u001b[1;33m(\u001b[0m\u001b[1;33m)\u001b[0m\u001b[1;33m.\u001b[0m\u001b[0mmagic\u001b[0m\u001b[1;33m(\u001b[0m\u001b[1;34mu'timeit sin(a)**2 + cos(b)**2'\u001b[0m\u001b[1;33m)\u001b[0m\u001b[1;33m\u001b[0m\u001b[0m\n\u001b[0m",
        "\u001b[1;32m/home/wd15/git/ipython/IPython/core/interactiveshell.pyc\u001b[0m in \u001b[0;36mmagic\u001b[1;34m(self, arg_s)\u001b[0m\n\u001b[0;32m   2181\u001b[0m         \u001b[0mmagic_name\u001b[0m\u001b[1;33m,\u001b[0m \u001b[0m_\u001b[0m\u001b[1;33m,\u001b[0m \u001b[0mmagic_arg_s\u001b[0m \u001b[1;33m=\u001b[0m \u001b[0marg_s\u001b[0m\u001b[1;33m.\u001b[0m\u001b[0mpartition\u001b[0m\u001b[1;33m(\u001b[0m\u001b[1;34m' '\u001b[0m\u001b[1;33m)\u001b[0m\u001b[1;33m\u001b[0m\u001b[0m\n\u001b[0;32m   2182\u001b[0m         \u001b[0mmagic_name\u001b[0m \u001b[1;33m=\u001b[0m \u001b[0mmagic_name\u001b[0m\u001b[1;33m.\u001b[0m\u001b[0mlstrip\u001b[0m\u001b[1;33m(\u001b[0m\u001b[0mprefilter\u001b[0m\u001b[1;33m.\u001b[0m\u001b[0mESC_MAGIC\u001b[0m\u001b[1;33m)\u001b[0m\u001b[1;33m\u001b[0m\u001b[0m\n\u001b[1;32m-> 2183\u001b[1;33m         \u001b[1;32mreturn\u001b[0m \u001b[0mself\u001b[0m\u001b[1;33m.\u001b[0m\u001b[0mrun_line_magic\u001b[0m\u001b[1;33m(\u001b[0m\u001b[0mmagic_name\u001b[0m\u001b[1;33m,\u001b[0m \u001b[0mmagic_arg_s\u001b[0m\u001b[1;33m)\u001b[0m\u001b[1;33m\u001b[0m\u001b[0m\n\u001b[0m\u001b[0;32m   2184\u001b[0m \u001b[1;33m\u001b[0m\u001b[0m\n\u001b[0;32m   2185\u001b[0m     \u001b[1;31m#-------------------------------------------------------------------------\u001b[0m\u001b[1;33m\u001b[0m\u001b[1;33m\u001b[0m\u001b[0m\n",
        "\u001b[1;32m/home/wd15/git/ipython/IPython/core/interactiveshell.pyc\u001b[0m in \u001b[0;36mrun_line_magic\u001b[1;34m(self, magic_name, line)\u001b[0m\n\u001b[0;32m   2102\u001b[0m                 \u001b[0mkwargs\u001b[0m\u001b[1;33m[\u001b[0m\u001b[1;34m'local_ns'\u001b[0m\u001b[1;33m]\u001b[0m \u001b[1;33m=\u001b[0m \u001b[0msys\u001b[0m\u001b[1;33m.\u001b[0m\u001b[0m_getframe\u001b[0m\u001b[1;33m(\u001b[0m\u001b[0mstack_depth\u001b[0m\u001b[1;33m)\u001b[0m\u001b[1;33m.\u001b[0m\u001b[0mf_locals\u001b[0m\u001b[1;33m\u001b[0m\u001b[0m\n\u001b[0;32m   2103\u001b[0m             \u001b[1;32mwith\u001b[0m \u001b[0mself\u001b[0m\u001b[1;33m.\u001b[0m\u001b[0mbuiltin_trap\u001b[0m\u001b[1;33m:\u001b[0m\u001b[1;33m\u001b[0m\u001b[0m\n\u001b[1;32m-> 2104\u001b[1;33m                 \u001b[0mresult\u001b[0m \u001b[1;33m=\u001b[0m \u001b[0mfn\u001b[0m\u001b[1;33m(\u001b[0m\u001b[1;33m*\u001b[0m\u001b[0margs\u001b[0m\u001b[1;33m,\u001b[0m\u001b[1;33m**\u001b[0m\u001b[0mkwargs\u001b[0m\u001b[1;33m)\u001b[0m\u001b[1;33m\u001b[0m\u001b[0m\n\u001b[0m\u001b[0;32m   2105\u001b[0m             \u001b[1;32mreturn\u001b[0m \u001b[0mresult\u001b[0m\u001b[1;33m\u001b[0m\u001b[0m\n\u001b[0;32m   2106\u001b[0m \u001b[1;33m\u001b[0m\u001b[0m\n",
        "\u001b[1;32m/home/wd15/git/ipython/IPython/core/magics/execution.pyc\u001b[0m in \u001b[0;36mtimeit\u001b[1;34m(self, line, cell)\u001b[0m\n",
        "\u001b[1;32m/home/wd15/git/ipython/IPython/core/magic.pyc\u001b[0m in \u001b[0;36m<lambda>\u001b[1;34m(f, *a, **k)\u001b[0m\n\u001b[0;32m    189\u001b[0m     \u001b[1;31m# but it's overkill for just that one bit of state.\u001b[0m\u001b[1;33m\u001b[0m\u001b[1;33m\u001b[0m\u001b[0m\n\u001b[0;32m    190\u001b[0m     \u001b[1;32mdef\u001b[0m \u001b[0mmagic_deco\u001b[0m\u001b[1;33m(\u001b[0m\u001b[0marg\u001b[0m\u001b[1;33m)\u001b[0m\u001b[1;33m:\u001b[0m\u001b[1;33m\u001b[0m\u001b[0m\n\u001b[1;32m--> 191\u001b[1;33m         \u001b[0mcall\u001b[0m \u001b[1;33m=\u001b[0m \u001b[1;32mlambda\u001b[0m \u001b[0mf\u001b[0m\u001b[1;33m,\u001b[0m \u001b[1;33m*\u001b[0m\u001b[0ma\u001b[0m\u001b[1;33m,\u001b[0m \u001b[1;33m**\u001b[0m\u001b[0mk\u001b[0m\u001b[1;33m:\u001b[0m \u001b[0mf\u001b[0m\u001b[1;33m(\u001b[0m\u001b[1;33m*\u001b[0m\u001b[0ma\u001b[0m\u001b[1;33m,\u001b[0m \u001b[1;33m**\u001b[0m\u001b[0mk\u001b[0m\u001b[1;33m)\u001b[0m\u001b[1;33m\u001b[0m\u001b[0m\n\u001b[0m\u001b[0;32m    192\u001b[0m \u001b[1;33m\u001b[0m\u001b[0m\n\u001b[0;32m    193\u001b[0m         \u001b[1;32mif\u001b[0m \u001b[0mcallable\u001b[0m\u001b[1;33m(\u001b[0m\u001b[0marg\u001b[0m\u001b[1;33m)\u001b[0m\u001b[1;33m:\u001b[0m\u001b[1;33m\u001b[0m\u001b[0m\n",
        "\u001b[1;32m/home/wd15/git/ipython/IPython/core/magics/execution.pyc\u001b[0m in \u001b[0;36mtimeit\u001b[1;34m(self, line, cell)\u001b[0m\n\u001b[0;32m    984\u001b[0m             \u001b[0mnumber\u001b[0m \u001b[1;33m=\u001b[0m \u001b[1;36m1\u001b[0m\u001b[1;33m\u001b[0m\u001b[0m\n\u001b[0;32m    985\u001b[0m             \u001b[1;32mfor\u001b[0m \u001b[0m_\u001b[0m \u001b[1;32min\u001b[0m \u001b[0mrange\u001b[0m\u001b[1;33m(\u001b[0m\u001b[1;36m1\u001b[0m\u001b[1;33m,\u001b[0m \u001b[1;36m10\u001b[0m\u001b[1;33m)\u001b[0m\u001b[1;33m:\u001b[0m\u001b[1;33m\u001b[0m\u001b[0m\n\u001b[1;32m--> 986\u001b[1;33m                 \u001b[1;32mif\u001b[0m \u001b[0mtimer\u001b[0m\u001b[1;33m.\u001b[0m\u001b[0mtimeit\u001b[0m\u001b[1;33m(\u001b[0m\u001b[0mnumber\u001b[0m\u001b[1;33m)\u001b[0m \u001b[1;33m>=\u001b[0m \u001b[1;36m0.2\u001b[0m\u001b[1;33m:\u001b[0m\u001b[1;33m\u001b[0m\u001b[0m\n\u001b[0m\u001b[0;32m    987\u001b[0m                     \u001b[1;32mbreak\u001b[0m\u001b[1;33m\u001b[0m\u001b[0m\n\u001b[0;32m    988\u001b[0m                 \u001b[0mnumber\u001b[0m \u001b[1;33m*=\u001b[0m \u001b[1;36m10\u001b[0m\u001b[1;33m\u001b[0m\u001b[0m\n",
        "\u001b[1;32m/usr/lib/python2.7/timeit.pyc\u001b[0m in \u001b[0;36mtimeit\u001b[1;34m(self, number)\u001b[0m\n\u001b[0;32m    193\u001b[0m         \u001b[0mgc\u001b[0m\u001b[1;33m.\u001b[0m\u001b[0mdisable\u001b[0m\u001b[1;33m(\u001b[0m\u001b[1;33m)\u001b[0m\u001b[1;33m\u001b[0m\u001b[0m\n\u001b[0;32m    194\u001b[0m         \u001b[1;32mtry\u001b[0m\u001b[1;33m:\u001b[0m\u001b[1;33m\u001b[0m\u001b[0m\n\u001b[1;32m--> 195\u001b[1;33m             \u001b[0mtiming\u001b[0m \u001b[1;33m=\u001b[0m \u001b[0mself\u001b[0m\u001b[1;33m.\u001b[0m\u001b[0minner\u001b[0m\u001b[1;33m(\u001b[0m\u001b[0mit\u001b[0m\u001b[1;33m,\u001b[0m \u001b[0mself\u001b[0m\u001b[1;33m.\u001b[0m\u001b[0mtimer\u001b[0m\u001b[1;33m)\u001b[0m\u001b[1;33m\u001b[0m\u001b[0m\n\u001b[0m\u001b[0;32m    196\u001b[0m         \u001b[1;32mfinally\u001b[0m\u001b[1;33m:\u001b[0m\u001b[1;33m\u001b[0m\u001b[0m\n\u001b[0;32m    197\u001b[0m             \u001b[1;32mif\u001b[0m \u001b[0mgcold\u001b[0m\u001b[1;33m:\u001b[0m\u001b[1;33m\u001b[0m\u001b[0m\n",
        "\u001b[1;32m<magic-timeit>\u001b[0m in \u001b[0;36minner\u001b[1;34m(_it, _timer)\u001b[0m\n",
        "\u001b[1;31mValueError\u001b[0m: operands could not be broadcast together with shapes (1024,16384) (10000000) "
       ]
      }
     ],
     "prompt_number": 67
    },
    {
     "cell_type": "code",
     "collapsed": false,
     "input": [
      "%timeit numexpr.evaluate('sin(a)**2 + cos(b)**2')"
     ],
     "language": "python",
     "metadata": {},
     "outputs": []
    },
    {
     "cell_type": "markdown",
     "metadata": {},
     "source": [
      "## PyFFTW"
     ]
    },
    {
     "cell_type": "markdown",
     "metadata": {},
     "source": [
      "Using [PyFFTW](Whttp://hgomersall.github.io/pyFFTW/) offers substantial speed ups over Numpy's FFT."
     ]
    },
    {
     "cell_type": "code",
     "collapsed": false,
     "input": [
      "a = np.random.random((1024, 16384))\n",
      "b_numpy = np.fft.fftn(a, axes=(0, 1))\n",
      "%timeit b_numpy = np.fft.fftn(a, axes=(0, 1))"
     ],
     "language": "python",
     "metadata": {},
     "outputs": [
      {
       "output_type": "stream",
       "stream": "stdout",
       "text": [
        "1 loops, best of 3: 1.13 s per loop\n"
       ]
      }
     ],
     "prompt_number": 64
    },
    {
     "cell_type": "markdown",
     "metadata": {},
     "source": [
      "PyFFTW requires the creation of a \"plan\" in order to optimize the FFT."
     ]
    },
    {
     "cell_type": "code",
     "collapsed": false,
     "input": [
      "import pyfftw\n",
      "\n",
      "input_array = pyfftw.n_byte_align_empty(a.shape, 16, 'complex128')\n",
      "output_array = pyfftw.n_byte_align_empty(a.shape, 16, 'complex128')\n",
      "fft_plan = pyfftw.FFTW(input_array, output_array, threads=Nproc, axes=(0, 1), direction='FFTW_FORWARD')"
     ],
     "language": "python",
     "metadata": {},
     "outputs": [],
     "prompt_number": 65
    },
    {
     "cell_type": "markdown",
     "metadata": {},
     "source": [
      "Much faster!"
     ]
    },
    {
     "cell_type": "code",
     "collapsed": false,
     "input": [
      "input_array[:] = a;\n",
      "b_fftw = fft_plan()\n",
      "%timeit input_array[:] = a; b_fftw = fft_plan()"
     ],
     "language": "python",
     "metadata": {},
     "outputs": [
      {
       "output_type": "stream",
       "stream": "stdout",
       "text": [
        "10 loops, best of 3: 172 ms per loop\n"
       ]
      }
     ],
     "prompt_number": 66
    },
    {
     "cell_type": "markdown",
     "metadata": {},
     "source": [
      "The return types and values are the same."
     ]
    },
    {
     "cell_type": "code",
     "collapsed": false,
     "input": [
      "print b_fftw.dtype\n",
      "print b_numpy.dtype"
     ],
     "language": "python",
     "metadata": {},
     "outputs": []
    },
    {
     "cell_type": "code",
     "collapsed": false,
     "input": [
      "np.allclose(b_numpy, b_fftw)"
     ],
     "language": "python",
     "metadata": {},
     "outputs": []
    },
    {
     "cell_type": "markdown",
     "metadata": {},
     "source": [
      "As with Numexpr, threading does help for large arrays."
     ]
    },
    {
     "cell_type": "code",
     "collapsed": false,
     "input": [
      "for Nthread in range(1, Nproc + 1):\n",
      "    fft_plan = pyfftw.FFTW(input_array, output_array, threads=Nthread, axes=(0, 1), direction='FFTW_FORWARD')\n",
      "    print 'Nthread:',Nthread\n",
      "    %timeit input_array[:] = a; b_fftw = fft_plan()"
     ],
     "language": "python",
     "metadata": {},
     "outputs": [
      {
       "output_type": "stream",
       "stream": "stdout",
       "text": [
        "Nthread: 1\n",
        "1 loops, best of 3: 376 ms per loop"
       ]
      },
      {
       "output_type": "stream",
       "stream": "stdout",
       "text": [
        "\n",
        "Nthread:"
       ]
      },
      {
       "output_type": "stream",
       "stream": "stdout",
       "text": [
        " 2\n",
        "1 loops, best of 3: 224 ms per loop"
       ]
      },
      {
       "output_type": "stream",
       "stream": "stdout",
       "text": [
        "\n",
        "Nthread:"
       ]
      },
      {
       "output_type": "stream",
       "stream": "stdout",
       "text": [
        " 3\n",
        "10 loops, best of 3: 184 ms per loop"
       ]
      },
      {
       "output_type": "stream",
       "stream": "stdout",
       "text": [
        "\n",
        "Nthread:"
       ]
      },
      {
       "ename": "KeyboardInterrupt",
       "evalue": "",
       "output_type": "pyerr",
       "traceback": [
        "\u001b[1;31m---------------------------------------------------------------------------\u001b[0m\n\u001b[1;31mKeyboardInterrupt\u001b[0m                         Traceback (most recent call last)",
        "\u001b[1;32m<ipython-input-68-13bbe607deac>\u001b[0m in \u001b[0;36m<module>\u001b[1;34m()\u001b[0m\n\u001b[0;32m      2\u001b[0m     \u001b[0mfft_plan\u001b[0m \u001b[1;33m=\u001b[0m \u001b[0mpyfftw\u001b[0m\u001b[1;33m.\u001b[0m\u001b[0mFFTW\u001b[0m\u001b[1;33m(\u001b[0m\u001b[0minput_array\u001b[0m\u001b[1;33m,\u001b[0m \u001b[0moutput_array\u001b[0m\u001b[1;33m,\u001b[0m \u001b[0mthreads\u001b[0m\u001b[1;33m=\u001b[0m\u001b[0mNthread\u001b[0m\u001b[1;33m,\u001b[0m \u001b[0maxes\u001b[0m\u001b[1;33m=\u001b[0m\u001b[1;33m(\u001b[0m\u001b[1;36m0\u001b[0m\u001b[1;33m,\u001b[0m \u001b[1;36m1\u001b[0m\u001b[1;33m)\u001b[0m\u001b[1;33m,\u001b[0m \u001b[0mdirection\u001b[0m\u001b[1;33m=\u001b[0m\u001b[1;34m'FFTW_FORWARD'\u001b[0m\u001b[1;33m)\u001b[0m\u001b[1;33m\u001b[0m\u001b[0m\n\u001b[0;32m      3\u001b[0m     \u001b[1;32mprint\u001b[0m \u001b[1;34m'Nthread:'\u001b[0m\u001b[1;33m,\u001b[0m\u001b[0mNthread\u001b[0m\u001b[1;33m\u001b[0m\u001b[0m\n\u001b[1;32m----> 4\u001b[1;33m     \u001b[0mget_ipython\u001b[0m\u001b[1;33m(\u001b[0m\u001b[1;33m)\u001b[0m\u001b[1;33m.\u001b[0m\u001b[0mmagic\u001b[0m\u001b[1;33m(\u001b[0m\u001b[1;34mu'timeit input_array[:] = a; b_fftw = fft_plan()'\u001b[0m\u001b[1;33m)\u001b[0m\u001b[1;33m\u001b[0m\u001b[0m\n\u001b[0m",
        "\u001b[1;32m/home/wd15/git/ipython/IPython/core/interactiveshell.pyc\u001b[0m in \u001b[0;36mmagic\u001b[1;34m(self, arg_s)\u001b[0m\n\u001b[0;32m   2181\u001b[0m         \u001b[0mmagic_name\u001b[0m\u001b[1;33m,\u001b[0m \u001b[0m_\u001b[0m\u001b[1;33m,\u001b[0m \u001b[0mmagic_arg_s\u001b[0m \u001b[1;33m=\u001b[0m \u001b[0marg_s\u001b[0m\u001b[1;33m.\u001b[0m\u001b[0mpartition\u001b[0m\u001b[1;33m(\u001b[0m\u001b[1;34m' '\u001b[0m\u001b[1;33m)\u001b[0m\u001b[1;33m\u001b[0m\u001b[0m\n\u001b[0;32m   2182\u001b[0m         \u001b[0mmagic_name\u001b[0m \u001b[1;33m=\u001b[0m \u001b[0mmagic_name\u001b[0m\u001b[1;33m.\u001b[0m\u001b[0mlstrip\u001b[0m\u001b[1;33m(\u001b[0m\u001b[0mprefilter\u001b[0m\u001b[1;33m.\u001b[0m\u001b[0mESC_MAGIC\u001b[0m\u001b[1;33m)\u001b[0m\u001b[1;33m\u001b[0m\u001b[0m\n\u001b[1;32m-> 2183\u001b[1;33m         \u001b[1;32mreturn\u001b[0m \u001b[0mself\u001b[0m\u001b[1;33m.\u001b[0m\u001b[0mrun_line_magic\u001b[0m\u001b[1;33m(\u001b[0m\u001b[0mmagic_name\u001b[0m\u001b[1;33m,\u001b[0m \u001b[0mmagic_arg_s\u001b[0m\u001b[1;33m)\u001b[0m\u001b[1;33m\u001b[0m\u001b[0m\n\u001b[0m\u001b[0;32m   2184\u001b[0m \u001b[1;33m\u001b[0m\u001b[0m\n\u001b[0;32m   2185\u001b[0m     \u001b[1;31m#-------------------------------------------------------------------------\u001b[0m\u001b[1;33m\u001b[0m\u001b[1;33m\u001b[0m\u001b[0m\n",
        "\u001b[1;32m/home/wd15/git/ipython/IPython/core/interactiveshell.pyc\u001b[0m in \u001b[0;36mrun_line_magic\u001b[1;34m(self, magic_name, line)\u001b[0m\n\u001b[0;32m   2102\u001b[0m                 \u001b[0mkwargs\u001b[0m\u001b[1;33m[\u001b[0m\u001b[1;34m'local_ns'\u001b[0m\u001b[1;33m]\u001b[0m \u001b[1;33m=\u001b[0m \u001b[0msys\u001b[0m\u001b[1;33m.\u001b[0m\u001b[0m_getframe\u001b[0m\u001b[1;33m(\u001b[0m\u001b[0mstack_depth\u001b[0m\u001b[1;33m)\u001b[0m\u001b[1;33m.\u001b[0m\u001b[0mf_locals\u001b[0m\u001b[1;33m\u001b[0m\u001b[0m\n\u001b[0;32m   2103\u001b[0m             \u001b[1;32mwith\u001b[0m \u001b[0mself\u001b[0m\u001b[1;33m.\u001b[0m\u001b[0mbuiltin_trap\u001b[0m\u001b[1;33m:\u001b[0m\u001b[1;33m\u001b[0m\u001b[0m\n\u001b[1;32m-> 2104\u001b[1;33m                 \u001b[0mresult\u001b[0m \u001b[1;33m=\u001b[0m \u001b[0mfn\u001b[0m\u001b[1;33m(\u001b[0m\u001b[1;33m*\u001b[0m\u001b[0margs\u001b[0m\u001b[1;33m,\u001b[0m\u001b[1;33m**\u001b[0m\u001b[0mkwargs\u001b[0m\u001b[1;33m)\u001b[0m\u001b[1;33m\u001b[0m\u001b[0m\n\u001b[0m\u001b[0;32m   2105\u001b[0m             \u001b[1;32mreturn\u001b[0m \u001b[0mresult\u001b[0m\u001b[1;33m\u001b[0m\u001b[0m\n\u001b[0;32m   2106\u001b[0m \u001b[1;33m\u001b[0m\u001b[0m\n",
        "\u001b[1;32m/home/wd15/git/ipython/IPython/core/magics/execution.pyc\u001b[0m in \u001b[0;36mtimeit\u001b[1;34m(self, line, cell)\u001b[0m\n",
        "\u001b[1;32m/home/wd15/git/ipython/IPython/core/magic.pyc\u001b[0m in \u001b[0;36m<lambda>\u001b[1;34m(f, *a, **k)\u001b[0m\n\u001b[0;32m    189\u001b[0m     \u001b[1;31m# but it's overkill for just that one bit of state.\u001b[0m\u001b[1;33m\u001b[0m\u001b[1;33m\u001b[0m\u001b[0m\n\u001b[0;32m    190\u001b[0m     \u001b[1;32mdef\u001b[0m \u001b[0mmagic_deco\u001b[0m\u001b[1;33m(\u001b[0m\u001b[0marg\u001b[0m\u001b[1;33m)\u001b[0m\u001b[1;33m:\u001b[0m\u001b[1;33m\u001b[0m\u001b[0m\n\u001b[1;32m--> 191\u001b[1;33m         \u001b[0mcall\u001b[0m \u001b[1;33m=\u001b[0m \u001b[1;32mlambda\u001b[0m \u001b[0mf\u001b[0m\u001b[1;33m,\u001b[0m \u001b[1;33m*\u001b[0m\u001b[0ma\u001b[0m\u001b[1;33m,\u001b[0m \u001b[1;33m**\u001b[0m\u001b[0mk\u001b[0m\u001b[1;33m:\u001b[0m \u001b[0mf\u001b[0m\u001b[1;33m(\u001b[0m\u001b[1;33m*\u001b[0m\u001b[0ma\u001b[0m\u001b[1;33m,\u001b[0m \u001b[1;33m**\u001b[0m\u001b[0mk\u001b[0m\u001b[1;33m)\u001b[0m\u001b[1;33m\u001b[0m\u001b[0m\n\u001b[0m\u001b[0;32m    192\u001b[0m \u001b[1;33m\u001b[0m\u001b[0m\n\u001b[0;32m    193\u001b[0m         \u001b[1;32mif\u001b[0m \u001b[0mcallable\u001b[0m\u001b[1;33m(\u001b[0m\u001b[0marg\u001b[0m\u001b[1;33m)\u001b[0m\u001b[1;33m:\u001b[0m\u001b[1;33m\u001b[0m\u001b[0m\n",
        "\u001b[1;32m/home/wd15/git/ipython/IPython/core/magics/execution.pyc\u001b[0m in \u001b[0;36mtimeit\u001b[1;34m(self, line, cell)\u001b[0m\n\u001b[0;32m    984\u001b[0m             \u001b[0mnumber\u001b[0m \u001b[1;33m=\u001b[0m \u001b[1;36m1\u001b[0m\u001b[1;33m\u001b[0m\u001b[0m\n\u001b[0;32m    985\u001b[0m             \u001b[1;32mfor\u001b[0m \u001b[0m_\u001b[0m \u001b[1;32min\u001b[0m \u001b[0mrange\u001b[0m\u001b[1;33m(\u001b[0m\u001b[1;36m1\u001b[0m\u001b[1;33m,\u001b[0m \u001b[1;36m10\u001b[0m\u001b[1;33m)\u001b[0m\u001b[1;33m:\u001b[0m\u001b[1;33m\u001b[0m\u001b[0m\n\u001b[1;32m--> 986\u001b[1;33m                 \u001b[1;32mif\u001b[0m \u001b[0mtimer\u001b[0m\u001b[1;33m.\u001b[0m\u001b[0mtimeit\u001b[0m\u001b[1;33m(\u001b[0m\u001b[0mnumber\u001b[0m\u001b[1;33m)\u001b[0m \u001b[1;33m>=\u001b[0m \u001b[1;36m0.2\u001b[0m\u001b[1;33m:\u001b[0m\u001b[1;33m\u001b[0m\u001b[0m\n\u001b[0m\u001b[0;32m    987\u001b[0m                     \u001b[1;32mbreak\u001b[0m\u001b[1;33m\u001b[0m\u001b[0m\n\u001b[0;32m    988\u001b[0m                 \u001b[0mnumber\u001b[0m \u001b[1;33m*=\u001b[0m \u001b[1;36m10\u001b[0m\u001b[1;33m\u001b[0m\u001b[0m\n",
        "\u001b[1;32m/usr/lib/python2.7/timeit.pyc\u001b[0m in \u001b[0;36mtimeit\u001b[1;34m(self, number)\u001b[0m\n\u001b[0;32m    193\u001b[0m         \u001b[0mgc\u001b[0m\u001b[1;33m.\u001b[0m\u001b[0mdisable\u001b[0m\u001b[1;33m(\u001b[0m\u001b[1;33m)\u001b[0m\u001b[1;33m\u001b[0m\u001b[0m\n\u001b[0;32m    194\u001b[0m         \u001b[1;32mtry\u001b[0m\u001b[1;33m:\u001b[0m\u001b[1;33m\u001b[0m\u001b[0m\n\u001b[1;32m--> 195\u001b[1;33m             \u001b[0mtiming\u001b[0m \u001b[1;33m=\u001b[0m \u001b[0mself\u001b[0m\u001b[1;33m.\u001b[0m\u001b[0minner\u001b[0m\u001b[1;33m(\u001b[0m\u001b[0mit\u001b[0m\u001b[1;33m,\u001b[0m \u001b[0mself\u001b[0m\u001b[1;33m.\u001b[0m\u001b[0mtimer\u001b[0m\u001b[1;33m)\u001b[0m\u001b[1;33m\u001b[0m\u001b[0m\n\u001b[0m\u001b[0;32m    196\u001b[0m         \u001b[1;32mfinally\u001b[0m\u001b[1;33m:\u001b[0m\u001b[1;33m\u001b[0m\u001b[0m\n\u001b[0;32m    197\u001b[0m             \u001b[1;32mif\u001b[0m \u001b[0mgcold\u001b[0m\u001b[1;33m:\u001b[0m\u001b[1;33m\u001b[0m\u001b[0m\n",
        "\u001b[1;32m<magic-timeit>\u001b[0m in \u001b[0;36minner\u001b[1;34m(_it, _timer)\u001b[0m\n",
        "\u001b[1;31mKeyboardInterrupt\u001b[0m: "
       ]
      },
      {
       "output_type": "stream",
       "stream": "stdout",
       "text": [
        " 4\n"
       ]
      }
     ],
     "prompt_number": 68
    },
    {
     "cell_type": "markdown",
     "metadata": {},
     "source": [
      "## Exercise 06-01\n",
      "\n",
      "Identify the bottle necks in the `MKSRegressionModel` using the `line_profiler` and improve things with Numexpr and PyFFTW. Plot the relative speed up versus `Nbin`.\n",
      "\n",
      " - start by subclassing `MKSRegressionModel` and then speed up the `predict` method"
     ]
    },
    {
     "cell_type": "code",
     "collapsed": false,
     "input": [],
     "language": "python",
     "metadata": {},
     "outputs": []
    },
    {
     "cell_type": "code",
     "collapsed": false,
     "input": [],
     "language": "python",
     "metadata": {},
     "outputs": []
    },
    {
     "cell_type": "code",
     "collapsed": false,
     "input": [],
     "language": "python",
     "metadata": {},
     "outputs": []
    },
    {
     "cell_type": "code",
     "collapsed": false,
     "input": [],
     "language": "python",
     "metadata": {},
     "outputs": []
    },
    {
     "cell_type": "code",
     "collapsed": false,
     "input": [],
     "language": "python",
     "metadata": {},
     "outputs": []
    },
    {
     "cell_type": "code",
     "collapsed": false,
     "input": [],
     "language": "python",
     "metadata": {},
     "outputs": []
    },
    {
     "cell_type": "code",
     "collapsed": false,
     "input": [],
     "language": "python",
     "metadata": {},
     "outputs": []
    },
    {
     "cell_type": "code",
     "collapsed": false,
     "input": [],
     "language": "python",
     "metadata": {},
     "outputs": []
    },
    {
     "cell_type": "code",
     "collapsed": false,
     "input": [],
     "language": "python",
     "metadata": {},
     "outputs": []
    },
    {
     "cell_type": "code",
     "collapsed": false,
     "input": [],
     "language": "python",
     "metadata": {},
     "outputs": []
    },
    {
     "cell_type": "markdown",
     "metadata": {},
     "source": [
      "## `FastMKSRegressionModel`\n",
      "\n",
      "Using Numexpr and PyFFTW, we can make improvements to the `MKSRegressionModel`. The `FastMKSRegressionModel` overwrites a number of methods in `MKSRegressionModel`. `FastMKSRegressionModel` only improves the `predict` method, not the `fit` method."
     ]
    },
    {
     "cell_type": "markdown",
     "metadata": {},
     "source": [
      "and it can be tested"
     ]
    },
    {
     "cell_type": "code",
     "collapsed": false,
     "input": [],
     "language": "python",
     "metadata": {},
     "outputs": []
    },
    {
     "cell_type": "markdown",
     "metadata": {},
     "source": [
      "Let's compare the two classes."
     ]
    },
    {
     "cell_type": "code",
     "collapsed": false,
     "input": [
      "np.random.seed(11)\n",
      "X0 = np.random.random((1, 1024, 1024))\n",
      "\n",
      "fast_model = FastMKSRegressionModel(Nbin=5, threads=8)\n",
      "slow_model = MKSRegressionModel(Nbin=5)\n",
      "\n",
      "fast_model.fit(X, y)\n",
      "fast_model.resize_coeff(X0.shape[1:])\n",
      "y_fast = fast_model.predict(X0.copy())\n",
      "\n",
      "slow_model.fit(X, y)\n",
      "slow_model.resize_coeff(X0.shape[1:])\n",
      "y_slow = fast_model.predict(X0.copy())\n",
      "\n",
      "print np.allclose(y_fast, y_slow)"
     ],
     "language": "python",
     "metadata": {},
     "outputs": []
    },
    {
     "cell_type": "markdown",
     "metadata": {},
     "source": [
      "They give the same result, but what about efficiency gains."
     ]
    },
    {
     "cell_type": "code",
     "collapsed": false,
     "input": [
      "%timeit slow_model.predict(X0.copy())"
     ],
     "language": "python",
     "metadata": {},
     "outputs": []
    },
    {
     "cell_type": "code",
     "collapsed": false,
     "input": [
      "%timeit fast_model.predict(X0.copy())"
     ],
     "language": "python",
     "metadata": {},
     "outputs": []
    },
    {
     "cell_type": "markdown",
     "metadata": {},
     "source": [
      "This is better for small `Nbin` at the moment. Plot of speed up versus `Nbin`."
     ]
    },
    {
     "cell_type": "markdown",
     "metadata": {},
     "source": [
      "## Comparing MKS and FiPy"
     ]
    },
    {
     "cell_type": "code",
     "collapsed": false,
     "input": [
      "from IPython.display import clear_output\n",
      "import time\n",
      "from pymks import FiPyCHModel\n",
      "N = 41\n",
      "np.random.seed(13)\n",
      "phi0 = np.random.random((1, N, N))\n",
      "\n",
      "model = FastMKSRegressionModel(Nbin=5)\n",
      "model.fit(X, y)\n",
      "model.resize_coeff((N, N))\n",
      "\n",
      "fig = plt.figure()\n",
      "\n",
      "fipymodel = FiPyCHModel()\n",
      "fipy_phi1 = phi0.copy()\n",
      "mks_phi1 = phi0.copy()\n",
      "steps = 30\n",
      "dt=1e-8\n",
      "for i in range(steps):\n",
      "    fipy_response = fipymodel.predict(fipy_phi1)\n",
      "    mks_response = model.predict(mks_phi1)\n",
      "    #Euler forward\n",
      "    fipy_phi1 = fipy_response * dt + fipy_phi1\n",
      "    mks_phi1 = mks_response * dt + mks_phi1\n",
      "    mks_phi1 = np.minimum(mks_phi1, 1)\n",
      "    mks_phi1 = np.maximum(mks_phi1, 0)\n",
      "    #print phi0\n",
      "    plt.subplot(1,2,1)\n",
      "    plt.title('FiPy')\n",
      "    a = plt.imshow(fipy_phi1.reshape((N, N)), vmin=0.0, vmax=1.0)\n",
      "    plt.subplot(1,2,2)\n",
      "    plt.title('MKS')\n",
      "    b = plt.imshow(mks_phi1.reshape((N, N)), vmin=0.0, vmax=1.0)\n",
      "    time.sleep(1)\n",
      "    clear_output()\n",
      "    display(fig)\n",
      "    print i"
     ],
     "language": "python",
     "metadata": {},
     "outputs": [
      {
       "metadata": {},
       "output_type": "display_data",
       "png": "[encoded data removed]",
       "text": [
        "<matplotlib.figure.Figure at 0x5897390>"
       ]
      },
      {
       "ename": "KeyboardInterrupt",
       "evalue": "",
       "output_type": "pyerr",
       "traceback": [
        "\u001b[1;31m---------------------------------------------------------------------------\u001b[0m\n\u001b[1;31mKeyboardInterrupt\u001b[0m                         Traceback (most recent call last)",
        "\u001b[1;32m<ipython-input-70-a62898ae6a1c>\u001b[0m in \u001b[0;36m<module>\u001b[1;34m()\u001b[0m\n\u001b[0;32m     18\u001b[0m \u001b[0mdt\u001b[0m\u001b[1;33m=\u001b[0m\u001b[1;36m1e-8\u001b[0m\u001b[1;33m\u001b[0m\u001b[0m\n\u001b[0;32m     19\u001b[0m \u001b[1;32mfor\u001b[0m \u001b[0mi\u001b[0m \u001b[1;32min\u001b[0m \u001b[0mrange\u001b[0m\u001b[1;33m(\u001b[0m\u001b[0msteps\u001b[0m\u001b[1;33m)\u001b[0m\u001b[1;33m:\u001b[0m\u001b[1;33m\u001b[0m\u001b[0m\n\u001b[1;32m---> 20\u001b[1;33m     \u001b[0mfipy_response\u001b[0m \u001b[1;33m=\u001b[0m \u001b[0mfipymodel\u001b[0m\u001b[1;33m.\u001b[0m\u001b[0mpredict\u001b[0m\u001b[1;33m(\u001b[0m\u001b[0mfipy_phi1\u001b[0m\u001b[1;33m)\u001b[0m\u001b[1;33m\u001b[0m\u001b[0m\n\u001b[0m\u001b[0;32m     21\u001b[0m     \u001b[0mmks_response\u001b[0m \u001b[1;33m=\u001b[0m \u001b[0mmodel\u001b[0m\u001b[1;33m.\u001b[0m\u001b[0mpredict\u001b[0m\u001b[1;33m(\u001b[0m\u001b[0mmks_phi1\u001b[0m\u001b[1;33m)\u001b[0m\u001b[1;33m\u001b[0m\u001b[0m\n\u001b[0;32m     22\u001b[0m     \u001b[1;31m#Euler forward\u001b[0m\u001b[1;33m\u001b[0m\u001b[1;33m\u001b[0m\u001b[0m\n",
        "\u001b[1;32m/home/wd15/git/pymks/pymks/fipyCHModel.pyc\u001b[0m in \u001b[0;36mpredict\u001b[1;34m(self, X)\u001b[0m\n\u001b[0;32m     31\u001b[0m             \u001b[0mphi\u001b[0m\u001b[1;33m[\u001b[0m\u001b[1;33m:\u001b[0m\u001b[1;33m]\u001b[0m \u001b[1;33m=\u001b[0m \u001b[0mx\u001b[0m\u001b[1;33m.\u001b[0m\u001b[0mflatten\u001b[0m\u001b[1;33m(\u001b[0m\u001b[1;33m)\u001b[0m\u001b[1;33m\u001b[0m\u001b[0m\n\u001b[0;32m     32\u001b[0m             \u001b[0mphi\u001b[0m\u001b[1;33m.\u001b[0m\u001b[0mupdateOld\u001b[0m\u001b[1;33m(\u001b[0m\u001b[1;33m)\u001b[0m\u001b[1;33m\u001b[0m\u001b[0m\n\u001b[1;32m---> 33\u001b[1;33m             \u001b[0mself\u001b[0m\u001b[1;33m.\u001b[0m\u001b[0m_solve\u001b[0m\u001b[1;33m(\u001b[0m\u001b[0meq\u001b[0m\u001b[1;33m,\u001b[0m \u001b[0mphi\u001b[0m\u001b[1;33m,\u001b[0m \u001b[0mLinearLUSolver\u001b[0m\u001b[1;33m(\u001b[0m\u001b[1;33m)\u001b[0m\u001b[1;33m,\u001b[0m \u001b[0mself\u001b[0m\u001b[1;33m.\u001b[0m\u001b[0mdt\u001b[0m\u001b[1;33m)\u001b[0m\u001b[1;33m\u001b[0m\u001b[0m\n\u001b[0m\u001b[0;32m     34\u001b[0m             \u001b[1;31m#            eq.solve(phi, dt=self.dt, solver=LinearLUSolver())\u001b[0m\u001b[1;33m\u001b[0m\u001b[1;33m\u001b[0m\u001b[0m\n\u001b[0;32m     35\u001b[0m             \u001b[0mphi_ij\u001b[0m \u001b[1;33m=\u001b[0m \u001b[0mnp\u001b[0m\u001b[1;33m.\u001b[0m\u001b[0marray\u001b[0m\u001b[1;33m(\u001b[0m\u001b[0mphi\u001b[0m\u001b[1;33m)\u001b[0m\u001b[1;33m.\u001b[0m\u001b[0mreshape\u001b[0m\u001b[1;33m(\u001b[0m\u001b[1;33m(\u001b[0m\u001b[0mnx\u001b[0m\u001b[1;33m,\u001b[0m \u001b[0mny\u001b[0m\u001b[1;33m)\u001b[0m\u001b[1;33m)\u001b[0m\u001b[1;33m\u001b[0m\u001b[0m\n",
        "\u001b[1;32m/home/wd15/git/pymks/pymks/fipyCHModel.pyc\u001b[0m in \u001b[0;36m_solve\u001b[1;34m(self, eq, phi, solver, dt)\u001b[0m\n\u001b[0;32m     42\u001b[0m \u001b[1;33m\u001b[0m\u001b[0m\n\u001b[0;32m     43\u001b[0m         \u001b[1;32mfor\u001b[0m \u001b[0msweep\u001b[0m \u001b[1;32min\u001b[0m \u001b[0mrange\u001b[0m\u001b[1;33m(\u001b[0m\u001b[1;36m5\u001b[0m\u001b[1;33m)\u001b[0m\u001b[1;33m:\u001b[0m\u001b[1;33m\u001b[0m\u001b[0m\n\u001b[1;32m---> 44\u001b[1;33m             \u001b[0mres\u001b[0m \u001b[1;33m=\u001b[0m \u001b[0meq\u001b[0m\u001b[1;33m.\u001b[0m\u001b[0msweep\u001b[0m\u001b[1;33m(\u001b[0m\u001b[0mphi\u001b[0m\u001b[1;33m,\u001b[0m \u001b[0mdt\u001b[0m\u001b[1;33m=\u001b[0m\u001b[0mdt\u001b[0m\u001b[1;33m,\u001b[0m \u001b[0msolver\u001b[0m\u001b[1;33m=\u001b[0m\u001b[0mLinearLUSolver\u001b[0m\u001b[1;33m(\u001b[0m\u001b[1;33m)\u001b[0m\u001b[1;33m)\u001b[0m\u001b[1;33m\u001b[0m\u001b[0m\n\u001b[0m\u001b[0;32m     45\u001b[0m             \u001b[1;31m#    print 'res',res\u001b[0m\u001b[1;33m\u001b[0m\u001b[1;33m\u001b[0m\u001b[0m\n\u001b[0;32m     46\u001b[0m \u001b[1;33m\u001b[0m\u001b[0m\n",
        "\u001b[1;32m/home/wd15/git/fipy/fipy/terms/term.pyc\u001b[0m in \u001b[0;36msweep\u001b[1;34m(self, var, solver, boundaryConditions, dt, underRelaxation, residualFn, cacheResidual, cacheError)\u001b[0m\n\u001b[0;32m    234\u001b[0m \u001b[1;33m\u001b[0m\u001b[0m\n\u001b[0;32m    235\u001b[0m         \"\"\"\n\u001b[1;32m--> 236\u001b[1;33m         \u001b[0msolver\u001b[0m \u001b[1;33m=\u001b[0m \u001b[0mself\u001b[0m\u001b[1;33m.\u001b[0m\u001b[0m_prepareLinearSystem\u001b[0m\u001b[1;33m(\u001b[0m\u001b[0mvar\u001b[0m\u001b[1;33m=\u001b[0m\u001b[0mvar\u001b[0m\u001b[1;33m,\u001b[0m \u001b[0msolver\u001b[0m\u001b[1;33m=\u001b[0m\u001b[0msolver\u001b[0m\u001b[1;33m,\u001b[0m \u001b[0mboundaryConditions\u001b[0m\u001b[1;33m=\u001b[0m\u001b[0mboundaryConditions\u001b[0m\u001b[1;33m,\u001b[0m \u001b[0mdt\u001b[0m\u001b[1;33m=\u001b[0m\u001b[0mdt\u001b[0m\u001b[1;33m)\u001b[0m\u001b[1;33m\u001b[0m\u001b[0m\n\u001b[0m\u001b[0;32m    237\u001b[0m         \u001b[0msolver\u001b[0m\u001b[1;33m.\u001b[0m\u001b[0m_applyUnderRelaxation\u001b[0m\u001b[1;33m(\u001b[0m\u001b[0munderRelaxation\u001b[0m\u001b[1;33m=\u001b[0m\u001b[0munderRelaxation\u001b[0m\u001b[1;33m)\u001b[0m\u001b[1;33m\u001b[0m\u001b[0m\n\u001b[0;32m    238\u001b[0m         \u001b[0mresidual\u001b[0m \u001b[1;33m=\u001b[0m \u001b[0msolver\u001b[0m\u001b[1;33m.\u001b[0m\u001b[0m_calcResidual\u001b[0m\u001b[1;33m(\u001b[0m\u001b[0mresidualFn\u001b[0m\u001b[1;33m=\u001b[0m\u001b[0mresidualFn\u001b[0m\u001b[1;33m)\u001b[0m\u001b[1;33m\u001b[0m\u001b[0m\n",
        "\u001b[1;32m/home/wd15/git/fipy/fipy/terms/term.pyc\u001b[0m in \u001b[0;36m_prepareLinearSystem\u001b[1;34m(self, var, solver, boundaryConditions, dt)\u001b[0m\n\u001b[0;32m    166\u001b[0m                                                            \u001b[0mboundaryConditions\u001b[0m\u001b[1;33m=\u001b[0m\u001b[0mboundaryConditions\u001b[0m\u001b[1;33m,\u001b[0m\u001b[1;33m\u001b[0m\u001b[0m\n\u001b[0;32m    167\u001b[0m                                                            \u001b[0mdt\u001b[0m\u001b[1;33m=\u001b[0m\u001b[0mdt\u001b[0m\u001b[1;33m,\u001b[0m\u001b[1;33m\u001b[0m\u001b[0m\n\u001b[1;32m--> 168\u001b[1;33m                                                            \u001b[0mtransientGeomCoeff\u001b[0m\u001b[1;33m=\u001b[0m\u001b[0mself\u001b[0m\u001b[1;33m.\u001b[0m\u001b[0m_getTransientGeomCoeff\u001b[0m\u001b[1;33m(\u001b[0m\u001b[0mvar\u001b[0m\u001b[1;33m)\u001b[0m\u001b[1;33m,\u001b[0m\u001b[1;33m\u001b[0m\u001b[0m\n\u001b[0m\u001b[0;32m    169\u001b[0m                                                            \u001b[0mdiffusionGeomCoeff\u001b[0m\u001b[1;33m=\u001b[0m\u001b[0mself\u001b[0m\u001b[1;33m.\u001b[0m\u001b[0m_getDiffusionGeomCoeff\u001b[0m\u001b[1;33m(\u001b[0m\u001b[0mvar\u001b[0m\u001b[1;33m)\u001b[0m\u001b[1;33m,\u001b[0m\u001b[1;33m\u001b[0m\u001b[0m\n\u001b[0;32m    170\u001b[0m                                                            buildExplicitIfOther=self._buildExplcitIfOther)\n",
        "\u001b[1;32m/home/wd15/git/fipy/fipy/terms/binaryTerm.pyc\u001b[0m in \u001b[0;36m_getTransientGeomCoeff\u001b[1;34m(self, var)\u001b[0m\n\u001b[0;32m     94\u001b[0m \u001b[1;33m\u001b[0m\u001b[0m\n\u001b[0;32m     95\u001b[0m     \u001b[1;32mdef\u001b[0m \u001b[0m_getTransientGeomCoeff\u001b[0m\u001b[1;33m(\u001b[0m\u001b[0mself\u001b[0m\u001b[1;33m,\u001b[0m \u001b[0mvar\u001b[0m\u001b[1;33m)\u001b[0m\u001b[1;33m:\u001b[0m\u001b[1;33m\u001b[0m\u001b[0m\n\u001b[1;32m---> 96\u001b[1;33m         \u001b[1;32mreturn\u001b[0m \u001b[0mself\u001b[0m\u001b[1;33m.\u001b[0m\u001b[0m_addNone\u001b[0m\u001b[1;33m(\u001b[0m\u001b[0mself\u001b[0m\u001b[1;33m.\u001b[0m\u001b[0mterm\u001b[0m\u001b[1;33m.\u001b[0m\u001b[0m_getTransientGeomCoeff\u001b[0m\u001b[1;33m(\u001b[0m\u001b[0mvar\u001b[0m\u001b[1;33m)\u001b[0m\u001b[1;33m,\u001b[0m \u001b[0mself\u001b[0m\u001b[1;33m.\u001b[0m\u001b[0mother\u001b[0m\u001b[1;33m.\u001b[0m\u001b[0m_getTransientGeomCoeff\u001b[0m\u001b[1;33m(\u001b[0m\u001b[0mvar\u001b[0m\u001b[1;33m)\u001b[0m\u001b[1;33m)\u001b[0m\u001b[1;33m\u001b[0m\u001b[0m\n\u001b[0m\u001b[0;32m     97\u001b[0m \u001b[1;33m\u001b[0m\u001b[0m\n\u001b[0;32m     98\u001b[0m     \u001b[1;32mdef\u001b[0m \u001b[0m_getDiffusionGeomCoeff\u001b[0m\u001b[1;33m(\u001b[0m\u001b[0mself\u001b[0m\u001b[1;33m,\u001b[0m \u001b[0mvar\u001b[0m\u001b[1;33m)\u001b[0m\u001b[1;33m:\u001b[0m\u001b[1;33m\u001b[0m\u001b[0m\n",
        "\u001b[1;32m/home/wd15/git/fipy/fipy/terms/transientTerm.pyc\u001b[0m in \u001b[0;36m_getTransientGeomCoeff\u001b[1;34m(self, var)\u001b[0m\n\u001b[0;32m    144\u001b[0m         \"\"\"\n\u001b[0;32m    145\u001b[0m         \u001b[1;32mif\u001b[0m \u001b[0mvar\u001b[0m \u001b[1;32mis\u001b[0m \u001b[0mself\u001b[0m\u001b[1;33m.\u001b[0m\u001b[0mvar\u001b[0m \u001b[1;32mor\u001b[0m \u001b[0mself\u001b[0m\u001b[1;33m.\u001b[0m\u001b[0mvar\u001b[0m \u001b[1;32mis\u001b[0m \u001b[0mNone\u001b[0m\u001b[1;33m:\u001b[0m\u001b[1;33m\u001b[0m\u001b[0m\n\u001b[1;32m--> 146\u001b[1;33m             \u001b[1;32mreturn\u001b[0m \u001b[0mself\u001b[0m\u001b[1;33m.\u001b[0m\u001b[0m_getGeomCoeff\u001b[0m\u001b[1;33m(\u001b[0m\u001b[0mvar\u001b[0m\u001b[1;33m)\u001b[0m\u001b[1;33m\u001b[0m\u001b[0m\n\u001b[0m\u001b[0;32m    147\u001b[0m         \u001b[1;32melse\u001b[0m\u001b[1;33m:\u001b[0m\u001b[1;33m\u001b[0m\u001b[0m\n\u001b[0;32m    148\u001b[0m             \u001b[1;32mreturn\u001b[0m \u001b[0mNone\u001b[0m\u001b[1;33m\u001b[0m\u001b[0m\n",
        "\u001b[1;32m/home/wd15/git/fipy/fipy/terms/term.pyc\u001b[0m in \u001b[0;36m_getGeomCoeff\u001b[1;34m(self, var)\u001b[0m\n\u001b[0;32m    463\u001b[0m     \u001b[1;32mdef\u001b[0m \u001b[0m_getGeomCoeff\u001b[0m\u001b[1;33m(\u001b[0m\u001b[0mself\u001b[0m\u001b[1;33m,\u001b[0m \u001b[0mvar\u001b[0m\u001b[1;33m)\u001b[0m\u001b[1;33m:\u001b[0m\u001b[1;33m\u001b[0m\u001b[0m\n\u001b[0;32m    464\u001b[0m         \u001b[1;32mif\u001b[0m \u001b[0mself\u001b[0m\u001b[1;33m.\u001b[0m\u001b[0mgeomCoeff\u001b[0m \u001b[1;32mis\u001b[0m \u001b[0mNone\u001b[0m\u001b[1;33m:\u001b[0m\u001b[1;33m\u001b[0m\u001b[0m\n\u001b[1;32m--> 465\u001b[1;33m             \u001b[0mself\u001b[0m\u001b[1;33m.\u001b[0m\u001b[0mgeomCoeff\u001b[0m \u001b[1;33m=\u001b[0m \u001b[0mself\u001b[0m\u001b[1;33m.\u001b[0m\u001b[0m_calcGeomCoeff\u001b[0m\u001b[1;33m(\u001b[0m\u001b[0mvar\u001b[0m\u001b[1;33m)\u001b[0m\u001b[1;33m\u001b[0m\u001b[0m\n\u001b[0m\u001b[0;32m    466\u001b[0m             \u001b[1;32mif\u001b[0m \u001b[0mself\u001b[0m\u001b[1;33m.\u001b[0m\u001b[0mgeomCoeff\u001b[0m \u001b[1;32mis\u001b[0m \u001b[1;32mnot\u001b[0m \u001b[0mNone\u001b[0m\u001b[1;33m:\u001b[0m\u001b[1;33m\u001b[0m\u001b[0m\n\u001b[0;32m    467\u001b[0m                 \u001b[0mself\u001b[0m\u001b[1;33m.\u001b[0m\u001b[0mgeomCoeff\u001b[0m\u001b[1;33m.\u001b[0m\u001b[0mdontCacheMe\u001b[0m\u001b[1;33m(\u001b[0m\u001b[1;33m)\u001b[0m\u001b[1;33m\u001b[0m\u001b[0m\n",
        "\u001b[1;32m/home/wd15/git/fipy/fipy/terms/transientTerm.pyc\u001b[0m in \u001b[0;36m_calcGeomCoeff\u001b[1;34m(self, var)\u001b[0m\n\u001b[0;32m    116\u001b[0m             \u001b[1;32mreturn\u001b[0m \u001b[0mself\u001b[0m\u001b[1;33m.\u001b[0m\u001b[0mcoeff\u001b[0m\u001b[1;33m[\u001b[0m\u001b[1;33m.\u001b[0m\u001b[1;33m.\u001b[0m\u001b[1;33m.\u001b[0m\u001b[1;33m,\u001b[0m\u001b[0mnumerix\u001b[0m\u001b[1;33m.\u001b[0m\u001b[0mnewaxis\u001b[0m\u001b[1;33m]\u001b[0m \u001b[1;33m*\u001b[0m \u001b[0mnumerix\u001b[0m\u001b[1;33m.\u001b[0m\u001b[0mresize\u001b[0m\u001b[1;33m(\u001b[0m\u001b[0mvar\u001b[0m\u001b[1;33m.\u001b[0m\u001b[0mmesh\u001b[0m\u001b[1;33m.\u001b[0m\u001b[0mcellVolumes\u001b[0m\u001b[1;33m,\u001b[0m \u001b[0mvar\u001b[0m\u001b[1;33m.\u001b[0m\u001b[0mshape\u001b[0m\u001b[1;33m)\u001b[0m\u001b[1;33m\u001b[0m\u001b[0m\n\u001b[0;32m    117\u001b[0m         \u001b[1;32melse\u001b[0m\u001b[1;33m:\u001b[0m\u001b[1;33m\u001b[0m\u001b[0m\n\u001b[1;32m--> 118\u001b[1;33m             \u001b[1;32mreturn\u001b[0m \u001b[0mself\u001b[0m\u001b[1;33m.\u001b[0m\u001b[0mcoeff\u001b[0m \u001b[1;33m*\u001b[0m \u001b[0mnumerix\u001b[0m\u001b[1;33m.\u001b[0m\u001b[0mresize\u001b[0m\u001b[1;33m(\u001b[0m\u001b[0mvar\u001b[0m\u001b[1;33m.\u001b[0m\u001b[0mmesh\u001b[0m\u001b[1;33m.\u001b[0m\u001b[0mcellVolumes\u001b[0m\u001b[1;33m,\u001b[0m \u001b[0mvar\u001b[0m\u001b[1;33m.\u001b[0m\u001b[0mshape\u001b[0m\u001b[1;33m)\u001b[0m\u001b[1;33m\u001b[0m\u001b[0m\n\u001b[0m\u001b[0;32m    119\u001b[0m \u001b[1;33m\u001b[0m\u001b[0m\n\u001b[0;32m    120\u001b[0m     \u001b[1;32mdef\u001b[0m \u001b[0m_getTransientGeomCoeff\u001b[0m\u001b[1;33m(\u001b[0m\u001b[0mself\u001b[0m\u001b[1;33m,\u001b[0m \u001b[0mvar\u001b[0m\u001b[1;33m)\u001b[0m\u001b[1;33m:\u001b[0m\u001b[1;33m\u001b[0m\u001b[0m\n",
        "\u001b[1;32m/home/wd15/git/fipy/fipy/variables/variable.pyc\u001b[0m in \u001b[0;36m__mul__\u001b[1;34m(self, other)\u001b[0m\n\u001b[0;32m   1149\u001b[0m             \u001b[1;32mreturn\u001b[0m \u001b[0mother\u001b[0m \u001b[1;33m*\u001b[0m \u001b[0mself\u001b[0m\u001b[1;33m\u001b[0m\u001b[0m\n\u001b[0;32m   1150\u001b[0m         \u001b[1;32melse\u001b[0m\u001b[1;33m:\u001b[0m\u001b[1;33m\u001b[0m\u001b[0m\n\u001b[1;32m-> 1151\u001b[1;33m             \u001b[1;32mreturn\u001b[0m \u001b[0mself\u001b[0m\u001b[1;33m.\u001b[0m\u001b[0m_BinaryOperatorVariable\u001b[0m\u001b[1;33m(\u001b[0m\u001b[1;32mlambda\u001b[0m \u001b[0ma\u001b[0m\u001b[1;33m,\u001b[0m\u001b[0mb\u001b[0m\u001b[1;33m:\u001b[0m \u001b[0ma\u001b[0m\u001b[1;33m*\u001b[0m\u001b[0mb\u001b[0m\u001b[1;33m,\u001b[0m \u001b[0mother\u001b[0m\u001b[1;33m)\u001b[0m\u001b[1;33m\u001b[0m\u001b[0m\n\u001b[0m\u001b[0;32m   1152\u001b[0m \u001b[1;33m\u001b[0m\u001b[0m\n\u001b[0;32m   1153\u001b[0m     \u001b[0m__rmul__\u001b[0m \u001b[1;33m=\u001b[0m \u001b[0m__mul__\u001b[0m\u001b[1;33m\u001b[0m\u001b[0m\n",
        "\u001b[1;32m/home/wd15/git/fipy/fipy/variables/variable.pyc\u001b[0m in \u001b[0;36m_BinaryOperatorVariable\u001b[1;34m(self, op, other, operatorClass, opShape, canInline, unit)\u001b[0m\n\u001b[0;32m   1123\u001b[0m \u001b[1;33m\u001b[0m\u001b[0m\n\u001b[0;32m   1124\u001b[0m         return binOp(op=op, var=[self, other], opShape=opShape, canInline=canInline, unit=unit, \n\u001b[1;32m-> 1125\u001b[1;33m                      inlineComment=inline._operatorVariableComment(canInline=canInline))\n\u001b[0m\u001b[0;32m   1126\u001b[0m \u001b[1;33m\u001b[0m\u001b[0m\n\u001b[0;32m   1127\u001b[0m     \u001b[1;32mdef\u001b[0m \u001b[0m__add__\u001b[0m\u001b[1;33m(\u001b[0m\u001b[0mself\u001b[0m\u001b[1;33m,\u001b[0m \u001b[0mother\u001b[0m\u001b[1;33m)\u001b[0m\u001b[1;33m:\u001b[0m\u001b[1;33m\u001b[0m\u001b[0m\n",
        "\u001b[1;32m/home/wd15/git/fipy/fipy/variables/operatorVariable.pyc\u001b[0m in \u001b[0;36m__init__\u001b[1;34m(self, op, var, opShape, canInline, unit, inlineComment, *args, **kwargs)\u001b[0m\n\u001b[0;32m     52\u001b[0m             \u001b[0mself\u001b[0m\u001b[1;33m.\u001b[0m\u001b[0mname\u001b[0m \u001b[1;33m=\u001b[0m \u001b[1;34m''\u001b[0m\u001b[1;33m\u001b[0m\u001b[0m\n\u001b[0;32m     53\u001b[0m             \u001b[1;32mfor\u001b[0m \u001b[0mvar\u001b[0m \u001b[1;32min\u001b[0m \u001b[0mself\u001b[0m\u001b[1;33m.\u001b[0m\u001b[0mvar\u001b[0m\u001b[1;33m:\u001b[0m    \u001b[1;31m#C does not accept units\u001b[0m\u001b[1;33m\u001b[0m\u001b[0m\n\u001b[1;32m---> 54\u001b[1;33m                 \u001b[1;32mif\u001b[0m \u001b[1;32mnot\u001b[0m \u001b[0mvar\u001b[0m\u001b[1;33m.\u001b[0m\u001b[0munit\u001b[0m\u001b[1;33m.\u001b[0m\u001b[0misDimensionless\u001b[0m\u001b[1;33m(\u001b[0m\u001b[1;33m)\u001b[0m\u001b[1;33m:\u001b[0m\u001b[1;33m\u001b[0m\u001b[0m\n\u001b[0m\u001b[0;32m     55\u001b[0m                     \u001b[0mself\u001b[0m\u001b[1;33m.\u001b[0m\u001b[0mcanInline\u001b[0m \u001b[1;33m=\u001b[0m \u001b[0mFalse\u001b[0m\u001b[1;33m\u001b[0m\u001b[0m\n\u001b[0;32m     56\u001b[0m                     \u001b[1;32mbreak\u001b[0m\u001b[1;33m\u001b[0m\u001b[0m\n",
        "\u001b[1;32m/home/wd15/git/fipy/fipy/variables/variable.pyc\u001b[0m in \u001b[0;36m_getUnit\u001b[1;34m(self)\u001b[0m\n\u001b[0;32m    253\u001b[0m             \u001b[1;33m<\u001b[0m\u001b[0mPhysicalUnit\u001b[0m \u001b[0mm\u001b[0m\u001b[1;33m>\u001b[0m\u001b[1;33m\u001b[0m\u001b[0m\n\u001b[0;32m    254\u001b[0m         \"\"\"\n\u001b[1;32m--> 255\u001b[1;33m         \u001b[1;32mreturn\u001b[0m \u001b[0mself\u001b[0m\u001b[1;33m.\u001b[0m\u001b[0m_extractUnit\u001b[0m\u001b[1;33m(\u001b[0m\u001b[0mself\u001b[0m\u001b[1;33m.\u001b[0m\u001b[0mvalue\u001b[0m\u001b[1;33m)\u001b[0m\u001b[1;33m\u001b[0m\u001b[0m\n\u001b[0m\u001b[0;32m    256\u001b[0m \u001b[1;33m\u001b[0m\u001b[0m\n\u001b[0;32m    257\u001b[0m     \u001b[1;33m@\u001b[0m\u001b[0mgetsetDeprecated\u001b[0m\u001b[1;33m\u001b[0m\u001b[0m\n",
        "\u001b[1;32m/home/wd15/git/fipy/fipy/variables/variable.pyc\u001b[0m in \u001b[0;36m_getValue\u001b[1;34m(self)\u001b[0m\n\u001b[0;32m    545\u001b[0m             \u001b[0mvalue\u001b[0m \u001b[1;33m=\u001b[0m \u001b[0mself\u001b[0m\u001b[1;33m.\u001b[0m\u001b[0m_value\u001b[0m\u001b[1;33m\u001b[0m\u001b[0m\n\u001b[0;32m    546\u001b[0m \u001b[1;33m\u001b[0m\u001b[0m\n\u001b[1;32m--> 547\u001b[1;33m         \u001b[1;32mif\u001b[0m \u001b[0mlen\u001b[0m\u001b[1;33m(\u001b[0m\u001b[0mself\u001b[0m\u001b[1;33m.\u001b[0m\u001b[0mconstraints\u001b[0m\u001b[1;33m)\u001b[0m \u001b[1;33m>\u001b[0m \u001b[1;36m0\u001b[0m\u001b[1;33m:\u001b[0m\u001b[1;33m\u001b[0m\u001b[0m\n\u001b[0m\u001b[0;32m    548\u001b[0m             \u001b[0mvalue\u001b[0m \u001b[1;33m=\u001b[0m \u001b[0mvalue\u001b[0m\u001b[1;33m.\u001b[0m\u001b[0mcopy\u001b[0m\u001b[1;33m(\u001b[0m\u001b[1;33m)\u001b[0m\u001b[1;33m\u001b[0m\u001b[0m\n\u001b[0;32m    549\u001b[0m             \u001b[1;32mfor\u001b[0m \u001b[0mconstraint\u001b[0m \u001b[1;32min\u001b[0m \u001b[0mself\u001b[0m\u001b[1;33m.\u001b[0m\u001b[0mconstraints\u001b[0m\u001b[1;33m:\u001b[0m\u001b[1;33m\u001b[0m\u001b[0m\n",
        "\u001b[1;32m/home/wd15/git/fipy/fipy/variables/variable.pyc\u001b[0m in \u001b[0;36mconstraints\u001b[1;34m(self)\u001b[0m\n\u001b[0;32m    570\u001b[0m     \u001b[0mvalue\u001b[0m \u001b[1;33m=\u001b[0m \u001b[0mproperty\u001b[0m\u001b[1;33m(\u001b[0m\u001b[0m_getValue\u001b[0m\u001b[1;33m,\u001b[0m \u001b[0m_setValueProperty\u001b[0m\u001b[1;33m)\u001b[0m\u001b[1;33m\u001b[0m\u001b[0m\n\u001b[0;32m    571\u001b[0m \u001b[1;33m\u001b[0m\u001b[0m\n\u001b[1;32m--> 572\u001b[1;33m     \u001b[1;33m@\u001b[0m\u001b[0mproperty\u001b[0m\u001b[1;33m\u001b[0m\u001b[0m\n\u001b[0m\u001b[0;32m    573\u001b[0m     \u001b[1;32mdef\u001b[0m \u001b[0mconstraints\u001b[0m\u001b[1;33m(\u001b[0m\u001b[0mself\u001b[0m\u001b[1;33m)\u001b[0m\u001b[1;33m:\u001b[0m\u001b[1;33m\u001b[0m\u001b[0m\n\u001b[0;32m    574\u001b[0m         \u001b[1;32mif\u001b[0m \u001b[1;32mnot\u001b[0m \u001b[0mhasattr\u001b[0m\u001b[1;33m(\u001b[0m\u001b[0mself\u001b[0m\u001b[1;33m,\u001b[0m \u001b[1;34m\"_constraints\"\u001b[0m\u001b[1;33m)\u001b[0m\u001b[1;33m:\u001b[0m\u001b[1;33m\u001b[0m\u001b[0m\n",
        "\u001b[1;31mKeyboardInterrupt\u001b[0m: "
       ]
      },
      {
       "output_type": "stream",
       "stream": "stdout",
       "text": [
        "1\n"
       ]
      },
      {
       "metadata": {},
       "output_type": "display_data",
       "png": "[encoded data removed]",
       "text": [
        "<matplotlib.figure.Figure at 0x5897390>"
       ]
      }
     ],
     "prompt_number": 70
    },
    {
     "cell_type": "markdown",
     "metadata": {},
     "source": [
      "## Simulation\n",
      "\n",
      "A full simulation. The MKS has to artificially maintain the solution between 0 and 1. This hasn't been fixed yet."
     ]
    },
    {
     "cell_type": "code",
     "collapsed": false,
     "input": [
      "\n",
      "np.random.seed(11)\n",
      "X0 = np.random.random((1, 256, 256))\n",
      "dt = 1e-8\n",
      "model = FastMKSRegressionModel(Nbin=7, threads=8)\n",
      "model.fit(X, y)\n",
      "model.resize_coeff(X0.shape[1:])\n",
      "data = []\n",
      "X1 = X0.copy()\n",
      "steps = 3000\n",
      "for step in range(steps + 1):\n",
      "    y1 = model.predict(X1)\n",
      "    X1 = numexpr.evaluate('X1 + dt * y1')\n",
      "    X1 = np.minimum(X1, 1)\n",
      "    X1 = np.maximum(X1, 0)\n",
      "    if step % (steps / 200) == 0:\n",
      "        data.append(X1[0])\n",
      "        print step,"
     ],
     "language": "python",
     "metadata": {},
     "outputs": [
      {
       "output_type": "stream",
       "stream": "stdout",
       "text": [
        "0 "
       ]
      },
      {
       "output_type": "stream",
       "stream": "stdout",
       "text": [
        "15 "
       ]
      },
      {
       "output_type": "stream",
       "stream": "stdout",
       "text": [
        "30 "
       ]
      },
      {
       "output_type": "stream",
       "stream": "stdout",
       "text": [
        "45 "
       ]
      },
      {
       "output_type": "stream",
       "stream": "stdout",
       "text": [
        "60 "
       ]
      },
      {
       "output_type": "stream",
       "stream": "stdout",
       "text": [
        "75 "
       ]
      },
      {
       "output_type": "stream",
       "stream": "stdout",
       "text": [
        "90 "
       ]
      },
      {
       "output_type": "stream",
       "stream": "stdout",
       "text": [
        "105 "
       ]
      },
      {
       "output_type": "stream",
       "stream": "stdout",
       "text": [
        "120 "
       ]
      },
      {
       "output_type": "stream",
       "stream": "stdout",
       "text": [
        "135 "
       ]
      },
      {
       "output_type": "stream",
       "stream": "stdout",
       "text": [
        "150 "
       ]
      },
      {
       "output_type": "stream",
       "stream": "stdout",
       "text": [
        "165 "
       ]
      },
      {
       "output_type": "stream",
       "stream": "stdout",
       "text": [
        "180 "
       ]
      },
      {
       "output_type": "stream",
       "stream": "stdout",
       "text": [
        "195 "
       ]
      },
      {
       "output_type": "stream",
       "stream": "stdout",
       "text": [
        "210 "
       ]
      },
      {
       "output_type": "stream",
       "stream": "stdout",
       "text": [
        "225 "
       ]
      },
      {
       "output_type": "stream",
       "stream": "stdout",
       "text": [
        "240 "
       ]
      },
      {
       "output_type": "stream",
       "stream": "stdout",
       "text": [
        "255 "
       ]
      },
      {
       "output_type": "stream",
       "stream": "stdout",
       "text": [
        "270 "
       ]
      },
      {
       "output_type": "stream",
       "stream": "stdout",
       "text": [
        "285 "
       ]
      },
      {
       "output_type": "stream",
       "stream": "stdout",
       "text": [
        "300 "
       ]
      },
      {
       "output_type": "stream",
       "stream": "stdout",
       "text": [
        "315 "
       ]
      },
      {
       "output_type": "stream",
       "stream": "stdout",
       "text": [
        "330 "
       ]
      },
      {
       "output_type": "stream",
       "stream": "stdout",
       "text": [
        "345 "
       ]
      },
      {
       "output_type": "stream",
       "stream": "stdout",
       "text": [
        "360 "
       ]
      },
      {
       "output_type": "stream",
       "stream": "stdout",
       "text": [
        "375 "
       ]
      },
      {
       "output_type": "stream",
       "stream": "stdout",
       "text": [
        "390 "
       ]
      },
      {
       "output_type": "stream",
       "stream": "stdout",
       "text": [
        "405 "
       ]
      },
      {
       "output_type": "stream",
       "stream": "stdout",
       "text": [
        "420 "
       ]
      },
      {
       "output_type": "stream",
       "stream": "stdout",
       "text": [
        "435 "
       ]
      },
      {
       "output_type": "stream",
       "stream": "stdout",
       "text": [
        "450 "
       ]
      },
      {
       "output_type": "stream",
       "stream": "stdout",
       "text": [
        "465 "
       ]
      },
      {
       "output_type": "stream",
       "stream": "stdout",
       "text": [
        "480 "
       ]
      },
      {
       "output_type": "stream",
       "stream": "stdout",
       "text": [
        "495 "
       ]
      },
      {
       "output_type": "stream",
       "stream": "stdout",
       "text": [
        "510 "
       ]
      },
      {
       "output_type": "stream",
       "stream": "stdout",
       "text": [
        "525 "
       ]
      },
      {
       "output_type": "stream",
       "stream": "stdout",
       "text": [
        "540 "
       ]
      },
      {
       "output_type": "stream",
       "stream": "stdout",
       "text": [
        "555 "
       ]
      },
      {
       "output_type": "stream",
       "stream": "stdout",
       "text": [
        "570 "
       ]
      },
      {
       "output_type": "stream",
       "stream": "stdout",
       "text": [
        "585 "
       ]
      },
      {
       "output_type": "stream",
       "stream": "stdout",
       "text": [
        "600 "
       ]
      },
      {
       "output_type": "stream",
       "stream": "stdout",
       "text": [
        "615 "
       ]
      },
      {
       "output_type": "stream",
       "stream": "stdout",
       "text": [
        "630 "
       ]
      },
      {
       "output_type": "stream",
       "stream": "stdout",
       "text": [
        "645 "
       ]
      },
      {
       "output_type": "stream",
       "stream": "stdout",
       "text": [
        "660 "
       ]
      },
      {
       "output_type": "stream",
       "stream": "stdout",
       "text": [
        "675 "
       ]
      },
      {
       "output_type": "stream",
       "stream": "stdout",
       "text": [
        "690 "
       ]
      },
      {
       "output_type": "stream",
       "stream": "stdout",
       "text": [
        "705 "
       ]
      },
      {
       "output_type": "stream",
       "stream": "stdout",
       "text": [
        "720 "
       ]
      },
      {
       "output_type": "stream",
       "stream": "stdout",
       "text": [
        "735 "
       ]
      },
      {
       "output_type": "stream",
       "stream": "stdout",
       "text": [
        "750 "
       ]
      },
      {
       "output_type": "stream",
       "stream": "stdout",
       "text": [
        "765 "
       ]
      },
      {
       "output_type": "stream",
       "stream": "stdout",
       "text": [
        "780 "
       ]
      },
      {
       "output_type": "stream",
       "stream": "stdout",
       "text": [
        "795 "
       ]
      },
      {
       "output_type": "stream",
       "stream": "stdout",
       "text": [
        "810 "
       ]
      },
      {
       "output_type": "stream",
       "stream": "stdout",
       "text": [
        "825 "
       ]
      },
      {
       "output_type": "stream",
       "stream": "stdout",
       "text": [
        "840 "
       ]
      },
      {
       "output_type": "stream",
       "stream": "stdout",
       "text": [
        "855 "
       ]
      },
      {
       "output_type": "stream",
       "stream": "stdout",
       "text": [
        "870 "
       ]
      },
      {
       "output_type": "stream",
       "stream": "stdout",
       "text": [
        "885 "
       ]
      },
      {
       "output_type": "stream",
       "stream": "stdout",
       "text": [
        "900 "
       ]
      },
      {
       "output_type": "stream",
       "stream": "stdout",
       "text": [
        "915 "
       ]
      },
      {
       "output_type": "stream",
       "stream": "stdout",
       "text": [
        "930 "
       ]
      },
      {
       "output_type": "stream",
       "stream": "stdout",
       "text": [
        "945 "
       ]
      },
      {
       "output_type": "stream",
       "stream": "stdout",
       "text": [
        "960 "
       ]
      },
      {
       "output_type": "stream",
       "stream": "stdout",
       "text": [
        "975 "
       ]
      },
      {
       "output_type": "stream",
       "stream": "stdout",
       "text": [
        "990 "
       ]
      },
      {
       "output_type": "stream",
       "stream": "stdout",
       "text": [
        "1005 "
       ]
      },
      {
       "output_type": "stream",
       "stream": "stdout",
       "text": [
        "1020 "
       ]
      },
      {
       "output_type": "stream",
       "stream": "stdout",
       "text": [
        "1035 "
       ]
      },
      {
       "output_type": "stream",
       "stream": "stdout",
       "text": [
        "1050 "
       ]
      },
      {
       "output_type": "stream",
       "stream": "stdout",
       "text": [
        "1065 "
       ]
      },
      {
       "output_type": "stream",
       "stream": "stdout",
       "text": [
        "1080 "
       ]
      },
      {
       "output_type": "stream",
       "stream": "stdout",
       "text": [
        "1095 "
       ]
      },
      {
       "output_type": "stream",
       "stream": "stdout",
       "text": [
        "1110 "
       ]
      },
      {
       "output_type": "stream",
       "stream": "stdout",
       "text": [
        "1125 "
       ]
      },
      {
       "output_type": "stream",
       "stream": "stdout",
       "text": [
        "1140 "
       ]
      },
      {
       "output_type": "stream",
       "stream": "stdout",
       "text": [
        "1155 "
       ]
      },
      {
       "output_type": "stream",
       "stream": "stdout",
       "text": [
        "1170 "
       ]
      },
      {
       "output_type": "stream",
       "stream": "stdout",
       "text": [
        "1185 "
       ]
      },
      {
       "output_type": "stream",
       "stream": "stdout",
       "text": [
        "1200 "
       ]
      },
      {
       "output_type": "stream",
       "stream": "stdout",
       "text": [
        "1215 "
       ]
      },
      {
       "output_type": "stream",
       "stream": "stdout",
       "text": [
        "1230 "
       ]
      },
      {
       "output_type": "stream",
       "stream": "stdout",
       "text": [
        "1245 "
       ]
      },
      {
       "output_type": "stream",
       "stream": "stdout",
       "text": [
        "1260 "
       ]
      },
      {
       "output_type": "stream",
       "stream": "stdout",
       "text": [
        "1275 "
       ]
      },
      {
       "output_type": "stream",
       "stream": "stdout",
       "text": [
        "1290 "
       ]
      },
      {
       "output_type": "stream",
       "stream": "stdout",
       "text": [
        "1305 "
       ]
      },
      {
       "output_type": "stream",
       "stream": "stdout",
       "text": [
        "1320 "
       ]
      },
      {
       "output_type": "stream",
       "stream": "stdout",
       "text": [
        "1335 "
       ]
      },
      {
       "output_type": "stream",
       "stream": "stdout",
       "text": [
        "1350 "
       ]
      },
      {
       "output_type": "stream",
       "stream": "stdout",
       "text": [
        "1365 "
       ]
      },
      {
       "output_type": "stream",
       "stream": "stdout",
       "text": [
        "1380 "
       ]
      },
      {
       "output_type": "stream",
       "stream": "stdout",
       "text": [
        "1395 "
       ]
      },
      {
       "output_type": "stream",
       "stream": "stdout",
       "text": [
        "1410 "
       ]
      },
      {
       "output_type": "stream",
       "stream": "stdout",
       "text": [
        "1425 "
       ]
      },
      {
       "output_type": "stream",
       "stream": "stdout",
       "text": [
        "1440 "
       ]
      },
      {
       "output_type": "stream",
       "stream": "stdout",
       "text": [
        "1455 "
       ]
      },
      {
       "output_type": "stream",
       "stream": "stdout",
       "text": [
        "1470 "
       ]
      },
      {
       "output_type": "stream",
       "stream": "stdout",
       "text": [
        "1485 "
       ]
      },
      {
       "output_type": "stream",
       "stream": "stdout",
       "text": [
        "1500 "
       ]
      },
      {
       "output_type": "stream",
       "stream": "stdout",
       "text": [
        "1515 "
       ]
      },
      {
       "output_type": "stream",
       "stream": "stdout",
       "text": [
        "1530 "
       ]
      },
      {
       "output_type": "stream",
       "stream": "stdout",
       "text": [
        "1545 "
       ]
      },
      {
       "output_type": "stream",
       "stream": "stdout",
       "text": [
        "1560 "
       ]
      },
      {
       "output_type": "stream",
       "stream": "stdout",
       "text": [
        "1575 "
       ]
      },
      {
       "output_type": "stream",
       "stream": "stdout",
       "text": [
        "1590 "
       ]
      },
      {
       "output_type": "stream",
       "stream": "stdout",
       "text": [
        "1605 "
       ]
      },
      {
       "output_type": "stream",
       "stream": "stdout",
       "text": [
        "1620 "
       ]
      },
      {
       "output_type": "stream",
       "stream": "stdout",
       "text": [
        "1635 "
       ]
      },
      {
       "output_type": "stream",
       "stream": "stdout",
       "text": [
        "1650 "
       ]
      },
      {
       "output_type": "stream",
       "stream": "stdout",
       "text": [
        "1665 "
       ]
      },
      {
       "output_type": "stream",
       "stream": "stdout",
       "text": [
        "1680 "
       ]
      },
      {
       "output_type": "stream",
       "stream": "stdout",
       "text": [
        "1695 "
       ]
      },
      {
       "output_type": "stream",
       "stream": "stdout",
       "text": [
        "1710 "
       ]
      },
      {
       "output_type": "stream",
       "stream": "stdout",
       "text": [
        "1725 "
       ]
      },
      {
       "output_type": "stream",
       "stream": "stdout",
       "text": [
        "1740 "
       ]
      },
      {
       "output_type": "stream",
       "stream": "stdout",
       "text": [
        "1755 "
       ]
      },
      {
       "output_type": "stream",
       "stream": "stdout",
       "text": [
        "1770 "
       ]
      },
      {
       "output_type": "stream",
       "stream": "stdout",
       "text": [
        "1785 "
       ]
      },
      {
       "output_type": "stream",
       "stream": "stdout",
       "text": [
        "1800 "
       ]
      },
      {
       "output_type": "stream",
       "stream": "stdout",
       "text": [
        "1815 "
       ]
      },
      {
       "output_type": "stream",
       "stream": "stdout",
       "text": [
        "1830 "
       ]
      },
      {
       "output_type": "stream",
       "stream": "stdout",
       "text": [
        "1845 "
       ]
      },
      {
       "output_type": "stream",
       "stream": "stdout",
       "text": [
        "1860 "
       ]
      },
      {
       "output_type": "stream",
       "stream": "stdout",
       "text": [
        "1875 "
       ]
      },
      {
       "output_type": "stream",
       "stream": "stdout",
       "text": [
        "1890 "
       ]
      },
      {
       "output_type": "stream",
       "stream": "stdout",
       "text": [
        "1905 "
       ]
      },
      {
       "output_type": "stream",
       "stream": "stdout",
       "text": [
        "1920 "
       ]
      },
      {
       "output_type": "stream",
       "stream": "stdout",
       "text": [
        "1935 "
       ]
      },
      {
       "output_type": "stream",
       "stream": "stdout",
       "text": [
        "1950 "
       ]
      },
      {
       "output_type": "stream",
       "stream": "stdout",
       "text": [
        "1965 "
       ]
      },
      {
       "output_type": "stream",
       "stream": "stdout",
       "text": [
        "1980 "
       ]
      },
      {
       "output_type": "stream",
       "stream": "stdout",
       "text": [
        "1995 "
       ]
      },
      {
       "output_type": "stream",
       "stream": "stdout",
       "text": [
        "2010 "
       ]
      },
      {
       "output_type": "stream",
       "stream": "stdout",
       "text": [
        "2025 "
       ]
      },
      {
       "output_type": "stream",
       "stream": "stdout",
       "text": [
        "2040 "
       ]
      },
      {
       "output_type": "stream",
       "stream": "stdout",
       "text": [
        "2055 "
       ]
      },
      {
       "output_type": "stream",
       "stream": "stdout",
       "text": [
        "2070 "
       ]
      },
      {
       "output_type": "stream",
       "stream": "stdout",
       "text": [
        "2085 "
       ]
      },
      {
       "output_type": "stream",
       "stream": "stdout",
       "text": [
        "2100 "
       ]
      },
      {
       "output_type": "stream",
       "stream": "stdout",
       "text": [
        "2115 "
       ]
      },
      {
       "output_type": "stream",
       "stream": "stdout",
       "text": [
        "2130 "
       ]
      },
      {
       "output_type": "stream",
       "stream": "stdout",
       "text": [
        "2145 "
       ]
      },
      {
       "output_type": "stream",
       "stream": "stdout",
       "text": [
        "2160 "
       ]
      },
      {
       "output_type": "stream",
       "stream": "stdout",
       "text": [
        "2175 "
       ]
      },
      {
       "output_type": "stream",
       "stream": "stdout",
       "text": [
        "2190 "
       ]
      },
      {
       "output_type": "stream",
       "stream": "stdout",
       "text": [
        "2205 "
       ]
      },
      {
       "output_type": "stream",
       "stream": "stdout",
       "text": [
        "2220 "
       ]
      },
      {
       "output_type": "stream",
       "stream": "stdout",
       "text": [
        "2235 "
       ]
      },
      {
       "output_type": "stream",
       "stream": "stdout",
       "text": [
        "2250 "
       ]
      },
      {
       "output_type": "stream",
       "stream": "stdout",
       "text": [
        "2265 "
       ]
      },
      {
       "output_type": "stream",
       "stream": "stdout",
       "text": [
        "2280 "
       ]
      },
      {
       "output_type": "stream",
       "stream": "stdout",
       "text": [
        "2295 "
       ]
      },
      {
       "output_type": "stream",
       "stream": "stdout",
       "text": [
        "2310 "
       ]
      },
      {
       "output_type": "stream",
       "stream": "stdout",
       "text": [
        "2325 "
       ]
      },
      {
       "output_type": "stream",
       "stream": "stdout",
       "text": [
        "2340 "
       ]
      },
      {
       "output_type": "stream",
       "stream": "stdout",
       "text": [
        "2355 "
       ]
      },
      {
       "output_type": "stream",
       "stream": "stdout",
       "text": [
        "2370 "
       ]
      },
      {
       "output_type": "stream",
       "stream": "stdout",
       "text": [
        "2385 "
       ]
      },
      {
       "output_type": "stream",
       "stream": "stdout",
       "text": [
        "2400 "
       ]
      },
      {
       "output_type": "stream",
       "stream": "stdout",
       "text": [
        "2415 "
       ]
      },
      {
       "output_type": "stream",
       "stream": "stdout",
       "text": [
        "2430 "
       ]
      },
      {
       "output_type": "stream",
       "stream": "stdout",
       "text": [
        "2445 "
       ]
      },
      {
       "output_type": "stream",
       "stream": "stdout",
       "text": [
        "2460 "
       ]
      },
      {
       "output_type": "stream",
       "stream": "stdout",
       "text": [
        "2475 "
       ]
      },
      {
       "output_type": "stream",
       "stream": "stdout",
       "text": [
        "2490 "
       ]
      },
      {
       "output_type": "stream",
       "stream": "stdout",
       "text": [
        "2505 "
       ]
      },
      {
       "output_type": "stream",
       "stream": "stdout",
       "text": [
        "2520 "
       ]
      },
      {
       "output_type": "stream",
       "stream": "stdout",
       "text": [
        "2535 "
       ]
      },
      {
       "output_type": "stream",
       "stream": "stdout",
       "text": [
        "2550 "
       ]
      },
      {
       "output_type": "stream",
       "stream": "stdout",
       "text": [
        "2565 "
       ]
      },
      {
       "output_type": "stream",
       "stream": "stdout",
       "text": [
        "2580 "
       ]
      },
      {
       "output_type": "stream",
       "stream": "stdout",
       "text": [
        "2595 "
       ]
      },
      {
       "output_type": "stream",
       "stream": "stdout",
       "text": [
        "2610 "
       ]
      },
      {
       "output_type": "stream",
       "stream": "stdout",
       "text": [
        "2625 "
       ]
      },
      {
       "output_type": "stream",
       "stream": "stdout",
       "text": [
        "2640 "
       ]
      },
      {
       "output_type": "stream",
       "stream": "stdout",
       "text": [
        "2655 "
       ]
      },
      {
       "output_type": "stream",
       "stream": "stdout",
       "text": [
        "2670 "
       ]
      },
      {
       "output_type": "stream",
       "stream": "stdout",
       "text": [
        "2685 "
       ]
      },
      {
       "output_type": "stream",
       "stream": "stdout",
       "text": [
        "2700 "
       ]
      },
      {
       "output_type": "stream",
       "stream": "stdout",
       "text": [
        "2715 "
       ]
      },
      {
       "output_type": "stream",
       "stream": "stdout",
       "text": [
        "2730 "
       ]
      },
      {
       "output_type": "stream",
       "stream": "stdout",
       "text": [
        "2745 "
       ]
      },
      {
       "output_type": "stream",
       "stream": "stdout",
       "text": [
        "2760 "
       ]
      },
      {
       "output_type": "stream",
       "stream": "stdout",
       "text": [
        "2775 "
       ]
      },
      {
       "output_type": "stream",
       "stream": "stdout",
       "text": [
        "2790 "
       ]
      },
      {
       "output_type": "stream",
       "stream": "stdout",
       "text": [
        "2805 "
       ]
      },
      {
       "output_type": "stream",
       "stream": "stdout",
       "text": [
        "2820 "
       ]
      },
      {
       "output_type": "stream",
       "stream": "stdout",
       "text": [
        "2835 "
       ]
      },
      {
       "output_type": "stream",
       "stream": "stdout",
       "text": [
        "2850 "
       ]
      },
      {
       "output_type": "stream",
       "stream": "stdout",
       "text": [
        "2865 "
       ]
      },
      {
       "output_type": "stream",
       "stream": "stdout",
       "text": [
        "2880 "
       ]
      },
      {
       "output_type": "stream",
       "stream": "stdout",
       "text": [
        "2895 "
       ]
      },
      {
       "output_type": "stream",
       "stream": "stdout",
       "text": [
        "2910 "
       ]
      },
      {
       "output_type": "stream",
       "stream": "stdout",
       "text": [
        "2925 "
       ]
      },
      {
       "output_type": "stream",
       "stream": "stdout",
       "text": [
        "2940 "
       ]
      },
      {
       "output_type": "stream",
       "stream": "stdout",
       "text": [
        "2955 "
       ]
      },
      {
       "output_type": "stream",
       "stream": "stdout",
       "text": [
        "2970 "
       ]
      },
      {
       "output_type": "stream",
       "stream": "stdout",
       "text": [
        "2985 "
       ]
      },
      {
       "output_type": "stream",
       "stream": "stdout",
       "text": [
        "3000\n"
       ]
      }
     ],
     "prompt_number": 71
    },
    {
     "cell_type": "markdown",
     "metadata": {},
     "source": [
      "### Rudimentary Animation of the Data"
     ]
    },
    {
     "cell_type": "code",
     "collapsed": false,
     "input": [
      "from IPython.display import clear_output\n",
      "import time\n",
      "\n",
      "fig = plt.figure()\n",
      "ax = plt.axes()\n",
      "a = plt.imshow(X0[0].copy(), vmin=0.0, vmax=1.0)\n",
      "plt.colorbar()\n",
      "for d in data:\n",
      "    a.set_array(d.copy())\n",
      "    plt.show()\n",
      "    time.sleep(1)\n",
      "    clear_output()\n",
      "    display(fig)"
     ],
     "language": "python",
     "metadata": {},
     "outputs": []
    },
    {
     "cell_type": "markdown",
     "metadata": {},
     "source": [
      "### Java Script Animation of the Data"
     ]
    },
    {
     "cell_type": "code",
     "collapsed": false,
     "input": [
      "# JSAnimation import available at https://github.com/jakevdp/JSAnimation\n",
      "from JSAnimation import IPython_display\n",
      "from matplotlib import animation\n",
      "\n",
      "# create a simple animation\n",
      "fig = plt.figure()\n",
      "ax = plt.axes()\n",
      "im = plt.imshow(X0[0], vmin=0.0, vmax=1.0)\n",
      "plt.colorbar()\n",
      "\n",
      "def init():\n",
      "    im.set_array(X0[0])\n",
      "    return im\n",
      "\n",
      "def animate(i):\n",
      "    im.set_array(data[i])\n",
      "    return im\n",
      "\n",
      "anim = animation.FuncAnimation(fig, animate, init_func=init,\n",
      "                               frames=len(data), interval=1, blit=True)\n",
      "\n",
      "from IPython.display import HTML\n",
      "plt.close(anim._fig)\n",
      "HTML(IPython_display.anim_to_html(anim))"
     ],
     "language": "python",
     "metadata": {},
     "outputs": [],
     "prompt_number": 72
    }
   ],
   "metadata": {}
  }
 ]
}