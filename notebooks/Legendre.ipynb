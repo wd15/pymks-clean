{
 "metadata": {
  "name": "",
  "signature": "sha256:dd9b417cff9e0043e4ac2995682836fe7e54653cf3a3f7b15a87e10907858c5a"
 },
 "nbformat": 3,
 "nbformat_minor": 0,
 "worksheets": [
  {
   "cells": [
    {
     "cell_type": "code",
     "collapsed": false,
     "input": [
      "%matplotlib inline\n",
      "\n",
      "import numpy as np\n",
      "import matplotlib.pyplot as plt\n",
      "Lg = np.polynomial.Legendre\n",
      "lg = np.polynomial.legendre"
     ],
     "language": "python",
     "metadata": {},
     "outputs": [],
     "prompt_number": 64
    },
    {
     "cell_type": "markdown",
     "metadata": {},
     "source": [
      "We want to represent the microstructure function in terms of a series of basis functions. In this case we are going to go with the Legendre polynomials.\n",
      "\n",
      "$$ m_s(h) = \\sum_{l = 0}^\\infty c_{ls} P_l (h) $$\n",
      "\n",
      "The coefficients of this series can be found with the following equation\n",
      "\n",
      "$$  c_{ls} = (2l +1) \\int_{-1}^1 P_l (h) m_s(h) $$\n",
      "\n",
      "If in location $s$ there is only one value of concentration rather than a distribution of states the microstructure function is a delta function.\n",
      "\n",
      "$$ m_s(h) = \\delta_s(h - h0) $$\n",
      "\n",
      "Therefore\n",
      "\n",
      "$$  c_{ls} = (2l +1) \\int_{-1}^1 P_l (h) \\delta_s(h - h0) $$\n",
      "$$  c_{ls} = (2l +1)  P_l (h0) $$\n",
      "\n",
      "Let's find the first 4 coefficients for $h0 = 0.25$"
     ]
    },
    {
     "cell_type": "code",
     "collapsed": false,
     "input": [
      "n_coeffs = 4\n",
      "h0 = 0.25\n",
      "\n",
      "coeff = np.zeros(n_coeffs)\n",
      "for ii in range(n_coeffs):\n",
      "    P = Lg.basis(ii)\n",
      "    coeff[ii] = (2 * ii + 1) * P(h0)\n",
      "    \n",
      "print coeff\n",
      "    \n",
      "    \n",
      "    "
     ],
     "language": "python",
     "metadata": {},
     "outputs": [
      {
       "output_type": "stream",
       "stream": "stdout",
       "text": [
        "[ 1.          0.71846197 -2.06984366 -2.27424392]\n"
       ]
      }
     ],
     "prompt_number": 109
    },
    {
     "cell_type": "code",
     "collapsed": false,
     "input": [],
     "language": "python",
     "metadata": {},
     "outputs": []
    }
   ],
   "metadata": {}
  }
 ]
}