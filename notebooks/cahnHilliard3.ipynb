{
 "metadata": {
  "name": ""
 },
 "nbformat": 3,
 "nbformat_minor": 0,
 "worksheets": [
  {
   "cells": [
    {
     "cell_type": "markdown",
     "metadata": {},
     "source": [
      "# Scaling the Coefficients\n",
      "\n",
      "This notebook aims to scale the influence coefficients and run a large Cahn-Hilliard simulation using an MKS model. The notebook will\n",
      "\n",
      " - create some training data\n",
      " - demonstrate the `resize_coeff` method\n",
      " - examine how the mean square error changes when the coefficients are resized\n",
      " - run a large Cahn-Hilliard simulation"
     ]
    },
    {
     "cell_type": "code",
     "collapsed": false,
     "input": [
      "%matplotlib inline\n",
      "%load_ext autoreload\n",
      "%autoreload 2\n",
      "\n",
      "import numpy as np\n",
      "import matplotlib.pyplot as plt\n",
      "\n",
      "from pymks import MKSRegressionModel\n",
      "from pymks import FiPyCHModel\n",
      "from sklearn import metrics\n",
      "\n",
      "mse = metrics.mean_squared_error"
     ],
     "language": "python",
     "metadata": {},
     "outputs": [],
     "prompt_number": 1
    },
    {
     "cell_type": "markdown",
     "metadata": {},
     "source": [
      "## Create the training data on a 21$\\times$21 grid"
     ]
    },
    {
     "cell_type": "code",
     "collapsed": false,
     "input": [
      "np.random.seed(101)\n",
      "X_train = np.random.random((200, 21, 21))\n",
      "fipymodel = FiPyCHModel()\n",
      "y_train = fipymodel.predict(X_train)"
     ],
     "language": "python",
     "metadata": {},
     "outputs": [],
     "prompt_number": 2
    },
    {
     "cell_type": "markdown",
     "metadata": {},
     "source": [
      "## How to scale the coefficents?\n",
      "\n",
      "The `resized_coeff` method scales the coefficients. For example"
     ]
    },
    {
     "cell_type": "code",
     "collapsed": false,
     "input": [
      "model = MKSRegressionModel()\n",
      "coeff = np.arange(16).reshape((4, 4, 1))\n",
      "model.Fcoeff = np.fft.fftn(coeff, axes=(0, 1))\n",
      "print coeff[:,:,0]"
     ],
     "language": "python",
     "metadata": {},
     "outputs": [
      {
       "output_type": "stream",
       "stream": "stdout",
       "text": [
        "[[ 0  1  2  3]\n",
        " [ 4  5  6  7]\n",
        " [ 8  9 10 11]\n",
        " [12 13 14 15]]\n"
       ]
      }
     ],
     "prompt_number": 3
    },
    {
     "cell_type": "markdown",
     "metadata": {},
     "source": [
      "becomes"
     ]
    },
    {
     "cell_type": "code",
     "collapsed": false,
     "input": [
      "model.resize_coeff((6, 6))\n",
      "print np.fft.ifftn(model.Fcoeff, axes=(0, 1))[:, :, 0].astype(int)"
     ],
     "language": "python",
     "metadata": {},
     "outputs": [
      {
       "output_type": "stream",
       "stream": "stdout",
       "text": [
        "[[ 0  1  0  0  2  3]\n",
        " [ 4  5  0  0  6  7]\n",
        " [ 0  0  0  0  0  0]\n",
        " [ 0  0  0  0  0  0]\n",
        " [ 8  9  0  0 10 11]\n",
        " [12 13  0  0 14 15]]\n"
       ]
      },
      {
       "output_type": "stream",
       "stream": "stderr",
       "text": [
        "-c:2: ComplexWarning: Casting complex values to real discards the imaginary part\n"
       ]
      }
     ],
     "prompt_number": 4
    },
    {
     "cell_type": "markdown",
     "metadata": {},
     "source": [
      "## Exercise\n",
      "\n",
      "Without viewing the `resize_coeff` method try and take the \n",
      "\n",
      "```python\n",
      "[[ 0  1  2 3],\n",
      " [ 4  5  6 ],\n",
      " [ 8  9 10 11],\n",
      " [12 13 14 15]]\n",
      "```\n",
      "\n",
      "array and reproduce the centrally padded `(6, 6)` array without using loops. Use `np.array_split` and `np.concatenate`.\n",
      " "
     ]
    },
    {
     "cell_type": "markdown",
     "metadata": {},
     "source": [
      "The `resize_coeff` method pads the coefficients with zeros for an arbitrary dimensional array. This assumes that the coefficients become small away from the origin."
     ]
    },
    {
     "cell_type": "code",
     "collapsed": false,
     "input": [
      "??model.resize_coeff"
     ],
     "language": "python",
     "metadata": {},
     "outputs": [],
     "prompt_number": 5
    },
    {
     "cell_type": "markdown",
     "metadata": {},
     "source": [
      "## Evaluate the mean square error while varying `Nspace`"
     ]
    },
    {
     "cell_type": "code",
     "collapsed": false,
     "input": [
      "Ns = [21, 42, 84, 168]\n",
      "errors = []\n",
      "np.random.seed(102)\n",
      "\n",
      "for Nspace in Ns:\n",
      "    print Nspace,\n",
      "    X_test = np.random.random((2, Nspace, Nspace))\n",
      "    fipymodel = FiPyCHModel()\n",
      "    y_test = fipymodel.predict(X_test)\n",
      "    model = MKSRegressionModel(Nbin=5)\n",
      "    model.fit(X_train, y_train)\n",
      "    model.resize_coeff(X_test.shape[1:])\n",
      "    y_pred = model.predict(X_test)\n",
      "    errors.append(mse(y_test, y_pred))"
     ],
     "language": "python",
     "metadata": {},
     "outputs": [
      {
       "output_type": "stream",
       "stream": "stdout",
       "text": [
        "21 "
       ]
      },
      {
       "output_type": "stream",
       "stream": "stdout",
       "text": [
        "42 "
       ]
      },
      {
       "output_type": "stream",
       "stream": "stdout",
       "text": [
        "84 "
       ]
      },
      {
       "output_type": "stream",
       "stream": "stdout",
       "text": [
        "168\n"
       ]
      }
     ],
     "prompt_number": 6
    },
    {
     "cell_type": "code",
     "collapsed": false,
     "input": [
      "plt.semilogx(np.array(Ns)**2, errors)\n",
      "plt.title(r'Mean Square Error (MSE) v Domain Size ($S$)')\n",
      "plt.ylabel(r'MSE')\n",
      "a = plt.xlabel(r'$S$')"
     ],
     "language": "python",
     "metadata": {},
     "outputs": [
      {
       "metadata": {},
       "output_type": "display_data",
       "png": "[encoded data removed]",
       "text": [
        "<matplotlib.figure.Figure at 0x5174950>"
       ]
      }
     ],
     "prompt_number": 7
    },
    {
     "cell_type": "markdown",
     "metadata": {},
     "source": [
      "The MSE does not vary substantially as $N$ is scaled."
     ]
    },
    {
     "cell_type": "markdown",
     "metadata": {},
     "source": [
      "## A full Cahn-Hilliard simulation"
     ]
    },
    {
     "cell_type": "markdown",
     "metadata": {},
     "source": [
      "Fit the data again."
     ]
    },
    {
     "cell_type": "code",
     "collapsed": false,
     "input": [
      "model = MKSRegressionModel(Nbin=5)\n",
      "model.fit(X_train, y_train)"
     ],
     "language": "python",
     "metadata": {},
     "outputs": [],
     "prompt_number": 8
    },
    {
     "cell_type": "markdown",
     "metadata": {},
     "source": [
      "Create a random sample to run a simulation."
     ]
    },
    {
     "cell_type": "code",
     "collapsed": false,
     "input": [
      "np.random.seed(11)\n",
      "X0 = np.random.random((1, 256, 256))"
     ],
     "language": "python",
     "metadata": {},
     "outputs": [],
     "prompt_number": 9
    },
    {
     "cell_type": "markdown",
     "metadata": {},
     "source": [
      "Resize the coefficients to match the sample"
     ]
    },
    {
     "cell_type": "code",
     "collapsed": false,
     "input": [
      "model.resize_coeff(X0.shape[1:])"
     ],
     "language": "python",
     "metadata": {},
     "outputs": [],
     "prompt_number": 10
    },
    {
     "cell_type": "markdown",
     "metadata": {},
     "source": [
      "Run a simulation using the MKS!"
     ]
    },
    {
     "cell_type": "code",
     "collapsed": false,
     "input": [
      "X1 = X0.copy()\n",
      "data = []\n",
      "for step in range(1001):\n",
      "    y = model.predict(X1)\n",
      "    X1 = X1 + fipymodel.dt * y\n",
      "    if step % 100 == 0:\n",
      "        data.append(X1[0])\n",
      "        print step,"
     ],
     "language": "python",
     "metadata": {},
     "outputs": [
      {
       "output_type": "stream",
       "stream": "stdout",
       "text": [
        "0 "
       ]
      },
      {
       "output_type": "stream",
       "stream": "stdout",
       "text": [
        "100 "
       ]
      },
      {
       "output_type": "stream",
       "stream": "stdout",
       "text": [
        "200 "
       ]
      },
      {
       "output_type": "stream",
       "stream": "stdout",
       "text": [
        "300 "
       ]
      },
      {
       "output_type": "stream",
       "stream": "stdout",
       "text": [
        "400 "
       ]
      },
      {
       "output_type": "stream",
       "stream": "stdout",
       "text": [
        "500 "
       ]
      },
      {
       "output_type": "stream",
       "stream": "stdout",
       "text": [
        "600 "
       ]
      },
      {
       "output_type": "stream",
       "stream": "stdout",
       "text": [
        "700 "
       ]
      },
      {
       "output_type": "stream",
       "stream": "stdout",
       "text": [
        "800 "
       ]
      },
      {
       "output_type": "stream",
       "stream": "stdout",
       "text": [
        "900 "
       ]
      },
      {
       "output_type": "stream",
       "stream": "stdout",
       "text": [
        "1000\n"
       ]
      }
     ],
     "prompt_number": 12
    },
    {
     "cell_type": "markdown",
     "metadata": {},
     "source": [
      "The above is too slow. It needs to be optimized. About 10000 steps are required for a full simulation."
     ]
    },
    {
     "cell_type": "markdown",
     "metadata": {},
     "source": [
      "## Profiling in IPython"
     ]
    },
    {
     "cell_type": "markdown",
     "metadata": {},
     "source": [
      "## Profiling the `MKSRegressionClass`\n",
      "\n",
      "The `MKSRegerssionClass` is quite slow. The FFT is not even taking the majority of the time in `predict`. The next notebook will show how to speed up the `MKSRegressionClass` using Numexpr and parallel IPython."
     ]
    },
    {
     "cell_type": "code",
     "collapsed": false,
     "input": [
      "# pip install line_profiler\n",
      "%load_ext line_profiler\n",
      "\n",
      "X1 = X0.copy()\n",
      "%lprun -f model.predict model.predict(X1)"
     ],
     "language": "python",
     "metadata": {},
     "outputs": [
      {
       "output_type": "stream",
       "stream": "stdout",
       "text": [
        "\n"
       ]
      }
     ],
     "prompt_number": 13
    },
    {
     "cell_type": "code",
     "collapsed": false,
     "input": [],
     "language": "python",
     "metadata": {},
     "outputs": []
    }
   ],
   "metadata": {}
  }
 ]
}