{
 "metadata": {
  "name": ""
 },
 "nbformat": 3,
 "nbformat_minor": 0,
 "worksheets": [
  {
   "cells": [
    {
     "cell_type": "markdown",
     "metadata": {},
     "source": [
      "# Introductory Tutorial to the MKS\n",
      "\n",
      "The following notebook is an introductory tutorial describing the calculation of influence coefficients for the MKS in both real and Fourier space. In the MKS, the goal is to quickly calculate a response $p_{a,s}$ from a microstructure $m_{a,s}$ where $a$ represents different samples and $s$ represents spatial position. The first step in the MKS is to bin (or discretize) the state space, $m_{a, s}$, in terms of a new representation, $m_{a, s}^h$, given by,\n",
      "\n",
      "$$ m_{a,s} = \\sum\\limits_{h=0}^{H-1} m^h_{a, s} \\chi^h $$\n",
      "\n",
      "and\n",
      "\n",
      "$$ \\sum\\limits_{h=0}^{H-1} m^h_{a, s} = 1 $$\n",
      "\n",
      "where $\\chi^h$ is the basis representation of the state space (microstructure space). $H$ is the size of the state space discretization. Using the state space is discretized, the relationship between the response and microstructure can be written as,\n",
      "\n",
      "$$ p_{a,s} = \\sum\\limits_{h=0}^{H - 1} \\sum\\limits_{t=0}^{S-1} \\alpha_t^h m_{a,s + t}^h $$\n",
      "\n",
      "where the $p_{a,s}$ are the responses, $\\alpha_t^h$ are the influence coefficients and $m_{a,s}^h$ is the microstructure. $S$ is the size of the spatial discretization The $s$ and $t$ indices run over the spatial discretization, the $a$ index runs over the number of samples and the $h$ index runs over the microstructure discretization. The goal of the notebook is to introduce the method for calculating the $\\alpha_s^h$ by\n",
      "\n",
      " * creating a response function using the Cahn-Hilliard equation,\n",
      " \n",
      " * demonstrate Cahn-Hilliard evolution,\n",
      " \n",
      " * create some sample data,\n",
      " \n",
      " * solve MKS regression in real space for demonstration purposes,\n",
      " \n",
      " * solve MKS regression in frequency space,\n",
      " \n",
      " * test that MKS regression seems to work with a single test sample and\n",
      " \n",
      " * show that the calculated coefficients are not quite right."
     ]
    },
    {
     "cell_type": "markdown",
     "metadata": {},
     "source": [
      "## Calculating the Response"
     ]
    },
    {
     "cell_type": "markdown",
     "metadata": {},
     "source": [
      "In the MKS a sample set of microstructures and responses are required. In this example we will use the Cahn-Hilliard equation to provide the example response. [FiPy](http://www.ctcms.nist.gov/fipy/) is used to solve the governing equation, which is given by,\n",
      "\n",
      "$$ \\frac{\\partial \\phi}{\\partial t} = \\nabla \\cdot D \\nabla \\left( \\frac{\\partial f}{\\partial \\phi}   - \\epsilon^2 \\nabla^2 \\phi \\right).$$\n",
      "\n",
      "where the free energy is given by,\n",
      "\n",
      "$$ f = (a^2/2) \\phi^2 (1 - \\phi)^2 $$\n",
      "\n",
      "In this example $D = 1$ and $a = 1$. See [the FiPy CH example](http://www.ctcms.nist.gov/fipy/examples/cahnHilliard/generated/examples.cahnHilliard.mesh2DCoupled.html) for further details.\n",
      "\n",
      "The `fipy_response` function takes an initial field, $\\phi_0$ (the microstructure), and yields $\\frac{\\partial \\phi}{\\partial t}$ (the response). \n"
     ]
    },
    {
     "cell_type": "code",
     "collapsed": false,
     "input": [
      "%matplotlib inline\n",
      "%load_ext autoreload\n",
      "%autoreload 2\n",
      "\n",
      "import numpy as np\n",
      "import matplotlib.pyplot as plt\n",
      "import fipy as fp"
     ],
     "language": "python",
     "metadata": {},
     "outputs": [],
     "prompt_number": 3
    },
    {
     "cell_type": "code",
     "collapsed": false,
     "input": [
      "def fipy_response(phi0, dt, N):\n",
      "    nx = ny = N\n",
      "    mesh = fp.PeriodicGrid2D(nx=nx, ny=ny, dx=0.25, dy=0.25)\n",
      "    phi = fp.CellVariable(name=r\"$\\phi$\", mesh=mesh, value=phi0.copy())\n",
      "    PHI = phi.arithmeticFaceValue\n",
      "    D = a = epsilon = 1.\n",
      "    eq = (fp.TransientTerm()\n",
      "      == fp.DiffusionTerm(coeff=D * a**2 * (1 - 6 * PHI * (1 - PHI)))\n",
      "      - fp.DiffusionTerm(coeff=(D, epsilon**2)))\n",
      "    \n",
      "    eq.solve(phi, dt=dt, solver=fp.LinearLUSolver())\n",
      "    \n",
      "    return (np.array(phi) - phi0) / dt\n",
      "    \n"
     ],
     "language": "python",
     "metadata": {},
     "outputs": [],
     "prompt_number": 4
    },
    {
     "cell_type": "markdown",
     "metadata": {},
     "source": [
      "## Deomonstrate Cahn-Hilliard Evolution"
     ]
    },
    {
     "cell_type": "markdown",
     "metadata": {},
     "source": [
      "The following cell iterates the `fipy_response` function to demonstrate the evolution of the microstructure for an initially uniform random field. Using the `fipy_response` function is quite an inefficient method of using [FiPy](http://www.ctcms.nist.gov/fipy/), but useful for these demonstration purposes."
     ]
    },
    {
     "cell_type": "code",
     "collapsed": false,
     "input": [
      "from IPython.display import clear_output\n",
      "import time\n",
      "\n",
      "N = 10\n",
      "np.random.seed(0)\n",
      "phi0 = np.random.random(N * N)\n",
      "dt = 1e-3\n",
      "\n",
      "fig = plt.figure()\n",
      "\n",
      "for i in range(30):\n",
      "    response = fipy_response(phi0, dt=dt, N=N)\n",
      "    #Euler forward\n",
      "    phi0 = response * dt + phi0\n",
      "    #print phi0\n",
      "    plt.contourf(phi0.reshape((N,N)))\n",
      "    time.sleep(1)\n",
      "    clear_output()\n",
      "    display(fig)"
     ],
     "language": "python",
     "metadata": {},
     "outputs": [
      {
       "metadata": {},
       "output_type": "display_data",
       "png": "[encoded data removed]",
       "text": [
        "<matplotlib.figure.Figure at 0x4f0d090>"
       ]
      },
      {
       "metadata": {},
       "output_type": "display_data",
       "png": "[encoded data removed]",
       "text": [
        "<matplotlib.figure.Figure at 0x4f0d090>"
       ]
      }
     ],
     "prompt_number": 5
    },
    {
     "cell_type": "markdown",
     "metadata": {},
     "source": [
      "## Create Samples\n",
      "\n",
      "Using the `fipy_response` function, we can now create a sample set of microstructures and responses. We create `Nsample` microstrucures over a 2D space of $N \\times N$. We choose a very small system to first demonstrate the linear regression in real space."
     ]
    },
    {
     "cell_type": "code",
     "collapsed": false,
     "input": [
      "N = 10\n",
      "Nbin = 6\n",
      "Nsample = 5\n",
      "dt = 1e-3\n",
      "\n",
      "np.random.seed(1)\n",
      "microstructures = np.random.random((Nsample, N**2))\n",
      "responses = np.array([fipy_response(M, dt=dt, N=N) for M in microstructures])\n",
      "print microstructures.shape\n",
      "print responses.shape"
     ],
     "language": "python",
     "metadata": {},
     "outputs": [
      {
       "output_type": "stream",
       "stream": "stdout",
       "text": [
        "(5, 100)\n",
        "(5, 100)\n"
       ]
      }
     ],
     "prompt_number": 49
    },
    {
     "cell_type": "markdown",
     "metadata": {},
     "source": [
      "## Bin the Microstructure"
     ]
    },
    {
     "cell_type": "markdown",
     "metadata": {},
     "source": [
      "The function `bin`, discretizes the original microstructure, $m_{a,s}$, into the binned microstructure, $m_{a,s}^h$, given by\n",
      "\n",
      "  $$ m_{a, s} = \\sum\\limits_{s=0}^{S-1} m_{a, s}^h \\chi^h $$ \n",
      "  \n",
      "The `bin` function takes $m_{a,s}$ and returns $m_{a,s}^h$."
     ]
    },
    {
     "cell_type": "code",
     "collapsed": false,
     "input": [
      "def bin(M, N):\n",
      "    X = np.linspace(0, 1, N)\n",
      "    dX = X[1] - X[0]\n",
      "    return np.maximum(1 - abs(M[:,np.newaxis] - X) / dX, 0)"
     ],
     "language": "python",
     "metadata": {},
     "outputs": [],
     "prompt_number": 50
    },
    {
     "cell_type": "markdown",
     "metadata": {},
     "source": [
      "We can examine three points to see a graphical representation of $M_{a, s}$ in terms of $m_{a, s}^h$."
     ]
    },
    {
     "cell_type": "code",
     "collapsed": false,
     "input": [
      "from pymks import draw_microstructure_discretization\n",
      "for s in range(3):\n",
      "    plt.figure()\n",
      "    draw_microstructure_discretization(microstructures, a=0, s=s)"
     ],
     "language": "python",
     "metadata": {},
     "outputs": [
      {
       "metadata": {},
       "output_type": "display_data",
       "png": "[encoded data removed]",
       "text": [
        "<matplotlib.figure.Figure at 0x52d50d0>"
       ]
      },
      {
       "metadata": {},
       "output_type": "display_data",
       "png": "[encoded data removed]",
       "text": [
        "<matplotlib.figure.Figure at 0x403d950>"
       ]
      },
      {
       "metadata": {},
       "output_type": "display_data",
       "png": "[encoded data removed]",
       "text": [
        "<matplotlib.figure.Figure at 0x4976650>"
       ]
      }
     ],
     "prompt_number": 51
    },
    {
     "cell_type": "markdown",
     "metadata": {},
     "source": [
      "Run `bin` for each microstructure and rebuild the array (maybe this operation could be vectorized)."
     ]
    },
    {
     "cell_type": "code",
     "collapsed": false,
     "input": [
      "binnedMicrostructures = np.array([bin(M, Nbin) for M in microstructures])\n",
      "print binnedMicrostructures.shape"
     ],
     "language": "python",
     "metadata": {},
     "outputs": [
      {
       "output_type": "stream",
       "stream": "stdout",
       "text": [
        "(5, 100, 6)\n"
       ]
      }
     ],
     "prompt_number": 52
    },
    {
     "cell_type": "markdown",
     "metadata": {},
     "source": [
      "The new `binnedMicrostructures`, $m_{a,s}^h$, has a shape of `(Nsample, N*N, Nbin)`. To double check that the binning worked we can evaluate $\\sum\\limits_{h=0}^{H-1} m_{a, s}^h \\chi^h$ and check against the original $m_{a,s}$. The summation is over the last axis (the binning axis)."
     ]
    },
    {
     "cell_type": "code",
     "collapsed": false,
     "input": [
      "X = np.linspace(0, 1, Nbin)\n",
      "reconstructedMicrostructure = np.sum(binnedMicrostructures * X[np.newaxis, np.newaxis, :], axis=-1)\n",
      "print np.allclose(reconstructedMicrostructure, microstructures)"
     ],
     "language": "python",
     "metadata": {},
     "outputs": [
      {
       "output_type": "stream",
       "stream": "stdout",
       "text": [
        "True\n"
       ]
      }
     ],
     "prompt_number": 53
    },
    {
     "cell_type": "markdown",
     "metadata": {},
     "source": [
      "## Real space\n",
      "\n",
      "In order to understand how to compute the influence coefficients it is\n",
      "useful to see a demonstration in real space. Although we have a tensor\n",
      "representations of $m_{a, s}^h$, we need to create an intermediate\n",
      "matrix to calculate the convolution, $\\sum\\limits_{t=0}^{S-1} m_{a, s\n",
      "+ t}^h \\alpha_t^h$. This matrix representation of $m_{a, s}^h$ is\n",
      "given by the `microstructureMatrix` and has shape `(N*N*Nsample, N*N*Nbin)`. The `microstructureMatrix` is essentially a\n",
      "[circulant matrix](http://en.wikipedia.org/wiki/Circulant_matrix) that\n",
      "isn't square.\n"
     ]
    },
    {
     "cell_type": "code",
     "collapsed": false,
     "input": [
      "def rollMatrix(m, N, Nbin):\n",
      "    matrix = np.zeros((N**2, N**2 * Nbin))\n",
      "    for i in range(N**2):\n",
      "        matrix[i] = np.roll(m, -i, axis=0).swapaxes(0,1).flatten()\n",
      "    return matrix\n",
      "\n",
      "microstructureMatrix = np.concatenate([rollMatrix(m, N, Nbin) for m in binnedMicrostructures])\n",
      "\n",
      "print microstructureMatrix.shape\n"
     ],
     "language": "python",
     "metadata": {},
     "outputs": [
      {
       "output_type": "stream",
       "stream": "stdout",
       "text": [
        "(500, 600)\n"
       ]
      }
     ],
     "prompt_number": 7
    },
    {
     "cell_type": "markdown",
     "metadata": {},
     "source": [
      "To calculate the influence coefficients, $\\alpha_s^h$, we use `numpy`'s `lstsq` function."
     ]
    },
    {
     "cell_type": "code",
     "collapsed": false,
     "input": [
      "responses = responses.flatten()\n",
      "coefficients = np.linalg.lstsq(microstructureMatrix, responses)[0]\n",
      "print coefficients.shape\n"
     ],
     "language": "python",
     "metadata": {},
     "outputs": [
      {
       "output_type": "stream",
       "stream": "stdout",
       "text": [
        "(600,)\n"
       ]
      }
     ],
     "prompt_number": 8
    },
    {
     "cell_type": "markdown",
     "metadata": {},
     "source": [
      "If `Nbin > Nsample` then we can check that the influence coeffiencts exacly reproduce the `responses`. The result below should be `True` for an over-determined system."
     ]
    },
    {
     "cell_type": "code",
     "collapsed": false,
     "input": [
      "print np.allclose(np.dot(microstructureMatrix, coefficients), responses)"
     ],
     "language": "python",
     "metadata": {},
     "outputs": [
      {
       "output_type": "stream",
       "stream": "stdout",
       "text": [
        "True\n"
       ]
      }
     ],
     "prompt_number": 9
    },
    {
     "cell_type": "markdown",
     "metadata": {},
     "source": [
      "## Fourier Space"
     ]
    },
    {
     "cell_type": "markdown",
     "metadata": {},
     "source": [
      "Having calculated the coefficients for a small system in real space,\n",
      "we will now calculate a much larger system in Fourier space and\n",
      "then confirm that a sensible response is reproduced. Calculating the regression\n",
      "in Frequency space drastically reduces the\n",
      "computational cost. The size of the regression is reduced\n",
      "from $ \\left(N^2 N_{\\text{sample}} \\times N^2 H \\right)$ to\n",
      "$\\left(N_{\\text{sample}} \\times H \\right)$ for each point in\n",
      "reciprocal space $N^2$. The convolution,\n",
      "\n",
      "  $$ \\sum\\limits_{h=0}^{H-1} \\sum\\limits_{t=0}^{S-1} \\alpha_t^h m_{a,s + t}^h $$\n",
      "  \n",
      "can be deconvolved in Fourier space with,\n",
      "\n",
      "$$ \\begin{split}\n",
      "\\mathcal{F}_k \\left( \\sum\\limits_{h=0}^{H-1} \\sum\\limits_{t=0}^{S-1} \\alpha_t^h m_{a,s + t}^h \\right)\n",
      "=&  \\sum\\limits_{s=0}^{S-1} \\left[ \\sum\\limits_{h=0}^{H-1} \\sum\\limits_{t=0}^{S-1} \\alpha_t^h m_{a,s + t}^h \\right] e^{-2 \\pi i k s / S} \n",
      " \\;\\;\\; & \\text{(definition)}\n",
      " \\\\\n",
      "=&  \\sum\\limits_{h=0}^{H-1} \\left[ \\sum\\limits_{t=0}^{S-1} \\alpha_t^h \\left[ \\sum\\limits_{s=0}^{S-1} m_{a,s + t}^h e^{-2 \\pi i k s / S} \\right] \\right]\n",
      " \\;\\;\\; & \\text{(rearrange)}\n",
      " \\\\\n",
      "=&  \\sum\\limits_{h=0}^{H-1} \\left[ \\sum\\limits_{t=0}^{S-1} \\alpha_t^h \\left[ \\sum\\limits_{v=t}^{S-1+t} m_{a,v}^h e^{-2 \\pi i k \\left(v - t\\right) / S} \\right] \\right]\n",
      " \\;\\;\\; & \\text{($v=s+t$)} \n",
      " \\\\\n",
      " =&  \\sum\\limits_{h=0}^{H-1} \\left[ \\sum\\limits_{t=0}^{S-1} \\alpha_t^h e^{2 \\pi i k t / S} \\left[ \\sum\\limits_{v=t}^{S-1+t} m_{a,v}^h e^{-2 \\pi i k v / S} \\right] \\right]\n",
      " \\;\\;\\; & \\text{(rearrange)} \n",
      "  \\\\\n",
      " =&  \\sum\\limits_{h=0}^{H-1} \\left[ \\sum\\limits_{t=0}^{S-1} \\alpha_t^h e^{2 \\pi i k t / S} \\left[ \\sum\\limits_{v=0}^{S-1} m_{a,v}^h e^{-2 \\pi i k v / S} \\right] \\right]\n",
      " \\;\\;\\; & \\text{(periodicity of $m_v^h$)} \n",
      " \\\\\n",
      " =&  \\sum\\limits_{h=0}^{H-1} \\left[ \\left[ \\mathcal{F}_k \\left( \\alpha_t^h \\right) \\right]^* \\mathcal{F}_k \\left( m_{a,t}^h \\right) \\right]\n",
      " \\;\\;\\; & \\text{} \n",
      "\\end{split}$$\n",
      "  \n",
      " The above is a proof of the [circular convolution theorem](http://en.wikipedia.org/wiki/Discrete_Fourier_transform#Circular_convolution_theorem_and_cross-correlation_theorem). If we write $P_{a,k} =\n",
      " \\mathcal{F}_k \\left( p_{a, s} \\right)$, $M_{a, k}^h = \\mathcal{F}_k\n",
      " \\left( m_{a,s}^h \\right)$ and $\\beta_k^h = \\mathcal{F}_k \\left(\n",
      " \\alpha_s^h \\right)$, then we just need to solve\n",
      " \n",
      " \n",
      "   $$ P_{a,k} = \\sum\\limits_{h=0}^{h-1} \\beta_k^h M_{a, k}^h $$\n",
      "   \n",
      "with a linear regression at each discretization location in $k$ to calculate the $\\beta_k^h$.\n",
      "\n",
      "In the example below we will create a microstructure with 11 bins and\n",
      "160 samples. This is enough to give reasonable influence coefficients."
     ]
    },
    {
     "cell_type": "code",
     "collapsed": false,
     "input": [
      "N = 20\n",
      "Nbin = 11\n",
      "Nsample = 160\n",
      "dt = 1e-3\n",
      "\n",
      "np.random.seed(101)\n",
      "microstructures = np.array([np.random.random(N**2) for i in range(Nsample)])\n",
      "responses = np.array([fipy_response(m, dt=dt, N=N) for m in microstructures])\n",
      "binnedMicrostructures = np.array([bin(m, Nbin) for m in microstructures])\n",
      "print microstructures.shape\n",
      "print responses.shape"
     ],
     "language": "python",
     "metadata": {},
     "outputs": [
      {
       "output_type": "stream",
       "stream": "stdout",
       "text": [
        "(160, 400)\n",
        "(160, 400)\n"
       ]
      }
     ],
     "prompt_number": 54
    },
    {
     "cell_type": "markdown",
     "metadata": {},
     "source": [
      "We use `numpy`'s `fft2` to calculate the $P_{a,k}$ and $M^h_{k,a}$."
     ]
    },
    {
     "cell_type": "code",
     "collapsed": false,
     "input": [
      "microstructuresRS = binnedMicrostructures.reshape((Nsample, N, N, Nbin))\n",
      "responsesRS = responses.reshape((Nsample, N, N))\n",
      "Fmicrostructures = np.fft.fft2(microstructuresRS, axes=(1, 2))\n",
      "Fresponses = np.fft.fft2(responsesRS, axes=(1, 2))"
     ],
     "language": "python",
     "metadata": {},
     "outputs": [],
     "prompt_number": 55
    },
    {
     "cell_type": "code",
     "collapsed": false,
     "input": [
      "Fcoeff = np.zeros((N, N, Nbin), dtype=np.complex)"
     ],
     "language": "python",
     "metadata": {},
     "outputs": [],
     "prompt_number": 56
    },
    {
     "cell_type": "markdown",
     "metadata": {},
     "source": [
      "We calculate $\\beta_k^h$ at every point in $k$ space."
     ]
    },
    {
     "cell_type": "code",
     "collapsed": false,
     "input": [
      "for ki in range(N):\n",
      "    for kj in range(N):\n",
      "        Fcoeff[ki,kj,:] = np.linalg.lstsq(Fmicrostructures[:,ki,kj,:], Fresponses[:,ki,kj] )[0]\n",
      "        "
     ],
     "language": "python",
     "metadata": {},
     "outputs": [],
     "prompt_number": 58
    },
    {
     "cell_type": "code",
     "collapsed": false,
     "input": [
      "reconstructedResponses = np.sum(Fmicrostructures * Fcoeff[np.newaxis], axis=-1)"
     ],
     "language": "python",
     "metadata": {},
     "outputs": [],
     "prompt_number": 59
    },
    {
     "cell_type": "markdown",
     "metadata": {},
     "source": [
      "For a loose check let's see how close the reconstructed responses are to the sample responses."
     ]
    },
    {
     "cell_type": "code",
     "collapsed": false,
     "input": [
      "from sklearn import metrics\n",
      "mse = metrics.mean_squared_error\n",
      "MSE = mse(responsesRS, np.fft.ifft2(reconstructedResponses, axes=(1, 2)).real)\n",
      "print 'Mean square error: {0:1.2g}'.format(MSE)\n",
      "print 'Typical values: ',responsesRS[0,0,:10]"
     ],
     "language": "python",
     "metadata": {},
     "outputs": [
      {
       "output_type": "stream",
       "stream": "stdout",
       "text": [
        "Mean square error: 0.022\n",
        "Typical values:  [  15.82172893 -144.92305042  287.62633622  201.2608496  -146.9501561\n",
        " -228.52745705  231.62200629 -269.02573046 -130.87100213  303.71433738]\n"
       ]
      }
     ],
     "prompt_number": 69
    },
    {
     "cell_type": "markdown",
     "metadata": {},
     "source": [
      "## Test data"
     ]
    },
    {
     "cell_type": "markdown",
     "metadata": {},
     "source": [
      "In the following, we will just check that one test response is reasonably close to a response calculated with the influence coefficients. We construct a `test_microstructre` and use the `fipy_response` function to calculate `test_response`."
     ]
    },
    {
     "cell_type": "code",
     "collapsed": false,
     "input": [
      "np.random.seed(103)\n",
      "test_microstructure = np.random.random(N**2)\n",
      "test_response = fipy_response(test_microstructure, dt=dt, N=N)"
     ],
     "language": "python",
     "metadata": {},
     "outputs": [],
     "prompt_number": 74
    },
    {
     "cell_type": "code",
     "collapsed": false,
     "input": [
      "binned_test_microstructure = bin(test_microstructure, Nbin).reshape((N, N, Nbin))\n",
      "Fm = np.fft.fft2(binned_test_microstructure, axes=(0, 1))\n",
      "Fr = np.sum(Fm * Fcoeff, axis=-1)"
     ],
     "language": "python",
     "metadata": {},
     "outputs": [],
     "prompt_number": 75
    },
    {
     "cell_type": "code",
     "collapsed": false,
     "input": [
      "calc_response = np.fft.ifft2(Fr, axes=(0, 1)).real.flatten()"
     ],
     "language": "python",
     "metadata": {},
     "outputs": [],
     "prompt_number": 76
    },
    {
     "cell_type": "markdown",
     "metadata": {},
     "source": [
      "Just from observation, the numbers seem reasonable."
     ]
    },
    {
     "cell_type": "code",
     "collapsed": false,
     "input": [
      "print test_response[:20]\n",
      "print calc_response[:20]"
     ],
     "language": "python",
     "metadata": {},
     "outputs": [
      {
       "output_type": "stream",
       "stream": "stdout",
       "text": [
        "[  99.82609069  218.69289166  240.72836263 -300.34704771  -28.70462789\n",
        "   55.13753453 -291.15712124 -316.08716861   73.82821963  140.18209972\n",
        "   60.56901428 -356.84442367 -118.80630372  -79.42633125 -150.58901259\n",
        "  375.52185704   95.63453946  111.42757889   23.60362883 -286.88187751]\n",
        "[  99.60126839  218.57742259  240.6189661  -300.42603965  -28.77509428\n",
        "   55.16478508 -290.95310078 -315.98809329   73.93276536  140.15538453\n",
        "   60.46264839 -356.94139927 -118.94688351  -79.54339053 -150.68867769\n",
        "  375.56553642   95.86881562  111.54244446   23.53214884 -287.09993646]\n"
       ]
      }
     ],
     "prompt_number": 77
    },
    {
     "cell_type": "markdown",
     "metadata": {},
     "source": [
      "## Influence Coefficients in Real Space\n",
      "\n",
      "Let's view the influence coefficients in real space."
     ]
    },
    {
     "cell_type": "code",
     "collapsed": false,
     "input": [
      "coeff = np.fft.ifft2(Fcoeff, axes=(0, 1)).real\n",
      "\n",
      "plt.figure()\n",
      "plt.title(r'$\\beta_s^0$', fontsize=18)\n",
      "plt.contourf(coeff[:,:,0])\n",
      "plt.colorbar()\n",
      "plt.figure()\n",
      "plt.title(r'$\\beta_s^1$', fontsize=18)\n",
      "plt.contourf(coeff[:,:,1])\n",
      "c = plt.colorbar()"
     ],
     "language": "python",
     "metadata": {},
     "outputs": [
      {
       "metadata": {},
       "output_type": "display_data",
       "png": "[encoded data removed]",
       "text": [
        "<matplotlib.figure.Figure at 0x57c4bd0>"
       ]
      },
      {
       "metadata": {},
       "output_type": "display_data",
       "png": "[encoded data removed]",
       "text": [
        "<matplotlib.figure.Figure at 0x61d58d0>"
       ]
      }
     ],
     "prompt_number": 92
    },
    {
     "cell_type": "markdown",
     "metadata": {},
     "source": [
      "Doesn't look good. The influence coefficients should die off away from the origin.\n"
     ]
    }
   ],
   "metadata": {}
  }
 ]
}