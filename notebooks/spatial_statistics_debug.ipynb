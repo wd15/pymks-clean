{
 "metadata": {
  "name": "",
  "signature": "sha256:879ae99949ac95f84fd637b59a89638e07ad2be7decec105e4726e0f14ab6b1d"
 },
 "nbformat": 3,
 "nbformat_minor": 0,
 "worksheets": [
  {
   "cells": [
    {
     "cell_type": "markdown",
     "metadata": {},
     "source": [
      "* Call numerator inputs ``State``\n",
      "* Call denominator inputs ``Quality``"
     ]
    },
    {
     "cell_type": "code",
     "collapsed": false,
     "input": [
      "%matplotlib inline\n",
      "%load_ext autoreload\n",
      "%autoreload 2\n",
      "import numpy as np\n",
      "from skimage import io\n",
      "import matplotlib.pyplot as plt \n",
      "\n",
      "\n",
      "from pymks.stats import autocorrelate\n",
      "from pymks.stats import crosscorrelate\n",
      "from pymks import DiscreteIndicatorBasis"
     ],
     "language": "python",
     "metadata": {},
     "outputs": [],
     "prompt_number": 1
    },
    {
     "cell_type": "code",
     "collapsed": false,
     "input": [
      "X = np.array([[[0, 0, 1, 0],\n",
      "               [0, 0, 1, 0],\n",
      "               [0, 0, 1, 0],\n",
      "               [0, 0, 1, 0],\n",
      "               [0, 0, 0, 0]]])"
     ],
     "language": "python",
     "metadata": {},
     "outputs": [],
     "prompt_number": 2
    },
    {
     "cell_type": "code",
     "collapsed": false,
     "input": [
      "basis = DiscreteIndicatorBasis(n_states=2)\n",
      "X_ = basis.discretize(X)\n",
      "X_auto_p = autocorrelate(X_, periodic_axes=(0, 1))\n",
      "X_auto_np = autocorrelate(X_)\n",
      "y_auto_p = np.real_if_close(X_auto_p[..., 1])\n",
      "y_auto_np = np.real_if_close(X_auto_np[..., 1])\n",
      "#print y_auto\n",
      "#print s.spatial\n",
      "plt.figure()\n",
      "plt.title('periodic')\n",
      "plt.imshow(y_auto_p[0], interpolation='none')\n",
      "plt.figure()\n",
      "plt.title('non-periodic')\n",
      "plt.imshow(y_auto_np[0], interpolation='none')"
     ],
     "language": "python",
     "metadata": {},
     "outputs": [
      {
       "output_type": "stream",
       "stream": "stdout",
       "text": [
        "a.shape (1, 5, 4, 2)\n",
        "newshape [1 5 4 2]\n",
        "index0 [0 0 0 0]\n",
        "index1 [1 5 4 2]\n",
        "a.shape (1, 8, 7, 2)\n",
        "newshape [1 5 4 2]\n",
        "index0 [0 2 2 0]\n",
        "index1 [1 7 6 2]\n",
        "a.shape (1, 8, 7, 2)\n",
        "newshape [1 5 4 2]\n",
        "index0 [0 2 2 0]\n",
        "index1 [1 7 6 2]\n"
       ]
      },
      {
       "metadata": {},
       "output_type": "pyout",
       "prompt_number": 3,
       "text": [
        "<matplotlib.image.AxesImage at 0x7f12c4576c90>"
       ]
      },
      {
       "metadata": {},
       "output_type": "display_data",
       "png": "[encoded data removed]",
       "text": [
        "<matplotlib.figure.Figure at 0x7f12c46557d0>"
       ]
      },
      {
       "metadata": {},
       "output_type": "display_data",
       "png": "[encoded data removed]",
       "text": [
        "<matplotlib.figure.Figure at 0x7f12c4576250>"
       ]
      }
     ],
     "prompt_number": 3
    },
    {
     "cell_type": "code",
     "collapsed": false,
     "input": [
      "basis = DiscreteIndicatorBasis(n_states=2)\n",
      "X_ = basis.discretize(X)\n",
      "X_cross_p = crosscorrelate(X_, periodic_axes=(0, 1))\n",
      "X_cross_np = crosscorrelate(X_)\n",
      "y_cross_p = np.real_if_close(X_cross_p[..., 0])\n",
      "y_cross_np = np.real_if_close(X_cross_np[..., 0])\n",
      "#print y_cross\n",
      "#print s.spatial\n",
      "plt.figure()\n",
      "plt.imshow(y_cross_p[0], interpolation='none')\n",
      "plt.figure()\n",
      "plt.imshow(y_cross_np[0], interpolation='none')"
     ],
     "language": "python",
     "metadata": {},
     "outputs": [
      {
       "output_type": "stream",
       "stream": "stdout",
       "text": [
        "a.shape (1, 5, 4, 1)\n",
        "newshape [1 5 4 1]\n",
        "index0 [0 0 0 0]\n",
        "index1 [1 5 4 1]\n",
        "a.shape (1, 8, 7, 1)\n",
        "newshape [1 5 4 1]\n",
        "index0 [0 2 2 0]\n",
        "index1 [1 7 6 1]\n",
        "a.shape (1, 8, 7, 2)\n",
        "newshape [1 5 4 2]\n",
        "index0 [0 2 2 0]\n",
        "index1 [1 7 6 2]\n"
       ]
      },
      {
       "metadata": {},
       "output_type": "pyout",
       "prompt_number": 4,
       "text": [
        "<matplotlib.image.AxesImage at 0x7f12c43f9f90>"
       ]
      },
      {
       "metadata": {},
       "output_type": "display_data",
       "png": "[encoded data removed]",
       "text": [
        "<matplotlib.figure.Figure at 0x7f12c45e9390>"
       ]
      },
      {
       "metadata": {},
       "output_type": "display_data",
       "png": "[encoded data removed]",
       "text": [
        "<matplotlib.figure.Figure at 0x7f12c45e97d0>"
       ]
      }
     ],
     "prompt_number": 4
    },
    {
     "cell_type": "code",
     "collapsed": false,
     "input": [],
     "language": "python",
     "metadata": {},
     "outputs": [],
     "prompt_number": 4
    }
   ],
   "metadata": {}
  }
 ]
}