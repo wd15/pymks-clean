{
 "metadata": {
  "name": "",
  "signature": "sha256:e6af7841b8a35600d4c321c77b4fda82e7df69af8b82605db7f0900946ac73ae"
 },
 "nbformat": 3,
 "nbformat_minor": 0,
 "worksheets": [
  {
   "cells": [
    {
     "cell_type": "code",
     "collapsed": false,
     "input": [
      "%matplotlib inline\n",
      "\n",
      "import numpy as np\n",
      "import scipy as sp\n",
      "import matplotlib.pyplot as plt\n",
      "Lg = np.polynomial.Legendre\n",
      "lg = np.polynomial.legendre"
     ],
     "language": "python",
     "metadata": {},
     "outputs": [],
     "prompt_number": 1
    },
    {
     "cell_type": "markdown",
     "metadata": {},
     "source": [
      "We want to represent the microstructure function in terms of a series of basis functions. In this case we are going to go with the Legendre polynomials.\n",
      "\n",
      "$$ m_s(h) = \\sum_{l = 0}^\\infty c_{ls} P_l (h) $$\n",
      "\n",
      "The coefficients of this series can be found with the following equation\n",
      "\n",
      "$$  c_{ls} = (2l +1) \\int_{-1}^1 P_l (h) m_s(h) $$\n",
      "\n",
      "If in location $s$ there is only one value of concentration rather than a distribution of states the microstructure function is a delta function.\n",
      "\n",
      "$$ m_s(h) = \\delta_s(h - h0) $$\n",
      "\n",
      "Therefore\n",
      "\n",
      "$$  c_{ls} = (2l +1) \\int_{-1}^1 P_l (h) \\delta_s(h - h0) $$\n",
      "\n",
      "$$  c_{ls} = (2l +1)  P_l (h0) $$\n",
      "\n",
      "Let's find the first 4 coefficients for $h0 = 0.25$"
     ]
    },
    {
     "cell_type": "code",
     "collapsed": false,
     "input": [
      "n_coeffs = 4\n",
      "h0 = 0.25\n",
      "\n",
      "coeff = np.zeros(n_coeffs)\n",
      "for ii in range(n_coeffs):\n",
      "    P = Lg.basis(ii)\n",
      "    coeff[ii] = (2 * ii + 1) * P(h0)\n",
      "    \n",
      "print coeff\n",
      "    \n",
      "    \n",
      "    "
     ],
     "language": "python",
     "metadata": {},
     "outputs": [
      {
       "output_type": "stream",
       "stream": "stdout",
       "text": [
        "[ 1.         0.75      -2.03125   -2.3515625]\n"
       ]
      }
     ],
     "prompt_number": 3
    },
    {
     "cell_type": "markdown",
     "metadata": {},
     "source": [
      "Here is some thoughts on doing it without loops."
     ]
    },
    {
     "cell_type": "code",
     "collapsed": false,
     "input": [
      "def eval_h0(h0, basis, order, norm):\n",
      "    basis = basis.basis(order)\n",
      "    return norm(order) * basis(h0)\n",
      "\n",
      "def _get_basis(basis, order, norm):\n",
      "    basis_array = []\n",
      "    for ii in range(order):\n",
      "        basis_array.append(norm(ii) * basis.basis(ii))\n",
      "    return np.array(basis_array)\n",
      "        \n",
      "def Legendre_norm(n):\n",
      "    return 2 * n + 1\n",
      "\n",
      "def _get_states_array(X_shape, n_states):\n",
      "    return np.ones((X_shape) + (n_states,)) * np.arange(n_states)\n"
     ],
     "language": "python",
     "metadata": {},
     "outputs": [],
     "prompt_number": 37
    },
    {
     "cell_type": "code",
     "collapsed": false,
     "input": [
      "eval_h0_vect = np.vectorize(np.vectorize(eval_h0))"
     ],
     "language": "python",
     "metadata": {},
     "outputs": [],
     "prompt_number": 24
    },
    {
     "cell_type": "code",
     "collapsed": false,
     "input": [
      "X = np.array([[0.25, 0.1], [0.5, 0.25]])\n",
      "\n",
      "lg.legval\n",
      "norm = np.eye(3) * ( 2 * np.arange(3) + 1)\n",
      "print norm\n",
      "#weights = 2 * np.arange(3) + 1\n",
      "#print ieys * weights\n",
      "print lg.legval(X, norm, domain=).T"
     ],
     "language": "python",
     "metadata": {},
     "outputs": [
      {
       "output_type": "stream",
       "stream": "stdout",
       "text": [
        "[[-0.5 -0.8]\n",
        " [ 0.  -0.5]]\n",
        "[[ 1.  0.  0.]\n",
        " [ 0.  3.  0.]\n",
        " [ 0.  0.  5.]]\n",
        "(2, 2, 3)\n"
       ]
      }
     ],
     "prompt_number": 6
    },
    {
     "cell_type": "code",
     "collapsed": false,
     "input": [
      "np.random.seed(99)\n",
      "X = np.random.random((1, 2, 3))\n",
      "from pymks.basis import Legendre\n",
      "X_Legendre = Legendre(X, 2, [0, 1])\n",
      "\n",
      "print X.shape\n",
      "print X_Legendre.shape\n",
      "print np.rollaxis(X_Legendre, 0, len(X_Legendre.shape)).shape\n",
      "print np.flipud(X_Legendre[...,])\n",
      "#print X\n",
      "#print X_Legendre"
     ],
     "language": "python",
     "metadata": {},
     "outputs": [
      {
       "output_type": "stream",
       "stream": "stdout",
       "text": [
        "(1, 2, 3)\n",
        "(3, 2, 1, 2)\n",
        "(2, 1, 2, 3)\n"
       ]
      },
      {
       "ename": "AttributeError",
       "evalue": "'module' object has no attribute 'flip'",
       "output_type": "pyerr",
       "traceback": [
        "\u001b[1;31m---------------------------------------------------------------------------\u001b[0m\n\u001b[1;31mAttributeError\u001b[0m                            Traceback (most recent call last)",
        "\u001b[1;32m<ipython-input-68-3b72d3986331>\u001b[0m in \u001b[0;36m<module>\u001b[1;34m()\u001b[0m\n\u001b[0;32m      7\u001b[0m \u001b[1;32mprint\u001b[0m \u001b[0mX_Legendre\u001b[0m\u001b[1;33m.\u001b[0m\u001b[0mshape\u001b[0m\u001b[1;33m\u001b[0m\u001b[0m\n\u001b[0;32m      8\u001b[0m \u001b[1;32mprint\u001b[0m \u001b[0mnp\u001b[0m\u001b[1;33m.\u001b[0m\u001b[0mrollaxis\u001b[0m\u001b[1;33m(\u001b[0m\u001b[0mX_Legendre\u001b[0m\u001b[1;33m,\u001b[0m \u001b[1;36m0\u001b[0m\u001b[1;33m,\u001b[0m \u001b[0mlen\u001b[0m\u001b[1;33m(\u001b[0m\u001b[0mX_Legendre\u001b[0m\u001b[1;33m.\u001b[0m\u001b[0mshape\u001b[0m\u001b[1;33m)\u001b[0m\u001b[1;33m)\u001b[0m\u001b[1;33m.\u001b[0m\u001b[0mshape\u001b[0m\u001b[1;33m\u001b[0m\u001b[0m\n\u001b[1;32m----> 9\u001b[1;33m \u001b[1;32mprint\u001b[0m \u001b[0mnp\u001b[0m\u001b[1;33m.\u001b[0m\u001b[0mflip\u001b[0m\u001b[1;33m(\u001b[0m\u001b[0mup\u001b[0m\u001b[1;33m)\u001b[0m\u001b[1;33m\u001b[0m\u001b[0m\n\u001b[0m\u001b[0;32m     10\u001b[0m \u001b[1;31m#print X\u001b[0m\u001b[1;33m\u001b[0m\u001b[1;33m\u001b[0m\u001b[0m\n\u001b[0;32m     11\u001b[0m \u001b[1;31m#print X_Legendre\u001b[0m\u001b[1;33m\u001b[0m\u001b[1;33m\u001b[0m\u001b[0m\n",
        "\u001b[1;31mAttributeError\u001b[0m: 'module' object has no attribute 'flip'"
       ]
      }
     ],
     "prompt_number": 68
    },
    {
     "cell_type": "code",
     "collapsed": false,
     "input": [
      "import pymks\n",
      "from pymks.datasets import make_cahnHilliard\n",
      "\n",
      "L = 21\n",
      "n_samples = 400\n",
      "\n",
      "np.random.seed(99)\n",
      "X, y = make_cahnHilliard(n_samples=n_samples, size=(L, L))"
     ],
     "language": "python",
     "metadata": {},
     "outputs": [],
     "prompt_number": 23
    },
    {
     "cell_type": "code",
     "collapsed": false,
     "input": [
      "from pymks.basis import Legendre_fft\n",
      "Q = Legendre_fft(X, 3, [0, 1])"
     ],
     "language": "python",
     "metadata": {},
     "outputs": [],
     "prompt_number": 4
    },
    {
     "cell_type": "code",
     "collapsed": false,
     "input": [
      "from pymks.tools import draw_concentrations\n",
      "\n",
      "draw_concentrations(X[0], y[0])"
     ],
     "language": "python",
     "metadata": {},
     "outputs": [
      {
       "output_type": "stream",
       "stream": "stderr",
       "text": [
        "/home/david/anaconda/lib/python2.7/site-packages/matplotlib/figure.py:1595: UserWarning: This figure includes Axes that are not compatible with tight_layout, so its results might be incorrect.\n",
        "  warnings.warn(\"This figure includes Axes that are not \"\n"
       ]
      },
      {
       "metadata": {},
       "output_type": "display_data",
       "png": "[encoded data removed]",
       "text": [
        "<matplotlib.figure.Figure at 0xac576f2c>"
       ]
      }
     ],
     "prompt_number": 51
    },
    {
     "cell_type": "code",
     "collapsed": false,
     "input": [
      "from pymks.tools import optimize_n_states\n",
      "\n",
      "n_states_values = np.arange(2, 21)\n",
      "optm_n_states = optimize_n_states(n_states_values=n_states_values, X=X, y=y, plot=True)"
     ],
     "language": "python",
     "metadata": {},
     "outputs": []
    },
    {
     "cell_type": "code",
     "collapsed": false,
     "input": [
      "A = np.arange(12).reshape(3, 2, 2)\n",
      "print A\n",
      "#print A[..., 0]\n",
      "#print np.flipud(A[..., 0])\n",
      "print np.fliplr(A)\n",
      "print np.flipud(A)\n",
      "print np.rollaxis(np.flipud(A), 0, len(A.shape))"
     ],
     "language": "python",
     "metadata": {},
     "outputs": [
      {
       "output_type": "stream",
       "stream": "stdout",
       "text": [
        "[[[ 0  1]\n",
        "  [ 2  3]]\n",
        "\n",
        " [[ 4  5]\n",
        "  [ 6  7]]\n",
        "\n",
        " [[ 8  9]\n",
        "  [10 11]]]\n",
        "[[[ 2  3]\n",
        "  [ 0  1]]\n",
        "\n",
        " [[ 6  7]\n",
        "  [ 4  5]]\n",
        "\n",
        " [[10 11]\n",
        "  [ 8  9]]]\n",
        "[[[ 8  9]\n",
        "  [10 11]]\n",
        "\n",
        " [[ 4  5]\n",
        "  [ 6  7]]\n",
        "\n",
        " [[ 0  1]\n",
        "  [ 2  3]]]\n",
        "[[[ 8  4  0]\n",
        "  [ 9  5  1]]\n",
        "\n",
        " [[10  6  2]\n",
        "  [11  7  3]]]\n"
       ]
      }
     ],
     "prompt_number": 81
    },
    {
     "cell_type": "code",
     "collapsed": false,
     "input": [
      "import numpy as np\n",
      "from pymks.basis import Chebyshev\n",
      "X = np.array([[0.25, 0.], [0., 0.25]])\n",
      "\n",
      "Chebyshev(X, 3, [0, 1])"
     ],
     "language": "python",
     "metadata": {},
     "outputs": [
      {
       "output_type": "stream",
       "stream": "stdout",
       "text": [
        "[[ 0.31830989  0.          0.        ]\n",
        " [ 0.          0.63661977  0.        ]\n",
        " [ 0.          0.          0.63661977]]\n"
       ]
      },
      {
       "output_type": "stream",
       "stream": "stderr",
       "text": [
        "/home/david/anaconda/lib/python2.7/site-packages/numpy/polynomial/chebyshev.py:1937: RuntimeWarning: divide by zero encountered in true_divide\n",
        "  w = 1./(np.sqrt(1. + x) * np.sqrt(1. - x))\n",
        "/home/david/anaconda/lib/python2.7/site-packages/numpy/polynomial/chebyshev.py:1179: RuntimeWarning: invalid value encountered in multiply\n",
        "  c1 = tmp + c1*x2\n"
       ]
      },
      {
       "metadata": {},
       "output_type": "pyout",
       "prompt_number": 2,
       "text": [
        "array([[[-0.21220659, -0.3675526 ,  0.31830989],\n",
        "        [        inf,         nan,         nan]],\n",
        "\n",
        "       [[        inf,         nan,         nan],\n",
        "        [-0.21220659, -0.3675526 ,  0.31830989]]])"
       ]
      }
     ],
     "prompt_number": 2
    },
    {
     "cell_type": "code",
     "collapsed": false,
     "input": [
      "cheb = np.polynomial.chebyshev \n",
      "cheb.chebval(1., np.eye(4))\n",
      "cheb.chebweight(0.)"
     ],
     "language": "python",
     "metadata": {},
     "outputs": [
      {
       "metadata": {},
       "output_type": "pyout",
       "prompt_number": 3,
       "text": [
        "1.0"
       ]
      }
     ],
     "prompt_number": 3
    },
    {
     "cell_type": "code",
     "collapsed": false,
     "input": [
      "import scipy as sp"
     ],
     "language": "python",
     "metadata": {},
     "outputs": [],
     "prompt_number": 4
    },
    {
     "cell_type": "code",
     "collapsed": false,
     "input": [
      "X = np.array([[0.25, 0.], [1., 0.25]])\n",
      "print np.arange(4) * np.eye(4)\n",
      "np.flipud(sp.special.eval_chebyu(np.arange(2), X))\n",
      "sp.special.eval_chebyu(X, np.arange(4))"
     ],
     "language": "python",
     "metadata": {},
     "outputs": [
      {
       "output_type": "stream",
       "stream": "stdout",
       "text": [
        "[[ 0.  0.  0.  0.]\n",
        " [ 0.  1.  0.  0.]\n",
        " [ 0.  0.  2.  0.]\n",
        " [ 0.  0.  0.  3.]]\n"
       ]
      },
      {
       "ename": "ValueError",
       "evalue": "operands could not be broadcast together with shapes (2,2) (4,) ",
       "output_type": "pyerr",
       "traceback": [
        "\u001b[1;31m---------------------------------------------------------------------------\u001b[0m\n\u001b[1;31mValueError\u001b[0m                                Traceback (most recent call last)",
        "\u001b[1;32m<ipython-input-14-2977541692a3>\u001b[0m in \u001b[0;36m<module>\u001b[1;34m()\u001b[0m\n\u001b[0;32m      2\u001b[0m \u001b[1;32mprint\u001b[0m \u001b[0mnp\u001b[0m\u001b[1;33m.\u001b[0m\u001b[0marange\u001b[0m\u001b[1;33m(\u001b[0m\u001b[1;36m4\u001b[0m\u001b[1;33m)\u001b[0m \u001b[1;33m*\u001b[0m \u001b[0mnp\u001b[0m\u001b[1;33m.\u001b[0m\u001b[0meye\u001b[0m\u001b[1;33m(\u001b[0m\u001b[1;36m4\u001b[0m\u001b[1;33m)\u001b[0m\u001b[1;33m\u001b[0m\u001b[0m\n\u001b[0;32m      3\u001b[0m \u001b[0mnp\u001b[0m\u001b[1;33m.\u001b[0m\u001b[0mflipud\u001b[0m\u001b[1;33m(\u001b[0m\u001b[0msp\u001b[0m\u001b[1;33m.\u001b[0m\u001b[0mspecial\u001b[0m\u001b[1;33m.\u001b[0m\u001b[0meval_chebyu\u001b[0m\u001b[1;33m(\u001b[0m\u001b[0mnp\u001b[0m\u001b[1;33m.\u001b[0m\u001b[0marange\u001b[0m\u001b[1;33m(\u001b[0m\u001b[1;36m2\u001b[0m\u001b[1;33m)\u001b[0m\u001b[1;33m,\u001b[0m \u001b[0mX\u001b[0m\u001b[1;33m)\u001b[0m\u001b[1;33m)\u001b[0m\u001b[1;33m\u001b[0m\u001b[0m\n\u001b[1;32m----> 4\u001b[1;33m \u001b[0msp\u001b[0m\u001b[1;33m.\u001b[0m\u001b[0mspecial\u001b[0m\u001b[1;33m.\u001b[0m\u001b[0meval_chebyu\u001b[0m\u001b[1;33m(\u001b[0m\u001b[0mX\u001b[0m\u001b[1;33m,\u001b[0m \u001b[0mnp\u001b[0m\u001b[1;33m.\u001b[0m\u001b[0marange\u001b[0m\u001b[1;33m(\u001b[0m\u001b[1;36m4\u001b[0m\u001b[1;33m)\u001b[0m\u001b[1;33m)\u001b[0m\u001b[1;33m\u001b[0m\u001b[0m\n\u001b[0m",
        "\u001b[1;31mValueError\u001b[0m: operands could not be broadcast together with shapes (2,2) (4,) "
       ]
      }
     ],
     "prompt_number": 14
    },
    {
     "cell_type": "code",
     "collapsed": false,
     "input": [
      "herm = np.polynomial.hermite\n",
      "X_weight = herm.hermweight(X).repeat(3, axis=1).reshape(2, 2, 3)\n",
      "n = np.arange(3)\n",
      "norm = (np.sqrt(np.pi) * sp.misc.factorial(n) * 2 ** n) ** -1\n",
      "print X\n",
      "print norm \n",
      "print X_weight"
     ],
     "language": "python",
     "metadata": {},
     "outputs": [
      {
       "output_type": "stream",
       "stream": "stdout",
       "text": [
        "[[ 0.25  0.  ]\n",
        " [ 1.    0.25]]\n",
        "[ 0.56418958  0.28209479  0.0705237 ]\n",
        "[[[ 0.93941306  0.93941306  0.93941306]\n",
        "  [ 1.          1.          1.        ]]\n",
        "\n",
        " [[ 0.36787944  0.36787944  0.36787944]\n",
        "  [ 0.93941306  0.93941306  0.93941306]]]\n"
       ]
      }
     ],
     "prompt_number": 71
    },
    {
     "cell_type": "code",
     "collapsed": false,
     "input": [
      "X_Hermite = np.flipud(herm.hermval(X, np.eye(3) * norm))\n",
      "print np.rollaxis(X_Hermite, 0 , len(X_Hermite.shape)) * X_weight\n",
      "\n"
     ],
     "language": "python",
     "metadata": {},
     "outputs": [
      {
       "output_type": "stream",
       "stream": "stdout",
       "text": [
        "[[[-0.11593905  0.13250177  0.53000706]\n",
        "  [-0.1410474   0.          0.56418958]]\n",
        "\n",
        " [[ 0.05188844  0.20755375  0.20755375]\n",
        "  [-0.11593905  0.13250177  0.53000706]]]\n"
       ]
      }
     ],
     "prompt_number": 73
    },
    {
     "cell_type": "code",
     "collapsed": false,
     "input": [
      "import numpy as np\n",
      "from pymks.basis import Hermite\n",
      "\n",
      "X = np.array([[0.25, 0.], [1., 0.25]]) \n",
      "Hermite(X, 3, domain=[0, 1])"
     ],
     "language": "python",
     "metadata": {},
     "outputs": [
      {
       "metadata": {},
       "output_type": "pyout",
       "prompt_number": 2,
       "text": [
        "array([[[-0.11593905,  0.13250177,  0.53000706],\n",
        "        [-0.1410474 ,  0.        ,  0.56418958]],\n",
        "\n",
        "       [[ 0.05188844,  0.20755375,  0.20755375],\n",
        "        [-0.11593905,  0.13250177,  0.53000706]]])"
       ]
      }
     ],
     "prompt_number": 2
    },
    {
     "cell_type": "code",
     "collapsed": false,
     "input": [
      "from pymks.basis import Legendre\n",
      "Xleg = np.array([[0.25, 0.1], [0.5, 0.25]])\n",
      "Legendre(Xleg, 3, domain=[0, 1])"
     ],
     "language": "python",
     "metadata": {},
     "outputs": [
      {
       "metadata": {},
       "output_type": "pyout",
       "prompt_number": 3,
       "text": [
        "array([[[-0.3125, -0.75  ,  0.5   ],\n",
        "        [ 1.15  , -1.2   ,  0.5   ]],\n",
        "\n",
        "       [[-1.25  ,  0.    ,  0.5   ],\n",
        "        [-0.3125, -0.75  ,  0.5   ]]])"
       ]
      }
     ],
     "prompt_number": 3
    },
    {
     "cell_type": "code",
     "collapsed": false,
     "input": [
      "from pymks.basis import Hermite_fft"
     ],
     "language": "python",
     "metadata": {},
     "outputs": []
    }
   ],
   "metadata": {}
  }
 ]
}